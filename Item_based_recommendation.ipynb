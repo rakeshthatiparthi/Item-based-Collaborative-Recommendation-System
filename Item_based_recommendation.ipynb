{
  "nbformat": 4,
  "nbformat_minor": 0,
  "metadata": {
    "colab": {
      "name": "Item based recommendation.ipynb",
      "provenance": [],
      "collapsed_sections": [],
      "machine_shape": "hm"
    },
    "kernelspec": {
      "display_name": "Python 3",
      "name": "python3"
    }
  },
  "cells": [
    {
      "cell_type": "code",
      "metadata": {
        "id": "fu9aUgbTm88u"
      },
      "source": [
        "import pandas as pd\r\n",
        "from matplotlib import pyplot as plt"
      ],
      "execution_count": 64,
      "outputs": []
    },
    {
      "cell_type": "code",
      "metadata": {
        "colab": {
          "base_uri": "https://localhost:8080/"
        },
        "id": "BR8EhymS4Hjs",
        "outputId": "c21d497c-840a-4eba-c7ae-cab88da1ce0a"
      },
      "source": [
        "from google.colab import drive\n",
        "drive.mount('/content/drive')"
      ],
      "execution_count": 65,
      "outputs": [
        {
          "output_type": "stream",
          "text": [
            "Drive already mounted at /content/drive; to attempt to forcibly remount, call drive.mount(\"/content/drive\", force_remount=True).\n"
          ],
          "name": "stdout"
        }
      ]
    },
    {
      "cell_type": "markdown",
      "metadata": {
        "id": "jI2DGSRdQRbD"
      },
      "source": [
        "Import datasets"
      ]
    },
    {
      "cell_type": "code",
      "metadata": {
        "colab": {
          "base_uri": "https://localhost:8080/",
          "height": 198
        },
        "id": "HBLMojFYWG3Z",
        "outputId": "f1d18f30-b9eb-4c9a-eb0c-96816d7127b5"
      },
      "source": [
        "df_items=pd.read_csv(\"/content/drive/MyDrive/PERSONAL PROJECT/Recommendation System/Toys and Games Metadata dataset.csv\")\r\n",
        "df_items.head()"
      ],
      "execution_count": 67,
      "outputs": [
        {
          "output_type": "execute_result",
          "data": {
            "text/html": [
              "<div>\n",
              "<style scoped>\n",
              "    .dataframe tbody tr th:only-of-type {\n",
              "        vertical-align: middle;\n",
              "    }\n",
              "\n",
              "    .dataframe tbody tr th {\n",
              "        vertical-align: top;\n",
              "    }\n",
              "\n",
              "    .dataframe thead th {\n",
              "        text-align: right;\n",
              "    }\n",
              "</style>\n",
              "<table border=\"1\" class=\"dataframe\">\n",
              "  <thead>\n",
              "    <tr style=\"text-align: right;\">\n",
              "      <th></th>\n",
              "      <th>asin</th>\n",
              "      <th>title</th>\n",
              "    </tr>\n",
              "  </thead>\n",
              "  <tbody>\n",
              "    <tr>\n",
              "      <th>0</th>\n",
              "      <td>0000191639</td>\n",
              "      <td>Dr. Suess 19163 Dr. Seuss Puzzle 3 Pack Bundle</td>\n",
              "    </tr>\n",
              "    <tr>\n",
              "      <th>1</th>\n",
              "      <td>0004950763</td>\n",
              "      <td>Pathfinder: Book of Beasts - Legendary Foes</td>\n",
              "    </tr>\n",
              "    <tr>\n",
              "      <th>2</th>\n",
              "      <td>0005069491</td>\n",
              "      <td>Nursery Rhymes Felt Book</td>\n",
              "    </tr>\n",
              "    <tr>\n",
              "      <th>3</th>\n",
              "      <td>0004983289</td>\n",
              "      <td>Dutch Blitz Card Game</td>\n",
              "    </tr>\n",
              "    <tr>\n",
              "      <th>4</th>\n",
              "      <td>0006466222</td>\n",
              "      <td>Magic Pen Painting (Marvel Super Heroes)</td>\n",
              "    </tr>\n",
              "  </tbody>\n",
              "</table>\n",
              "</div>"
            ],
            "text/plain": [
              "         asin                                           title\n",
              "0  0000191639  Dr. Suess 19163 Dr. Seuss Puzzle 3 Pack Bundle\n",
              "1  0004950763     Pathfinder: Book of Beasts - Legendary Foes\n",
              "2  0005069491                        Nursery Rhymes Felt Book\n",
              "3  0004983289                           Dutch Blitz Card Game\n",
              "4  0006466222        Magic Pen Painting (Marvel Super Heroes)"
            ]
          },
          "metadata": {
            "tags": []
          },
          "execution_count": 67
        }
      ]
    },
    {
      "cell_type": "code",
      "metadata": {
        "colab": {
          "base_uri": "https://localhost:8080/",
          "height": 198
        },
        "id": "LJ53lKsqWLPx",
        "outputId": "5fbd47a3-3c04-4863-8df6-5fc49c055eb0"
      },
      "source": [
        "df_ratings=pd.read_csv(\"/content/drive/MyDrive/PERSONAL PROJECT/Recommendation System/toys and games ratings dataset.csv\")\r\n",
        "df_ratings.head()"
      ],
      "execution_count": 68,
      "outputs": [
        {
          "output_type": "execute_result",
          "data": {
            "text/html": [
              "<div>\n",
              "<style scoped>\n",
              "    .dataframe tbody tr th:only-of-type {\n",
              "        vertical-align: middle;\n",
              "    }\n",
              "\n",
              "    .dataframe tbody tr th {\n",
              "        vertical-align: top;\n",
              "    }\n",
              "\n",
              "    .dataframe thead th {\n",
              "        text-align: right;\n",
              "    }\n",
              "</style>\n",
              "<table border=\"1\" class=\"dataframe\">\n",
              "  <thead>\n",
              "    <tr style=\"text-align: right;\">\n",
              "      <th></th>\n",
              "      <th>ratings</th>\n",
              "      <th>reviewerID</th>\n",
              "      <th>asin</th>\n",
              "    </tr>\n",
              "  </thead>\n",
              "  <tbody>\n",
              "    <tr>\n",
              "      <th>0</th>\n",
              "      <td>5.0</td>\n",
              "      <td>AWIR3UBL405QJ</td>\n",
              "      <td>0692770445</td>\n",
              "    </tr>\n",
              "    <tr>\n",
              "      <th>1</th>\n",
              "      <td>5.0</td>\n",
              "      <td>A1DFLJ9TJ9PH80</td>\n",
              "      <td>0692770445</td>\n",
              "    </tr>\n",
              "    <tr>\n",
              "      <th>2</th>\n",
              "      <td>5.0</td>\n",
              "      <td>A1K1J2TG88SOH8</td>\n",
              "      <td>0692770445</td>\n",
              "    </tr>\n",
              "    <tr>\n",
              "      <th>3</th>\n",
              "      <td>5.0</td>\n",
              "      <td>AOID2AE5OGHQM</td>\n",
              "      <td>0692770445</td>\n",
              "    </tr>\n",
              "    <tr>\n",
              "      <th>4</th>\n",
              "      <td>1.0</td>\n",
              "      <td>A3ILHRAH8ZRCBD</td>\n",
              "      <td>0692770445</td>\n",
              "    </tr>\n",
              "  </tbody>\n",
              "</table>\n",
              "</div>"
            ],
            "text/plain": [
              "   ratings      reviewerID        asin\n",
              "0      5.0   AWIR3UBL405QJ  0692770445\n",
              "1      5.0  A1DFLJ9TJ9PH80  0692770445\n",
              "2      5.0  A1K1J2TG88SOH8  0692770445\n",
              "3      5.0   AOID2AE5OGHQM  0692770445\n",
              "4      1.0  A3ILHRAH8ZRCBD  0692770445"
            ]
          },
          "metadata": {
            "tags": []
          },
          "execution_count": 68
        }
      ]
    },
    {
      "cell_type": "markdown",
      "metadata": {
        "id": "VG4WHdtGQd_0"
      },
      "source": [
        "merge items dataset and ratings dataset into one dataframe based on column 'asin'"
      ]
    },
    {
      "cell_type": "code",
      "metadata": {
        "colab": {
          "base_uri": "https://localhost:8080/",
          "height": 198
        },
        "id": "Y6eY40wQWNH5",
        "outputId": "a43b8ec7-83e6-4447-e1d6-5d9459b47096"
      },
      "source": [
        "df=pd.merge(df_items,df_ratings,on='asin')\r\n",
        "df.head()"
      ],
      "execution_count": 69,
      "outputs": [
        {
          "output_type": "execute_result",
          "data": {
            "text/html": [
              "<div>\n",
              "<style scoped>\n",
              "    .dataframe tbody tr th:only-of-type {\n",
              "        vertical-align: middle;\n",
              "    }\n",
              "\n",
              "    .dataframe tbody tr th {\n",
              "        vertical-align: top;\n",
              "    }\n",
              "\n",
              "    .dataframe thead th {\n",
              "        text-align: right;\n",
              "    }\n",
              "</style>\n",
              "<table border=\"1\" class=\"dataframe\">\n",
              "  <thead>\n",
              "    <tr style=\"text-align: right;\">\n",
              "      <th></th>\n",
              "      <th>asin</th>\n",
              "      <th>title</th>\n",
              "      <th>ratings</th>\n",
              "      <th>reviewerID</th>\n",
              "    </tr>\n",
              "  </thead>\n",
              "  <tbody>\n",
              "    <tr>\n",
              "      <th>0</th>\n",
              "      <td>0004983289</td>\n",
              "      <td>Dutch Blitz Card Game</td>\n",
              "      <td>5.0</td>\n",
              "      <td>ASZZ869682237</td>\n",
              "    </tr>\n",
              "    <tr>\n",
              "      <th>1</th>\n",
              "      <td>0020232233</td>\n",
              "      <td>Dungeons &amp;amp; Dragons - &amp;quot;Storm Kings Thu...</td>\n",
              "      <td>5.0</td>\n",
              "      <td>A13X6BJ3LPQ39L</td>\n",
              "    </tr>\n",
              "    <tr>\n",
              "      <th>2</th>\n",
              "      <td>0020232233</td>\n",
              "      <td>Dungeons &amp;amp; Dragons - &amp;quot;Storm Kings Thu...</td>\n",
              "      <td>5.0</td>\n",
              "      <td>A3RWLC7AAFQNNV</td>\n",
              "    </tr>\n",
              "    <tr>\n",
              "      <th>3</th>\n",
              "      <td>0020232233</td>\n",
              "      <td>Dungeons &amp;amp; Dragons - &amp;quot;Storm Kings Thu...</td>\n",
              "      <td>4.0</td>\n",
              "      <td>A1WBQ8GWYGLVPZ</td>\n",
              "    </tr>\n",
              "    <tr>\n",
              "      <th>4</th>\n",
              "      <td>038536539X</td>\n",
              "      <td>Penguin Random House Punderdome Deluxe Card Game</td>\n",
              "      <td>5.0</td>\n",
              "      <td>A1RVKZOG1TYJT2</td>\n",
              "    </tr>\n",
              "  </tbody>\n",
              "</table>\n",
              "</div>"
            ],
            "text/plain": [
              "         asin  ...      reviewerID\n",
              "0  0004983289  ...   ASZZ869682237\n",
              "1  0020232233  ...  A13X6BJ3LPQ39L\n",
              "2  0020232233  ...  A3RWLC7AAFQNNV\n",
              "3  0020232233  ...  A1WBQ8GWYGLVPZ\n",
              "4  038536539X  ...  A1RVKZOG1TYJT2\n",
              "\n",
              "[5 rows x 4 columns]"
            ]
          },
          "metadata": {
            "tags": []
          },
          "execution_count": 69
        }
      ]
    },
    {
      "cell_type": "code",
      "metadata": {
        "colab": {
          "base_uri": "https://localhost:8080/"
        },
        "id": "xlyurqDRWgkt",
        "outputId": "a232b483-317b-4a49-d509-41fd8cc01de6"
      },
      "source": [
        "df.shape "
      ],
      "execution_count": 70,
      "outputs": [
        {
          "output_type": "execute_result",
          "data": {
            "text/plain": [
              "(562901, 4)"
            ]
          },
          "metadata": {
            "tags": []
          },
          "execution_count": 70
        }
      ]
    },
    {
      "cell_type": "code",
      "metadata": {
        "colab": {
          "base_uri": "https://localhost:8080/"
        },
        "id": "_etsR-p-WgoM",
        "outputId": "c4a34c96-9ab0-48e8-e78d-a68a36a4de77"
      },
      "source": [
        "num_users = len(df.reviewerID.unique())\r\n",
        "num_items = len(df.title.unique())\r\n",
        "print('There are {} unique users and {} unique items in this data set'.format(num_users, num_items))"
      ],
      "execution_count": 71,
      "outputs": [
        {
          "output_type": "stream",
          "text": [
            "There are 414672 unique users and 115183 unique items in this data set\n"
          ],
          "name": "stdout"
        }
      ]
    },
    {
      "cell_type": "code",
      "metadata": {
        "colab": {
          "base_uri": "https://localhost:8080/"
        },
        "id": "iiM8NHfBWgrU",
        "outputId": "0140d50d-254b-4d2f-b9be-0b20e7de8618"
      },
      "source": [
        "df.groupby('title')['reviewerID'].count().sort_values()"
      ],
      "execution_count": 72,
      "outputs": [
        {
          "output_type": "execute_result",
          "data": {
            "text/plain": [
              "title\n",
              "Lalaloopsy Girls Crazy Hair Doll- Scoops Waffle Cone                                                                                                                                                            1\n",
              "Marvel Captain America Bunker                                                                                                                                                                                   1\n",
              "Marvel Beast: Funko Dorbz x Universe Mini Vinyl Figure + 1 FREE Official Trading Card Bundle [59491]                                                                                                            1\n",
              "Marvel Batman v Superman Party Favor Gift Goodie Bag - 48 Pieces                                                                                                                                                1\n",
              "Marvel Backpack Ant-Man Large School Bag New 613464                                                                                                                                                             1\n",
              "                                                                                                                                                                                                             ... \n",
              "Prextex Realistic Looking 7&quot; Dinosaurs Pack of 12 Large Plastic Assorted Dinosaur Figures with Dinosaur Book                                                                                             598\n",
              "Cards Against Humanity                                                                                                                                                                                        662\n",
              "Exploding Kittens Card Game                                                                                                                                                                                   753\n",
              "Fox Print Princess Castle Play Tent with Glow in The Dark Stars, conveniently Folds in to a Carrying Case, Your Kids Will Enjoy This Foldable Pop Up Pink Play Tent/House Toy for Indoor &amp; Outdoor Use    955\n",
              "HeadShot Ammo [110 Rounds] Nerf Rival Compatible Ammo Bulk Yellow Foam Bullet Ball Replacement Refill Pack for Apollo, Zeus, Khaos, Atlas, &amp; Artemis Blasters (HIR, High-Impact Rounds - Yellow)          966\n",
              "Name: reviewerID, Length: 115183, dtype: int64"
            ]
          },
          "metadata": {
            "tags": []
          },
          "execution_count": 72
        }
      ]
    },
    {
      "cell_type": "markdown",
      "metadata": {
        "id": "EFaBatBxQteG"
      },
      "source": [
        "**Observation**\r\n",
        "\r\n",
        "some items(toys and games) has few ratings, to make recommedation robust taking the items which has ratings above 50"
      ]
    },
    {
      "cell_type": "code",
      "metadata": {
        "id": "sE5jZL5ZXG4z"
      },
      "source": [
        "df2=df.groupby(\"title\").filter(lambda x:x['ratings'].count() >=50)"
      ],
      "execution_count": 73,
      "outputs": []
    },
    {
      "cell_type": "code",
      "metadata": {
        "colab": {
          "base_uri": "https://localhost:8080/"
        },
        "id": "V3Pq15IRXG_w",
        "outputId": "a42b11cc-7235-4da9-b08e-9b32a93d7752"
      },
      "source": [
        "df2.shape "
      ],
      "execution_count": 74,
      "outputs": [
        {
          "output_type": "execute_result",
          "data": {
            "text/plain": [
              "(155280, 4)"
            ]
          },
          "metadata": {
            "tags": []
          },
          "execution_count": 74
        }
      ]
    },
    {
      "cell_type": "code",
      "metadata": {
        "colab": {
          "base_uri": "https://localhost:8080/"
        },
        "id": "MNkdfTgqgSvW",
        "outputId": "61464a60-b2eb-48ac-ebe6-27ea89358daa"
      },
      "source": [
        "df2.groupby('title')['reviewerID'].count().sort_values()"
      ],
      "execution_count": 75,
      "outputs": [
        {
          "output_type": "execute_result",
          "data": {
            "text/plain": [
              "title\n",
              "Rienar Accurate Spinning Top, Vintage Totem Zinc Alloy Silver Toy Gift                                                                                                                                         50\n",
              "Utter Nonsense Naughty Edition                                                                                                                                                                                 50\n",
              "Toysmith Marbles in a Tin Box                                                                                                                                                                                  50\n",
              "Aurora World Inc. 7&quot; Jellyroll - Unicorn                                                                                                                                                                  50\n",
              "Funko POP Exclusive Mystery Starter Pack Set of 10 &quot;Includes 10 Random Funko POPS Will Vary and No Duplicates&quot;                                                                                       50\n",
              "                                                                                                                                                                                                             ... \n",
              "Prextex Realistic Looking 7&quot; Dinosaurs Pack of 12 Large Plastic Assorted Dinosaur Figures with Dinosaur Book                                                                                             598\n",
              "Cards Against Humanity                                                                                                                                                                                        662\n",
              "Exploding Kittens Card Game                                                                                                                                                                                   753\n",
              "Fox Print Princess Castle Play Tent with Glow in The Dark Stars, conveniently Folds in to a Carrying Case, Your Kids Will Enjoy This Foldable Pop Up Pink Play Tent/House Toy for Indoor &amp; Outdoor Use    955\n",
              "HeadShot Ammo [110 Rounds] Nerf Rival Compatible Ammo Bulk Yellow Foam Bullet Ball Replacement Refill Pack for Apollo, Zeus, Khaos, Atlas, &amp; Artemis Blasters (HIR, High-Impact Rounds - Yellow)          966\n",
              "Name: reviewerID, Length: 1493, dtype: int64"
            ]
          },
          "metadata": {
            "tags": []
          },
          "execution_count": 75
        }
      ]
    },
    {
      "cell_type": "code",
      "metadata": {
        "colab": {
          "base_uri": "https://localhost:8080/",
          "height": 198
        },
        "id": "Fl8r2aUCX0ha",
        "outputId": "bc5d2b29-7088-4347-81ff-fdbfe5498995"
      },
      "source": [
        "df2.head()"
      ],
      "execution_count": 76,
      "outputs": [
        {
          "output_type": "execute_result",
          "data": {
            "text/html": [
              "<div>\n",
              "<style scoped>\n",
              "    .dataframe tbody tr th:only-of-type {\n",
              "        vertical-align: middle;\n",
              "    }\n",
              "\n",
              "    .dataframe tbody tr th {\n",
              "        vertical-align: top;\n",
              "    }\n",
              "\n",
              "    .dataframe thead th {\n",
              "        text-align: right;\n",
              "    }\n",
              "</style>\n",
              "<table border=\"1\" class=\"dataframe\">\n",
              "  <thead>\n",
              "    <tr style=\"text-align: right;\">\n",
              "      <th></th>\n",
              "      <th>asin</th>\n",
              "      <th>title</th>\n",
              "      <th>ratings</th>\n",
              "      <th>reviewerID</th>\n",
              "    </tr>\n",
              "  </thead>\n",
              "  <tbody>\n",
              "    <tr>\n",
              "      <th>164</th>\n",
              "      <td>0963469150</td>\n",
              "      <td>Quiddler Card Game</td>\n",
              "      <td>5.0</td>\n",
              "      <td>A6QY7I3MDYQI8</td>\n",
              "    </tr>\n",
              "    <tr>\n",
              "      <th>165</th>\n",
              "      <td>0963469150</td>\n",
              "      <td>Quiddler Card Game</td>\n",
              "      <td>5.0</td>\n",
              "      <td>AHB8WVX90QY2N</td>\n",
              "    </tr>\n",
              "    <tr>\n",
              "      <th>166</th>\n",
              "      <td>0963469150</td>\n",
              "      <td>Quiddler Card Game</td>\n",
              "      <td>3.0</td>\n",
              "      <td>A19YHF2NUIQ6BS</td>\n",
              "    </tr>\n",
              "    <tr>\n",
              "      <th>167</th>\n",
              "      <td>0963469150</td>\n",
              "      <td>Quiddler Card Game</td>\n",
              "      <td>5.0</td>\n",
              "      <td>A2OJQCCW0Y1EJP</td>\n",
              "    </tr>\n",
              "    <tr>\n",
              "      <th>168</th>\n",
              "      <td>0963469150</td>\n",
              "      <td>Quiddler Card Game</td>\n",
              "      <td>5.0</td>\n",
              "      <td>A9CJASAA9317H</td>\n",
              "    </tr>\n",
              "  </tbody>\n",
              "</table>\n",
              "</div>"
            ],
            "text/plain": [
              "           asin               title  ratings      reviewerID\n",
              "164  0963469150  Quiddler Card Game      5.0   A6QY7I3MDYQI8\n",
              "165  0963469150  Quiddler Card Game      5.0   AHB8WVX90QY2N\n",
              "166  0963469150  Quiddler Card Game      3.0  A19YHF2NUIQ6BS\n",
              "167  0963469150  Quiddler Card Game      5.0  A2OJQCCW0Y1EJP\n",
              "168  0963469150  Quiddler Card Game      5.0   A9CJASAA9317H"
            ]
          },
          "metadata": {
            "tags": []
          },
          "execution_count": 76
        }
      ]
    },
    {
      "cell_type": "code",
      "metadata": {
        "colab": {
          "base_uri": "https://localhost:8080/",
          "height": 198
        },
        "id": "apFeFrz8KV41",
        "outputId": "0b06c5a1-8e30-4cce-8cc9-cedb5a812818"
      },
      "source": [
        "df2.reset_index(inplace = True,drop=True) \r\n",
        "df2.head()"
      ],
      "execution_count": 77,
      "outputs": [
        {
          "output_type": "execute_result",
          "data": {
            "text/html": [
              "<div>\n",
              "<style scoped>\n",
              "    .dataframe tbody tr th:only-of-type {\n",
              "        vertical-align: middle;\n",
              "    }\n",
              "\n",
              "    .dataframe tbody tr th {\n",
              "        vertical-align: top;\n",
              "    }\n",
              "\n",
              "    .dataframe thead th {\n",
              "        text-align: right;\n",
              "    }\n",
              "</style>\n",
              "<table border=\"1\" class=\"dataframe\">\n",
              "  <thead>\n",
              "    <tr style=\"text-align: right;\">\n",
              "      <th></th>\n",
              "      <th>asin</th>\n",
              "      <th>title</th>\n",
              "      <th>ratings</th>\n",
              "      <th>reviewerID</th>\n",
              "    </tr>\n",
              "  </thead>\n",
              "  <tbody>\n",
              "    <tr>\n",
              "      <th>0</th>\n",
              "      <td>0963469150</td>\n",
              "      <td>Quiddler Card Game</td>\n",
              "      <td>5.0</td>\n",
              "      <td>A6QY7I3MDYQI8</td>\n",
              "    </tr>\n",
              "    <tr>\n",
              "      <th>1</th>\n",
              "      <td>0963469150</td>\n",
              "      <td>Quiddler Card Game</td>\n",
              "      <td>5.0</td>\n",
              "      <td>AHB8WVX90QY2N</td>\n",
              "    </tr>\n",
              "    <tr>\n",
              "      <th>2</th>\n",
              "      <td>0963469150</td>\n",
              "      <td>Quiddler Card Game</td>\n",
              "      <td>3.0</td>\n",
              "      <td>A19YHF2NUIQ6BS</td>\n",
              "    </tr>\n",
              "    <tr>\n",
              "      <th>3</th>\n",
              "      <td>0963469150</td>\n",
              "      <td>Quiddler Card Game</td>\n",
              "      <td>5.0</td>\n",
              "      <td>A2OJQCCW0Y1EJP</td>\n",
              "    </tr>\n",
              "    <tr>\n",
              "      <th>4</th>\n",
              "      <td>0963469150</td>\n",
              "      <td>Quiddler Card Game</td>\n",
              "      <td>5.0</td>\n",
              "      <td>A9CJASAA9317H</td>\n",
              "    </tr>\n",
              "  </tbody>\n",
              "</table>\n",
              "</div>"
            ],
            "text/plain": [
              "         asin               title  ratings      reviewerID\n",
              "0  0963469150  Quiddler Card Game      5.0   A6QY7I3MDYQI8\n",
              "1  0963469150  Quiddler Card Game      5.0   AHB8WVX90QY2N\n",
              "2  0963469150  Quiddler Card Game      3.0  A19YHF2NUIQ6BS\n",
              "3  0963469150  Quiddler Card Game      5.0  A2OJQCCW0Y1EJP\n",
              "4  0963469150  Quiddler Card Game      5.0   A9CJASAA9317H"
            ]
          },
          "metadata": {
            "tags": []
          },
          "execution_count": 77
        }
      ]
    },
    {
      "cell_type": "code",
      "metadata": {
        "colab": {
          "base_uri": "https://localhost:8080/"
        },
        "id": "qJeVPvQTYGZi",
        "outputId": "f6a65260-af7c-4550-f064-0c66ccc67529"
      },
      "source": [
        "num_users = len(df2.reviewerID.unique())\r\n",
        "num_items = len(df2.title.unique())\r\n",
        "print('There are {} unique users and {} unique items in this data set'.format(num_users, num_items))"
      ],
      "execution_count": 78,
      "outputs": [
        {
          "output_type": "stream",
          "text": [
            "There are 135654 unique users and 1493 unique items in this data set\n"
          ],
          "name": "stdout"
        }
      ]
    },
    {
      "cell_type": "code",
      "metadata": {
        "colab": {
          "base_uri": "https://localhost:8080/"
        },
        "id": "phevYN38RKCv",
        "outputId": "8734389d-91a2-4136-e2bd-e905453d7bd2"
      },
      "source": [
        "#Most rated toys and games \r\n",
        "df2['title'].value_counts()[:5]"
      ],
      "execution_count": 79,
      "outputs": [
        {
          "output_type": "execute_result",
          "data": {
            "text/plain": [
              "HeadShot Ammo [110 Rounds] Nerf Rival Compatible Ammo Bulk Yellow Foam Bullet Ball Replacement Refill Pack for Apollo, Zeus, Khaos, Atlas, &amp; Artemis Blasters (HIR, High-Impact Rounds - Yellow)          966\n",
              "Fox Print Princess Castle Play Tent with Glow in The Dark Stars, conveniently Folds in to a Carrying Case, Your Kids Will Enjoy This Foldable Pop Up Pink Play Tent/House Toy for Indoor &amp; Outdoor Use    955\n",
              "Exploding Kittens Card Game                                                                                                                                                                                   753\n",
              "Cards Against Humanity                                                                                                                                                                                        662\n",
              "Prextex Realistic Looking 7&quot; Dinosaurs Pack of 12 Large Plastic Assorted Dinosaur Figures with Dinosaur Book                                                                                             598\n",
              "Name: title, dtype: int64"
            ]
          },
          "metadata": {
            "tags": []
          },
          "execution_count": 79
        }
      ]
    },
    {
      "cell_type": "code",
      "metadata": {
        "colab": {
          "base_uri": "https://localhost:8080/"
        },
        "id": "8bvQGfvERKHD",
        "outputId": "ef02d0e5-aaf8-4a01-e029-12975a3f9ef1"
      },
      "source": [
        "# Top users based on most no.of times ratings given to items\r\n",
        "df2['reviewerID'].value_counts()[:5]"
      ],
      "execution_count": 80,
      "outputs": [
        {
          "output_type": "execute_result",
          "data": {
            "text/plain": [
              "A1FR3683TSOZ2D    18\n",
              "A3IYDWUQHU4URV    15\n",
              "A2DNIQOZUJ7W2B    13\n",
              "AF3Z8GVXAPMSP     13\n",
              "A2HZJZXALM5B4J    12\n",
              "Name: reviewerID, dtype: int64"
            ]
          },
          "metadata": {
            "tags": []
          },
          "execution_count": 80
        }
      ]
    },
    {
      "cell_type": "code",
      "metadata": {
        "colab": {
          "base_uri": "https://localhost:8080/"
        },
        "id": "ReyAWFNsRKKx",
        "outputId": "93635952-5e37-441f-fb24-35f203dd4363"
      },
      "source": [
        "df2['ratings'].value_counts()"
      ],
      "execution_count": 81,
      "outputs": [
        {
          "output_type": "execute_result",
          "data": {
            "text/plain": [
              "5.0    109130\n",
              "4.0     16941\n",
              "1.0     12676\n",
              "3.0      9858\n",
              "2.0      6675\n",
              "Name: ratings, dtype: int64"
            ]
          },
          "metadata": {
            "tags": []
          },
          "execution_count": 81
        }
      ]
    },
    {
      "cell_type": "code",
      "metadata": {
        "colab": {
          "base_uri": "https://localhost:8080/",
          "height": 265
        },
        "id": "crSHfv4oRKOo",
        "outputId": "4e32b205-a73f-4f15-f684-900e9690da1d"
      },
      "source": [
        "import seaborn as sns\r\n",
        "sns.barplot(x=df2['ratings'].value_counts().index,y=df2['ratings'].value_counts().values, data=df2)\r\n",
        "plt.show()"
      ],
      "execution_count": 82,
      "outputs": [
        {
          "output_type": "display_data",
          "data": {
            "image/png": "[encoded data removed]",
            "text/plain": [
              "<Figure size 432x288 with 1 Axes>"
            ]
          },
          "metadata": {
            "tags": [],
            "needs_background": "light"
          }
        }
      ]
    },
    {
      "cell_type": "markdown",
      "metadata": {
        "id": "_zbT9aXkS_Yq"
      },
      "source": [
        "in this dataset most items get 5 ratings\r\n",
        "\r\n",
        "\r\n",
        "\r\n"
      ]
    },
    {
      "cell_type": "code",
      "metadata": {
        "id": "gzDWveE-RKqp"
      },
      "source": [
        ""
      ],
      "execution_count": null,
      "outputs": []
    },
    {
      "cell_type": "code",
      "metadata": {
        "id": "yw0I2kSZWgus"
      },
      "source": [
        "# item-user matrix \r\n",
        "item_user_matrix = pd.pivot_table(data=df2,index=\"title\",columns=\"reviewerID\",values=\"ratings\").fillna(0)"
      ],
      "execution_count": 83,
      "outputs": []
    },
    {
      "cell_type": "code",
      "metadata": {
        "colab": {
          "base_uri": "https://localhost:8080/",
          "height": 1000
        },
        "id": "w3eUgKDhWnL2",
        "outputId": "f4b7bbf4-ad5a-4348-e5ab-9d81908e4d59"
      },
      "source": [
        "item_user_matrix.head()"
      ],
      "execution_count": 84,
      "outputs": [
        {
          "output_type": "execute_result",
          "data": {
            "text/html": [
              "<div>\n",
              "<style scoped>\n",
              "    .dataframe tbody tr th:only-of-type {\n",
              "        vertical-align: middle;\n",
              "    }\n",
              "\n",
              "    .dataframe tbody tr th {\n",
              "        vertical-align: top;\n",
              "    }\n",
              "\n",
              "    .dataframe thead th {\n",
              "        text-align: right;\n",
              "    }\n",
              "</style>\n",
              "<table border=\"1\" class=\"dataframe\">\n",
              "  <thead>\n",
              "    <tr style=\"text-align: right;\">\n",
              "      <th>reviewerID</th>\n",
              "      <th>A0014958J6WGO905GVK1</th>\n",
              "      <th>A0039616V1YY3K317AU</th>\n",
              "      <th>A00674433NOV21GAWV0T</th>\n",
              "      <th>A0074973GJE70A8CM9IJ</th>\n",
              "      <th>A0080055DD81KOGDOWPS</th>\n",
              "      <th>A0090953K7LNUG6UPMI6</th>\n",
              "      <th>A0106211TYFVD0QSK5G4</th>\n",
              "      <th>A0108721SZ7KFUN6B9GY</th>\n",
              "      <th>A0133814GP50K7QGS2R2</th>\n",
              "      <th>A01441725FZ4Q7FQ8RYK</th>\n",
              "      <th>A0150800A8I6US9GGZNI</th>\n",
              "      <th>A0163630T5PJPHRN5W1L</th>\n",
              "      <th>A0168108D3MS83PBNHSZ</th>\n",
              "      <th>A018628592MFETNAUHT3</th>\n",
              "      <th>A02230873ITG8LEJEJEN</th>\n",
              "      <th>A0227309CULULL7UXXZN</th>\n",
              "      <th>A0236409GDE0JXKXIMPP</th>\n",
              "      <th>A0245825TGZGEHLKA09N</th>\n",
              "      <th>A0251779FWI1FDQVJWL8</th>\n",
              "      <th>A0263308HWXB59DMZXXZ</th>\n",
              "      <th>A0263554BQYZR6K7M6T0</th>\n",
              "      <th>A0265844419UMMVRV8FW</th>\n",
              "      <th>A0275316TA9S35RF9EYB</th>\n",
              "      <th>A02843323AIEJ53TSE1Y</th>\n",
              "      <th>A0304352C8P9I7WKWGX1</th>\n",
              "      <th>A0342561RVCLI503YSJJ</th>\n",
              "      <th>A036147939NFPC389VLK</th>\n",
              "      <th>A03690638RLHYCUK9KX2</th>\n",
              "      <th>A0377563U62QXJNEXZQY</th>\n",
              "      <th>A0393169BIQPDE4DIPG4</th>\n",
              "      <th>A0455940O5EUXQDU46QL</th>\n",
              "      <th>A0499489TA7X6L1S9LPM</th>\n",
              "      <th>A0514467WUL1V2QZ53PP</th>\n",
              "      <th>A0523141AVZ9WGQB038C</th>\n",
              "      <th>A0525738PA001FRVL6PM</th>\n",
              "      <th>A053992096VJKDCM8ZTP</th>\n",
              "      <th>A05611744VTMPI3REVWB</th>\n",
              "      <th>A0580432C8RPXIYN4ZQ8</th>\n",
              "      <th>A0588896AIMW1RNXSXVR</th>\n",
              "      <th>A0605481SGI433IU6KJ9</th>\n",
              "      <th>...</th>\n",
              "      <th>AZYG76CVQ6K85</th>\n",
              "      <th>AZYIVEBM8IC75</th>\n",
              "      <th>AZYJAOCVN5K2H</th>\n",
              "      <th>AZYJXF751CMWI</th>\n",
              "      <th>AZYLJ3AGHCQ8G</th>\n",
              "      <th>AZYLPB0NTM6AD</th>\n",
              "      <th>AZYMHVRLSYBXI</th>\n",
              "      <th>AZYMJ90FAZGNT</th>\n",
              "      <th>AZYN2VEYN0S08</th>\n",
              "      <th>AZYPI7EV62QIB</th>\n",
              "      <th>AZYQZIVYTH8VS</th>\n",
              "      <th>AZYTEJO5TX4AR</th>\n",
              "      <th>AZYU8TI0X86Y5</th>\n",
              "      <th>AZYW6CL7WEIRG</th>\n",
              "      <th>AZYXC63SS008M</th>\n",
              "      <th>AZYXHGUHLJKER</th>\n",
              "      <th>AZYYF33B7G7S6</th>\n",
              "      <th>AZZ01JGQQOVD8</th>\n",
              "      <th>AZZ0MULE07R80</th>\n",
              "      <th>AZZ1K49YBZIM4</th>\n",
              "      <th>AZZ5AADBV2YG5</th>\n",
              "      <th>AZZ6E9VCIO7GW</th>\n",
              "      <th>AZZ88GJO4I6YG</th>\n",
              "      <th>AZZAYNXJ9JTJQ</th>\n",
              "      <th>AZZEM9DMMK30Y</th>\n",
              "      <th>AZZG52II49RRT</th>\n",
              "      <th>AZZI1IM1Q1JTP</th>\n",
              "      <th>AZZJBKJX833IV</th>\n",
              "      <th>AZZJTZ72VSLVO</th>\n",
              "      <th>AZZLVG46QQLG</th>\n",
              "      <th>AZZMQ85DPFEG3</th>\n",
              "      <th>AZZNT2OR7RK9A</th>\n",
              "      <th>AZZSESC35RSNM</th>\n",
              "      <th>AZZSKY850ERY8</th>\n",
              "      <th>AZZU4Z2H0IMAO</th>\n",
              "      <th>AZZV70LXKPX8M</th>\n",
              "      <th>AZZW87Z2WPXOT</th>\n",
              "      <th>AZZWZ1OLYCDR5</th>\n",
              "      <th>AZZYDSEQ6PHU1</th>\n",
              "      <th>AZZYJH0XNZ896</th>\n",
              "    </tr>\n",
              "    <tr>\n",
              "      <th>title</th>\n",
              "      <th></th>\n",
              "      <th></th>\n",
              "      <th></th>\n",
              "      <th></th>\n",
              "      <th></th>\n",
              "      <th></th>\n",
              "      <th></th>\n",
              "      <th></th>\n",
              "      <th></th>\n",
              "      <th></th>\n",
              "      <th></th>\n",
              "      <th></th>\n",
              "      <th></th>\n",
              "      <th></th>\n",
              "      <th></th>\n",
              "      <th></th>\n",
              "      <th></th>\n",
              "      <th></th>\n",
              "      <th></th>\n",
              "      <th></th>\n",
              "      <th></th>\n",
              "      <th></th>\n",
              "      <th></th>\n",
              "      <th></th>\n",
              "      <th></th>\n",
              "      <th></th>\n",
              "      <th></th>\n",
              "      <th></th>\n",
              "      <th></th>\n",
              "      <th></th>\n",
              "      <th></th>\n",
              "      <th></th>\n",
              "      <th></th>\n",
              "      <th></th>\n",
              "      <th></th>\n",
              "      <th></th>\n",
              "      <th></th>\n",
              "      <th></th>\n",
              "      <th></th>\n",
              "      <th></th>\n",
              "      <th></th>\n",
              "      <th></th>\n",
              "      <th></th>\n",
              "      <th></th>\n",
              "      <th></th>\n",
              "      <th></th>\n",
              "      <th></th>\n",
              "      <th></th>\n",
              "      <th></th>\n",
              "      <th></th>\n",
              "      <th></th>\n",
              "      <th></th>\n",
              "      <th></th>\n",
              "      <th></th>\n",
              "      <th></th>\n",
              "      <th></th>\n",
              "      <th></th>\n",
              "      <th></th>\n",
              "      <th></th>\n",
              "      <th></th>\n",
              "      <th></th>\n",
              "      <th></th>\n",
              "      <th></th>\n",
              "      <th></th>\n",
              "      <th></th>\n",
              "      <th></th>\n",
              "      <th></th>\n",
              "      <th></th>\n",
              "      <th></th>\n",
              "      <th></th>\n",
              "      <th></th>\n",
              "      <th></th>\n",
              "      <th></th>\n",
              "      <th></th>\n",
              "      <th></th>\n",
              "      <th></th>\n",
              "      <th></th>\n",
              "      <th></th>\n",
              "      <th></th>\n",
              "      <th></th>\n",
              "      <th></th>\n",
              "    </tr>\n",
              "  </thead>\n",
              "  <tbody>\n",
              "    <tr>\n",
              "      <th>1/14 Scale Ferrari La Ferrari LaFerrari Radio Remote Control Model Car R/C RTR Open Doors (Color May Vary)</th>\n",
              "      <td>0.0</td>\n",
              "      <td>0.0</td>\n",
              "      <td>0.0</td>\n",
              "      <td>0.0</td>\n",
              "      <td>0.0</td>\n",
              "      <td>0.0</td>\n",
              "      <td>0.0</td>\n",
              "      <td>0.0</td>\n",
              "      <td>0.0</td>\n",
              "      <td>0.0</td>\n",
              "      <td>0.0</td>\n",
              "      <td>0.0</td>\n",
              "      <td>0.0</td>\n",
              "      <td>0.0</td>\n",
              "      <td>0.0</td>\n",
              "      <td>0.0</td>\n",
              "      <td>0.0</td>\n",
              "      <td>0.0</td>\n",
              "      <td>0.0</td>\n",
              "      <td>0.0</td>\n",
              "      <td>0.0</td>\n",
              "      <td>0.0</td>\n",
              "      <td>0.0</td>\n",
              "      <td>0.0</td>\n",
              "      <td>0.0</td>\n",
              "      <td>0.0</td>\n",
              "      <td>0.0</td>\n",
              "      <td>0.0</td>\n",
              "      <td>0.0</td>\n",
              "      <td>0.0</td>\n",
              "      <td>0.0</td>\n",
              "      <td>0.0</td>\n",
              "      <td>0.0</td>\n",
              "      <td>0.0</td>\n",
              "      <td>0.0</td>\n",
              "      <td>0.0</td>\n",
              "      <td>0.0</td>\n",
              "      <td>0.0</td>\n",
              "      <td>0.0</td>\n",
              "      <td>0.0</td>\n",
              "      <td>...</td>\n",
              "      <td>0.0</td>\n",
              "      <td>0.0</td>\n",
              "      <td>0.0</td>\n",
              "      <td>0.0</td>\n",
              "      <td>0.0</td>\n",
              "      <td>0.0</td>\n",
              "      <td>0.0</td>\n",
              "      <td>0.0</td>\n",
              "      <td>0.0</td>\n",
              "      <td>0.0</td>\n",
              "      <td>0.0</td>\n",
              "      <td>0.0</td>\n",
              "      <td>0.0</td>\n",
              "      <td>0.0</td>\n",
              "      <td>0.0</td>\n",
              "      <td>0.0</td>\n",
              "      <td>0.0</td>\n",
              "      <td>0.0</td>\n",
              "      <td>0.0</td>\n",
              "      <td>0.0</td>\n",
              "      <td>0.0</td>\n",
              "      <td>0.0</td>\n",
              "      <td>0.0</td>\n",
              "      <td>0.0</td>\n",
              "      <td>0.0</td>\n",
              "      <td>0.0</td>\n",
              "      <td>0.0</td>\n",
              "      <td>0.0</td>\n",
              "      <td>0.0</td>\n",
              "      <td>0.0</td>\n",
              "      <td>0.0</td>\n",
              "      <td>0.0</td>\n",
              "      <td>0.0</td>\n",
              "      <td>0.0</td>\n",
              "      <td>0.0</td>\n",
              "      <td>0.0</td>\n",
              "      <td>0.0</td>\n",
              "      <td>0.0</td>\n",
              "      <td>0.0</td>\n",
              "      <td>0.0</td>\n",
              "    </tr>\n",
              "    <tr>\n",
              "      <th>100 Medium Dreidels - Assorted Colors - Classic Chanukah Spinning Draidel Game and Prize - Bulk Value Pack - By Izzy 'n' Dizzy</th>\n",
              "      <td>0.0</td>\n",
              "      <td>0.0</td>\n",
              "      <td>0.0</td>\n",
              "      <td>0.0</td>\n",
              "      <td>0.0</td>\n",
              "      <td>0.0</td>\n",
              "      <td>0.0</td>\n",
              "      <td>0.0</td>\n",
              "      <td>0.0</td>\n",
              "      <td>0.0</td>\n",
              "      <td>0.0</td>\n",
              "      <td>0.0</td>\n",
              "      <td>0.0</td>\n",
              "      <td>0.0</td>\n",
              "      <td>0.0</td>\n",
              "      <td>0.0</td>\n",
              "      <td>0.0</td>\n",
              "      <td>0.0</td>\n",
              "      <td>0.0</td>\n",
              "      <td>0.0</td>\n",
              "      <td>0.0</td>\n",
              "      <td>0.0</td>\n",
              "      <td>0.0</td>\n",
              "      <td>0.0</td>\n",
              "      <td>0.0</td>\n",
              "      <td>0.0</td>\n",
              "      <td>0.0</td>\n",
              "      <td>0.0</td>\n",
              "      <td>0.0</td>\n",
              "      <td>0.0</td>\n",
              "      <td>0.0</td>\n",
              "      <td>0.0</td>\n",
              "      <td>0.0</td>\n",
              "      <td>0.0</td>\n",
              "      <td>0.0</td>\n",
              "      <td>0.0</td>\n",
              "      <td>0.0</td>\n",
              "      <td>0.0</td>\n",
              "      <td>0.0</td>\n",
              "      <td>0.0</td>\n",
              "      <td>...</td>\n",
              "      <td>0.0</td>\n",
              "      <td>0.0</td>\n",
              "      <td>0.0</td>\n",
              "      <td>0.0</td>\n",
              "      <td>0.0</td>\n",
              "      <td>0.0</td>\n",
              "      <td>0.0</td>\n",
              "      <td>0.0</td>\n",
              "      <td>0.0</td>\n",
              "      <td>0.0</td>\n",
              "      <td>0.0</td>\n",
              "      <td>0.0</td>\n",
              "      <td>0.0</td>\n",
              "      <td>0.0</td>\n",
              "      <td>0.0</td>\n",
              "      <td>0.0</td>\n",
              "      <td>0.0</td>\n",
              "      <td>0.0</td>\n",
              "      <td>0.0</td>\n",
              "      <td>0.0</td>\n",
              "      <td>0.0</td>\n",
              "      <td>0.0</td>\n",
              "      <td>0.0</td>\n",
              "      <td>0.0</td>\n",
              "      <td>0.0</td>\n",
              "      <td>0.0</td>\n",
              "      <td>0.0</td>\n",
              "      <td>0.0</td>\n",
              "      <td>0.0</td>\n",
              "      <td>0.0</td>\n",
              "      <td>0.0</td>\n",
              "      <td>0.0</td>\n",
              "      <td>0.0</td>\n",
              "      <td>0.0</td>\n",
              "      <td>0.0</td>\n",
              "      <td>0.0</td>\n",
              "      <td>0.0</td>\n",
              "      <td>0.0</td>\n",
              "      <td>0.0</td>\n",
              "      <td>0.0</td>\n",
              "    </tr>\n",
              "    <tr>\n",
              "      <th>1000 Assorted Magic: The Gathering Cards Gold Collection</th>\n",
              "      <td>0.0</td>\n",
              "      <td>0.0</td>\n",
              "      <td>0.0</td>\n",
              "      <td>0.0</td>\n",
              "      <td>0.0</td>\n",
              "      <td>0.0</td>\n",
              "      <td>0.0</td>\n",
              "      <td>0.0</td>\n",
              "      <td>0.0</td>\n",
              "      <td>0.0</td>\n",
              "      <td>0.0</td>\n",
              "      <td>0.0</td>\n",
              "      <td>0.0</td>\n",
              "      <td>0.0</td>\n",
              "      <td>0.0</td>\n",
              "      <td>0.0</td>\n",
              "      <td>0.0</td>\n",
              "      <td>0.0</td>\n",
              "      <td>0.0</td>\n",
              "      <td>0.0</td>\n",
              "      <td>0.0</td>\n",
              "      <td>0.0</td>\n",
              "      <td>0.0</td>\n",
              "      <td>0.0</td>\n",
              "      <td>0.0</td>\n",
              "      <td>0.0</td>\n",
              "      <td>0.0</td>\n",
              "      <td>0.0</td>\n",
              "      <td>0.0</td>\n",
              "      <td>0.0</td>\n",
              "      <td>0.0</td>\n",
              "      <td>0.0</td>\n",
              "      <td>0.0</td>\n",
              "      <td>0.0</td>\n",
              "      <td>0.0</td>\n",
              "      <td>0.0</td>\n",
              "      <td>0.0</td>\n",
              "      <td>0.0</td>\n",
              "      <td>0.0</td>\n",
              "      <td>0.0</td>\n",
              "      <td>...</td>\n",
              "      <td>0.0</td>\n",
              "      <td>0.0</td>\n",
              "      <td>0.0</td>\n",
              "      <td>0.0</td>\n",
              "      <td>0.0</td>\n",
              "      <td>0.0</td>\n",
              "      <td>0.0</td>\n",
              "      <td>0.0</td>\n",
              "      <td>0.0</td>\n",
              "      <td>0.0</td>\n",
              "      <td>0.0</td>\n",
              "      <td>0.0</td>\n",
              "      <td>0.0</td>\n",
              "      <td>0.0</td>\n",
              "      <td>0.0</td>\n",
              "      <td>0.0</td>\n",
              "      <td>0.0</td>\n",
              "      <td>0.0</td>\n",
              "      <td>0.0</td>\n",
              "      <td>0.0</td>\n",
              "      <td>0.0</td>\n",
              "      <td>0.0</td>\n",
              "      <td>0.0</td>\n",
              "      <td>0.0</td>\n",
              "      <td>0.0</td>\n",
              "      <td>0.0</td>\n",
              "      <td>0.0</td>\n",
              "      <td>0.0</td>\n",
              "      <td>0.0</td>\n",
              "      <td>0.0</td>\n",
              "      <td>0.0</td>\n",
              "      <td>0.0</td>\n",
              "      <td>0.0</td>\n",
              "      <td>0.0</td>\n",
              "      <td>0.0</td>\n",
              "      <td>0.0</td>\n",
              "      <td>0.0</td>\n",
              "      <td>0.0</td>\n",
              "      <td>0.0</td>\n",
              "      <td>0.0</td>\n",
              "    </tr>\n",
              "    <tr>\n",
              "      <th>1000+ Bulk Magic The Gathering Cards MTG [Toy]</th>\n",
              "      <td>0.0</td>\n",
              "      <td>0.0</td>\n",
              "      <td>0.0</td>\n",
              "      <td>0.0</td>\n",
              "      <td>0.0</td>\n",
              "      <td>0.0</td>\n",
              "      <td>0.0</td>\n",
              "      <td>0.0</td>\n",
              "      <td>0.0</td>\n",
              "      <td>0.0</td>\n",
              "      <td>0.0</td>\n",
              "      <td>0.0</td>\n",
              "      <td>0.0</td>\n",
              "      <td>0.0</td>\n",
              "      <td>0.0</td>\n",
              "      <td>0.0</td>\n",
              "      <td>0.0</td>\n",
              "      <td>0.0</td>\n",
              "      <td>0.0</td>\n",
              "      <td>0.0</td>\n",
              "      <td>0.0</td>\n",
              "      <td>0.0</td>\n",
              "      <td>0.0</td>\n",
              "      <td>0.0</td>\n",
              "      <td>0.0</td>\n",
              "      <td>0.0</td>\n",
              "      <td>0.0</td>\n",
              "      <td>0.0</td>\n",
              "      <td>0.0</td>\n",
              "      <td>0.0</td>\n",
              "      <td>0.0</td>\n",
              "      <td>0.0</td>\n",
              "      <td>0.0</td>\n",
              "      <td>0.0</td>\n",
              "      <td>0.0</td>\n",
              "      <td>0.0</td>\n",
              "      <td>0.0</td>\n",
              "      <td>0.0</td>\n",
              "      <td>0.0</td>\n",
              "      <td>0.0</td>\n",
              "      <td>...</td>\n",
              "      <td>0.0</td>\n",
              "      <td>0.0</td>\n",
              "      <td>0.0</td>\n",
              "      <td>0.0</td>\n",
              "      <td>0.0</td>\n",
              "      <td>0.0</td>\n",
              "      <td>0.0</td>\n",
              "      <td>0.0</td>\n",
              "      <td>0.0</td>\n",
              "      <td>0.0</td>\n",
              "      <td>0.0</td>\n",
              "      <td>0.0</td>\n",
              "      <td>0.0</td>\n",
              "      <td>0.0</td>\n",
              "      <td>0.0</td>\n",
              "      <td>0.0</td>\n",
              "      <td>0.0</td>\n",
              "      <td>0.0</td>\n",
              "      <td>0.0</td>\n",
              "      <td>0.0</td>\n",
              "      <td>0.0</td>\n",
              "      <td>0.0</td>\n",
              "      <td>0.0</td>\n",
              "      <td>0.0</td>\n",
              "      <td>0.0</td>\n",
              "      <td>0.0</td>\n",
              "      <td>0.0</td>\n",
              "      <td>0.0</td>\n",
              "      <td>0.0</td>\n",
              "      <td>0.0</td>\n",
              "      <td>0.0</td>\n",
              "      <td>0.0</td>\n",
              "      <td>0.0</td>\n",
              "      <td>0.0</td>\n",
              "      <td>0.0</td>\n",
              "      <td>0.0</td>\n",
              "      <td>0.0</td>\n",
              "      <td>0.0</td>\n",
              "      <td>0.0</td>\n",
              "      <td>0.0</td>\n",
              "    </tr>\n",
              "    <tr>\n",
              "      <th>12&amp;quot; Bump &amp;amp; Go Rescue Fire Engine Truck Kids Toy with Extending Ladder &amp;amp; Lights &amp;amp; Siren Sounds</th>\n",
              "      <td>0.0</td>\n",
              "      <td>0.0</td>\n",
              "      <td>0.0</td>\n",
              "      <td>0.0</td>\n",
              "      <td>0.0</td>\n",
              "      <td>0.0</td>\n",
              "      <td>0.0</td>\n",
              "      <td>0.0</td>\n",
              "      <td>0.0</td>\n",
              "      <td>0.0</td>\n",
              "      <td>0.0</td>\n",
              "      <td>0.0</td>\n",
              "      <td>0.0</td>\n",
              "      <td>0.0</td>\n",
              "      <td>0.0</td>\n",
              "      <td>0.0</td>\n",
              "      <td>0.0</td>\n",
              "      <td>0.0</td>\n",
              "      <td>0.0</td>\n",
              "      <td>0.0</td>\n",
              "      <td>0.0</td>\n",
              "      <td>0.0</td>\n",
              "      <td>0.0</td>\n",
              "      <td>0.0</td>\n",
              "      <td>0.0</td>\n",
              "      <td>0.0</td>\n",
              "      <td>0.0</td>\n",
              "      <td>0.0</td>\n",
              "      <td>0.0</td>\n",
              "      <td>0.0</td>\n",
              "      <td>0.0</td>\n",
              "      <td>0.0</td>\n",
              "      <td>0.0</td>\n",
              "      <td>0.0</td>\n",
              "      <td>0.0</td>\n",
              "      <td>0.0</td>\n",
              "      <td>0.0</td>\n",
              "      <td>0.0</td>\n",
              "      <td>0.0</td>\n",
              "      <td>0.0</td>\n",
              "      <td>...</td>\n",
              "      <td>0.0</td>\n",
              "      <td>0.0</td>\n",
              "      <td>0.0</td>\n",
              "      <td>0.0</td>\n",
              "      <td>0.0</td>\n",
              "      <td>0.0</td>\n",
              "      <td>0.0</td>\n",
              "      <td>0.0</td>\n",
              "      <td>0.0</td>\n",
              "      <td>0.0</td>\n",
              "      <td>0.0</td>\n",
              "      <td>0.0</td>\n",
              "      <td>0.0</td>\n",
              "      <td>0.0</td>\n",
              "      <td>0.0</td>\n",
              "      <td>0.0</td>\n",
              "      <td>0.0</td>\n",
              "      <td>0.0</td>\n",
              "      <td>0.0</td>\n",
              "      <td>0.0</td>\n",
              "      <td>0.0</td>\n",
              "      <td>0.0</td>\n",
              "      <td>0.0</td>\n",
              "      <td>0.0</td>\n",
              "      <td>0.0</td>\n",
              "      <td>0.0</td>\n",
              "      <td>0.0</td>\n",
              "      <td>0.0</td>\n",
              "      <td>0.0</td>\n",
              "      <td>0.0</td>\n",
              "      <td>0.0</td>\n",
              "      <td>0.0</td>\n",
              "      <td>0.0</td>\n",
              "      <td>0.0</td>\n",
              "      <td>0.0</td>\n",
              "      <td>0.0</td>\n",
              "      <td>0.0</td>\n",
              "      <td>0.0</td>\n",
              "      <td>0.0</td>\n",
              "      <td>0.0</td>\n",
              "    </tr>\n",
              "  </tbody>\n",
              "</table>\n",
              "<p>5 rows × 135654 columns</p>\n",
              "</div>"
            ],
            "text/plain": [
              "reviewerID                                          A0014958J6WGO905GVK1  ...  AZZYJH0XNZ896\n",
              "title                                                                     ...               \n",
              "1/14 Scale Ferrari La Ferrari LaFerrari Radio R...                   0.0  ...            0.0\n",
              "100 Medium Dreidels - Assorted Colors - Classic...                   0.0  ...            0.0\n",
              "1000 Assorted Magic: The Gathering Cards Gold C...                   0.0  ...            0.0\n",
              "1000+ Bulk Magic The Gathering Cards MTG [Toy]                       0.0  ...            0.0\n",
              "12&quot; Bump &amp; Go Rescue Fire Engine Truck...                   0.0  ...            0.0\n",
              "\n",
              "[5 rows x 135654 columns]"
            ]
          },
          "metadata": {
            "tags": []
          },
          "execution_count": 84
        }
      ]
    },
    {
      "cell_type": "code",
      "metadata": {
        "id": "z0HhaTJGYtrG"
      },
      "source": [
        "import numpy as np\r\n",
        "from scipy.sparse import csr_matrix\r\n",
        "from sklearn.neighbors import NearestNeighbors\r\n"
      ],
      "execution_count": 85,
      "outputs": []
    },
    {
      "cell_type": "code",
      "metadata": {
        "id": "kVidxKUzX8Xp"
      },
      "source": [
        "# transform matrix to scipy sparse matrix\r\n",
        "item_user_matrix_sparse = csr_matrix(item_user_matrix.values)"
      ],
      "execution_count": 86,
      "outputs": []
    },
    {
      "cell_type": "code",
      "metadata": {
        "colab": {
          "base_uri": "https://localhost:8080/"
        },
        "id": "wVwvLKTqYi0m",
        "outputId": "ec8d72e5-8410-4782-d4e8-4db168864e43"
      },
      "source": [
        "item_user_matrix_sparse"
      ],
      "execution_count": 87,
      "outputs": [
        {
          "output_type": "execute_result",
          "data": {
            "text/plain": [
              "<1493x135654 sparse matrix of type '<class 'numpy.float64'>'\n",
              "\twith 152969 stored elements in Compressed Sparse Row format>"
            ]
          },
          "metadata": {
            "tags": []
          },
          "execution_count": 87
        }
      ]
    },
    {
      "cell_type": "code",
      "metadata": {
        "colab": {
          "base_uri": "https://localhost:8080/"
        },
        "id": "wEXyz6NNYi32",
        "outputId": "3778d44c-ef0f-4f61-ab65-81fa00c48105"
      },
      "source": [
        "# define model\r\n",
        "model_nn = NearestNeighbors(metric='cosine', algorithm='brute', n_neighbors=20)\r\n",
        "# fit\r\n",
        "model_nn.fit(item_user_matrix_sparse)"
      ],
      "execution_count": 88,
      "outputs": [
        {
          "output_type": "execute_result",
          "data": {
            "text/plain": [
              "NearestNeighbors(algorithm='brute', leaf_size=30, metric='cosine',\n",
              "                 metric_params=None, n_jobs=None, n_neighbors=20, p=2,\n",
              "                 radius=1.0)"
            ]
          },
          "metadata": {
            "tags": []
          },
          "execution_count": 88
        }
      ]
    },
    {
      "cell_type": "code",
      "metadata": {
        "colab": {
          "base_uri": "https://localhost:8080/"
        },
        "id": "b8-af2d6OuTv",
        "outputId": "b6ebb56e-5f4d-444c-a6f9-13b2a0a395c2"
      },
      "source": [
        "query_index=np.random.choice(item_user_matrix.shape[0])\r\n",
        "print(query_index)\r\n",
        "distances,indices=model_nn.kneighbors(item_user_matrix.iloc[query_index,:].values.reshape(1,-1),n_neighbors=15)\r\n",
        "for i in range(0,len(distances.flatten())):\r\n",
        "  \r\n",
        "  if i==0:\r\n",
        "    f=item_user_matrix.index[query_index]\r\n",
        "    print(\"Recommendation for {0}:\\n\".format(f))\r\n",
        "  else:\r\n",
        "    f=item_user_matrix.index[indices.flatten()[i]]\r\n",
        "    \r\n",
        "    print('{0}: {1}, with distance of {2}:'.format(i,f,distances.flatten()[i]))"
      ],
      "execution_count": 94,
      "outputs": [
        {
          "output_type": "stream",
          "text": [
            "1092\n",
            "Recommendation for Prank Pack Nap Sack:\n",
            "\n",
            "1: Prank Pack &ldquo;Earwax Candle Kit&rdquo; - Wrap Your Real Gift in a Funny Joke Gift Box - by Prank-O, with distance of 0.9693809495455032:\n",
            "2: Play-Doh Confetti Compound Collection, with distance of 0.9817376328620362:\n",
            "3: Rubber Ducks -50 Assorted Pieces-2 Inch - For Kids, Party Favors, Gift, Birthdays, Baby Showers, Baby Bath Toys, Bath Time, Easter Party Favors, And More - Kidsco, with distance of 0.9835410013073398:\n",
            "4: GUND DC Comics Batman Malone Teddy Bear Stuffed Animal Plush, 12&quot;, with distance of 0.9855345049086995:\n",
            "5: Pop Up Pirate, with distance of 0.9857796535431809:\n",
            "6: Simon Electronic Memory Game, with distance of 0.9972999073744339:\n",
            "7: VTech Kidizoom Camera Pix, Pink, with distance of 0.9984466547496103:\n",
            "8: SmartLab Toys All-Natural Lip Balm Boutique, with distance of 0.9986395653228304:\n",
            "9: Paradise Galleries Reborn Baby Doll Lifelike Realistic Baby Doll, Tall Dreams Gift Set Ensemble, 19-inch Weighted Baby, for Ages 3+, with distance of 1.0:\n",
            "10: Pandemic: Legacy Season 1 (Red Edition), with distance of 1.0:\n",
            "11: Paper Full of Wishes Festival Mexicano Large Plastic Papel Picado Banner, 9 Multi-Colored Panels 15 feet Long, with distance of 1.0:\n",
            "12: Oversized Construction Excavator Truck Toy for Kids with Shovel Arm Claw, with distance of 1.0:\n",
            "13: Paw Patrol Chase's Spy Cruiser, Vehicle and Figure, with distance of 1.0:\n",
            "14: PRO Driller Tool - Straight Axle Holes - 2.5 Degree Axle Holes - Raised Wheel Hole, with distance of 1.0:\n"
          ],
          "name": "stdout"
        }
      ]
    }
  ]
}