{
  "nbformat": 4,
  "nbformat_minor": 0,
  "metadata": {
    "colab": {
      "name": "Item based recommendation.ipynb",
      "provenance": [],
      "collapsed_sections": [],
      "machine_shape": "hm"
    },
    "kernelspec": {
      "display_name": "Python 3",
      "name": "python3"
    }
  },
  "cells": [
    {
      "cell_type": "code",
      "metadata": {
        "id": "fu9aUgbTm88u"
      },
      "source": [
        "import pandas as pd\r\n",
        "from matplotlib import pyplot as plt"
      ],
      "execution_count": 1,
      "outputs": []
    },
    {
      "cell_type": "markdown",
      "metadata": {
        "id": "jI2DGSRdQRbD"
      },
      "source": [
        "Import datasets"
      ]
    },
    {
      "cell_type": "code",
      "metadata": {
        "colab": {
          "base_uri": "https://localhost:8080/",
          "height": 202
        },
        "id": "HBLMojFYWG3Z",
        "outputId": "ecf5888e-41fd-4162-c2ee-46bf3e71b24b"
      },
      "source": [
        "df_items=pd.read_csv(\"Toys and Games Metadata dataset.csv\")\r\n",
        "df_items.head()"
      ],
      "execution_count": 5,
      "outputs": [
        {
          "output_type": "execute_result",
          "data": {
            "text/html": [
              "<div>\n",
              "<style scoped>\n",
              "    .dataframe tbody tr th:only-of-type {\n",
              "        vertical-align: middle;\n",
              "    }\n",
              "\n",
              "    .dataframe tbody tr th {\n",
              "        vertical-align: top;\n",
              "    }\n",
              "\n",
              "    .dataframe thead th {\n",
              "        text-align: right;\n",
              "    }\n",
              "</style>\n",
              "<table border=\"1\" class=\"dataframe\">\n",
              "  <thead>\n",
              "    <tr style=\"text-align: right;\">\n",
              "      <th></th>\n",
              "      <th>asin</th>\n",
              "      <th>title</th>\n",
              "    </tr>\n",
              "  </thead>\n",
              "  <tbody>\n",
              "    <tr>\n",
              "      <th>0</th>\n",
              "      <td>0000191639</td>\n",
              "      <td>Dr. Suess 19163 Dr. Seuss Puzzle 3 Pack Bundle</td>\n",
              "    </tr>\n",
              "    <tr>\n",
              "      <th>1</th>\n",
              "      <td>0004950763</td>\n",
              "      <td>Pathfinder: Book of Beasts - Legendary Foes</td>\n",
              "    </tr>\n",
              "    <tr>\n",
              "      <th>2</th>\n",
              "      <td>0005069491</td>\n",
              "      <td>Nursery Rhymes Felt Book</td>\n",
              "    </tr>\n",
              "    <tr>\n",
              "      <th>3</th>\n",
              "      <td>0004983289</td>\n",
              "      <td>Dutch Blitz Card Game</td>\n",
              "    </tr>\n",
              "    <tr>\n",
              "      <th>4</th>\n",
              "      <td>0006466222</td>\n",
              "      <td>Magic Pen Painting (Marvel Super Heroes)</td>\n",
              "    </tr>\n",
              "  </tbody>\n",
              "</table>\n",
              "</div>"
            ],
            "text/plain": [
              "         asin                                           title\n",
              "0  0000191639  Dr. Suess 19163 Dr. Seuss Puzzle 3 Pack Bundle\n",
              "1  0004950763     Pathfinder: Book of Beasts - Legendary Foes\n",
              "2  0005069491                        Nursery Rhymes Felt Book\n",
              "3  0004983289                           Dutch Blitz Card Game\n",
              "4  0006466222        Magic Pen Painting (Marvel Super Heroes)"
            ]
          },
          "metadata": {
            "tags": []
          },
          "execution_count": 5
        }
      ]
    },
    {
      "cell_type": "code",
      "metadata": {
        "colab": {
          "base_uri": "https://localhost:8080/",
          "height": 202
        },
        "id": "LJ53lKsqWLPx",
        "outputId": "2696337f-c565-4c51-97cf-df66463b5a87"
      },
      "source": [
        "df_ratings=pd.read_csv(\"toys and games ratings dataset.csv\")\r\n",
        "df_ratings.head()"
      ],
      "execution_count": 6,
      "outputs": [
        {
          "output_type": "execute_result",
          "data": {
            "text/html": [
              "<div>\n",
              "<style scoped>\n",
              "    .dataframe tbody tr th:only-of-type {\n",
              "        vertical-align: middle;\n",
              "    }\n",
              "\n",
              "    .dataframe tbody tr th {\n",
              "        vertical-align: top;\n",
              "    }\n",
              "\n",
              "    .dataframe thead th {\n",
              "        text-align: right;\n",
              "    }\n",
              "</style>\n",
              "<table border=\"1\" class=\"dataframe\">\n",
              "  <thead>\n",
              "    <tr style=\"text-align: right;\">\n",
              "      <th></th>\n",
              "      <th>ratings</th>\n",
              "      <th>reviewerID</th>\n",
              "      <th>asin</th>\n",
              "    </tr>\n",
              "  </thead>\n",
              "  <tbody>\n",
              "    <tr>\n",
              "      <th>0</th>\n",
              "      <td>5.0</td>\n",
              "      <td>AWIR3UBL405QJ</td>\n",
              "      <td>0692770445</td>\n",
              "    </tr>\n",
              "    <tr>\n",
              "      <th>1</th>\n",
              "      <td>5.0</td>\n",
              "      <td>A1DFLJ9TJ9PH80</td>\n",
              "      <td>0692770445</td>\n",
              "    </tr>\n",
              "    <tr>\n",
              "      <th>2</th>\n",
              "      <td>5.0</td>\n",
              "      <td>A1K1J2TG88SOH8</td>\n",
              "      <td>0692770445</td>\n",
              "    </tr>\n",
              "    <tr>\n",
              "      <th>3</th>\n",
              "      <td>5.0</td>\n",
              "      <td>AOID2AE5OGHQM</td>\n",
              "      <td>0692770445</td>\n",
              "    </tr>\n",
              "    <tr>\n",
              "      <th>4</th>\n",
              "      <td>1.0</td>\n",
              "      <td>A3ILHRAH8ZRCBD</td>\n",
              "      <td>0692770445</td>\n",
              "    </tr>\n",
              "  </tbody>\n",
              "</table>\n",
              "</div>"
            ],
            "text/plain": [
              "   ratings      reviewerID        asin\n",
              "0      5.0   AWIR3UBL405QJ  0692770445\n",
              "1      5.0  A1DFLJ9TJ9PH80  0692770445\n",
              "2      5.0  A1K1J2TG88SOH8  0692770445\n",
              "3      5.0   AOID2AE5OGHQM  0692770445\n",
              "4      1.0  A3ILHRAH8ZRCBD  0692770445"
            ]
          },
          "metadata": {
            "tags": []
          },
          "execution_count": 6
        }
      ]
    },
    {
      "cell_type": "markdown",
      "metadata": {
        "id": "VG4WHdtGQd_0"
      },
      "source": [
        "merge items dataset and ratings dataset into one dataframe based on column 'asin'"
      ]
    },
    {
      "cell_type": "code",
      "metadata": {
        "colab": {
          "base_uri": "https://localhost:8080/",
          "height": 202
        },
        "id": "Y6eY40wQWNH5",
        "outputId": "1ffc14b2-670c-4713-f392-65bddcf0e94d"
      },
      "source": [
        "df=pd.merge(df_items,df_ratings,on='asin')\r\n",
        "df.head()"
      ],
      "execution_count": 7,
      "outputs": [
        {
          "output_type": "execute_result",
          "data": {
            "text/html": [
              "<div>\n",
              "<style scoped>\n",
              "    .dataframe tbody tr th:only-of-type {\n",
              "        vertical-align: middle;\n",
              "    }\n",
              "\n",
              "    .dataframe tbody tr th {\n",
              "        vertical-align: top;\n",
              "    }\n",
              "\n",
              "    .dataframe thead th {\n",
              "        text-align: right;\n",
              "    }\n",
              "</style>\n",
              "<table border=\"1\" class=\"dataframe\">\n",
              "  <thead>\n",
              "    <tr style=\"text-align: right;\">\n",
              "      <th></th>\n",
              "      <th>asin</th>\n",
              "      <th>title</th>\n",
              "      <th>ratings</th>\n",
              "      <th>reviewerID</th>\n",
              "    </tr>\n",
              "  </thead>\n",
              "  <tbody>\n",
              "    <tr>\n",
              "      <th>0</th>\n",
              "      <td>0004983289</td>\n",
              "      <td>Dutch Blitz Card Game</td>\n",
              "      <td>5.0</td>\n",
              "      <td>ASZZ869682237</td>\n",
              "    </tr>\n",
              "    <tr>\n",
              "      <th>1</th>\n",
              "      <td>0020232233</td>\n",
              "      <td>Dungeons &amp;amp; Dragons - &amp;quot;Storm Kings Thu...</td>\n",
              "      <td>5.0</td>\n",
              "      <td>A13X6BJ3LPQ39L</td>\n",
              "    </tr>\n",
              "    <tr>\n",
              "      <th>2</th>\n",
              "      <td>0020232233</td>\n",
              "      <td>Dungeons &amp;amp; Dragons - &amp;quot;Storm Kings Thu...</td>\n",
              "      <td>5.0</td>\n",
              "      <td>A3RWLC7AAFQNNV</td>\n",
              "    </tr>\n",
              "    <tr>\n",
              "      <th>3</th>\n",
              "      <td>0020232233</td>\n",
              "      <td>Dungeons &amp;amp; Dragons - &amp;quot;Storm Kings Thu...</td>\n",
              "      <td>4.0</td>\n",
              "      <td>A1WBQ8GWYGLVPZ</td>\n",
              "    </tr>\n",
              "    <tr>\n",
              "      <th>4</th>\n",
              "      <td>038536539X</td>\n",
              "      <td>Penguin Random House Punderdome Deluxe Card Game</td>\n",
              "      <td>5.0</td>\n",
              "      <td>A1RVKZOG1TYJT2</td>\n",
              "    </tr>\n",
              "  </tbody>\n",
              "</table>\n",
              "</div>"
            ],
            "text/plain": [
              "         asin  ...      reviewerID\n",
              "0  0004983289  ...   ASZZ869682237\n",
              "1  0020232233  ...  A13X6BJ3LPQ39L\n",
              "2  0020232233  ...  A3RWLC7AAFQNNV\n",
              "3  0020232233  ...  A1WBQ8GWYGLVPZ\n",
              "4  038536539X  ...  A1RVKZOG1TYJT2\n",
              "\n",
              "[5 rows x 4 columns]"
            ]
          },
          "metadata": {
            "tags": []
          },
          "execution_count": 7
        }
      ]
    },
    {
      "cell_type": "code",
      "metadata": {
        "colab": {
          "base_uri": "https://localhost:8080/"
        },
        "id": "xlyurqDRWgkt",
        "outputId": "9b188343-d74d-44f3-e964-b3bd7232a67b"
      },
      "source": [
        "df.shape "
      ],
      "execution_count": 8,
      "outputs": [
        {
          "output_type": "execute_result",
          "data": {
            "text/plain": [
              "(562901, 4)"
            ]
          },
          "metadata": {
            "tags": []
          },
          "execution_count": 8
        }
      ]
    },
    {
      "cell_type": "code",
      "metadata": {
        "colab": {
          "base_uri": "https://localhost:8080/"
        },
        "id": "_etsR-p-WgoM",
        "outputId": "54cde779-54d4-42c9-85cc-64c75300ec93"
      },
      "source": [
        "num_users = len(df.reviewerID.unique())\r\n",
        "num_items = len(df.title.unique())\r\n",
        "print('There are {} unique users and {} unique items in this data set'.format(num_users, num_items))"
      ],
      "execution_count": 9,
      "outputs": [
        {
          "output_type": "stream",
          "text": [
            "There are 414672 unique users and 115183 unique items in this data set\n"
          ],
          "name": "stdout"
        }
      ]
    },
    {
      "cell_type": "code",
      "metadata": {
        "colab": {
          "base_uri": "https://localhost:8080/"
        },
        "id": "iiM8NHfBWgrU",
        "outputId": "6b4af61b-e86f-4694-9168-b5fdc8f1d1c6"
      },
      "source": [
        "df.groupby('title')['reviewerID'].count().sort_values()"
      ],
      "execution_count": 10,
      "outputs": [
        {
          "output_type": "execute_result",
          "data": {
            "text/plain": [
              "title\n",
              "Lalaloopsy Girls Crazy Hair Doll- Scoops Waffle Cone                                                                                                                                                            1\n",
              "Marvel Captain America Bunker                                                                                                                                                                                   1\n",
              "Marvel Beast: Funko Dorbz x Universe Mini Vinyl Figure + 1 FREE Official Trading Card Bundle [59491]                                                                                                            1\n",
              "Marvel Batman v Superman Party Favor Gift Goodie Bag - 48 Pieces                                                                                                                                                1\n",
              "Marvel Backpack Ant-Man Large School Bag New 613464                                                                                                                                                             1\n",
              "                                                                                                                                                                                                             ... \n",
              "Prextex Realistic Looking 7&quot; Dinosaurs Pack of 12 Large Plastic Assorted Dinosaur Figures with Dinosaur Book                                                                                             598\n",
              "Cards Against Humanity                                                                                                                                                                                        662\n",
              "Exploding Kittens Card Game                                                                                                                                                                                   753\n",
              "Fox Print Princess Castle Play Tent with Glow in The Dark Stars, conveniently Folds in to a Carrying Case, Your Kids Will Enjoy This Foldable Pop Up Pink Play Tent/House Toy for Indoor &amp; Outdoor Use    955\n",
              "HeadShot Ammo [110 Rounds] Nerf Rival Compatible Ammo Bulk Yellow Foam Bullet Ball Replacement Refill Pack for Apollo, Zeus, Khaos, Atlas, &amp; Artemis Blasters (HIR, High-Impact Rounds - Yellow)          966\n",
              "Name: reviewerID, Length: 115183, dtype: int64"
            ]
          },
          "metadata": {
            "tags": []
          },
          "execution_count": 10
        }
      ]
    },
    {
      "cell_type": "markdown",
      "metadata": {
        "id": "EFaBatBxQteG"
      },
      "source": [
        "**Observation**\r\n",
        "\r\n",
        "some items(toys and games) has few ratings, to make recommedation robust taking the items which has ratings above 50"
      ]
    },
    {
      "cell_type": "code",
      "metadata": {
        "id": "sE5jZL5ZXG4z"
      },
      "source": [
        "df2=df.groupby(\"title\").filter(lambda x:x['ratings'].count() >=50)"
      ],
      "execution_count": 11,
      "outputs": []
    },
    {
      "cell_type": "code",
      "metadata": {
        "colab": {
          "base_uri": "https://localhost:8080/"
        },
        "id": "V3Pq15IRXG_w",
        "outputId": "93b410cf-6756-4184-b485-c43912606789"
      },
      "source": [
        "df2.shape  #155280"
      ],
      "execution_count": 12,
      "outputs": [
        {
          "output_type": "execute_result",
          "data": {
            "text/plain": [
              "(155280, 4)"
            ]
          },
          "metadata": {
            "tags": []
          },
          "execution_count": 12
        }
      ]
    },
    {
      "cell_type": "code",
      "metadata": {
        "colab": {
          "base_uri": "https://localhost:8080/"
        },
        "id": "MNkdfTgqgSvW",
        "outputId": "4b74ff0b-5bee-4ace-f748-46c7a02ded0c"
      },
      "source": [
        "df2.groupby('title')['reviewerID'].count().sort_values()"
      ],
      "execution_count": 13,
      "outputs": [
        {
          "output_type": "execute_result",
          "data": {
            "text/plain": [
              "title\n",
              "Rienar Accurate Spinning Top, Vintage Totem Zinc Alloy Silver Toy Gift                                                                                                                                         50\n",
              "Utter Nonsense Naughty Edition                                                                                                                                                                                 50\n",
              "Toysmith Marbles in a Tin Box                                                                                                                                                                                  50\n",
              "Aurora World Inc. 7&quot; Jellyroll - Unicorn                                                                                                                                                                  50\n",
              "Funko POP Exclusive Mystery Starter Pack Set of 10 &quot;Includes 10 Random Funko POPS Will Vary and No Duplicates&quot;                                                                                       50\n",
              "                                                                                                                                                                                                             ... \n",
              "Prextex Realistic Looking 7&quot; Dinosaurs Pack of 12 Large Plastic Assorted Dinosaur Figures with Dinosaur Book                                                                                             598\n",
              "Cards Against Humanity                                                                                                                                                                                        662\n",
              "Exploding Kittens Card Game                                                                                                                                                                                   753\n",
              "Fox Print Princess Castle Play Tent with Glow in The Dark Stars, conveniently Folds in to a Carrying Case, Your Kids Will Enjoy This Foldable Pop Up Pink Play Tent/House Toy for Indoor &amp; Outdoor Use    955\n",
              "HeadShot Ammo [110 Rounds] Nerf Rival Compatible Ammo Bulk Yellow Foam Bullet Ball Replacement Refill Pack for Apollo, Zeus, Khaos, Atlas, &amp; Artemis Blasters (HIR, High-Impact Rounds - Yellow)          966\n",
              "Name: reviewerID, Length: 1493, dtype: int64"
            ]
          },
          "metadata": {
            "tags": []
          },
          "execution_count": 13
        }
      ]
    },
    {
      "cell_type": "code",
      "metadata": {
        "colab": {
          "base_uri": "https://localhost:8080/",
          "height": 202
        },
        "id": "Fl8r2aUCX0ha",
        "outputId": "e5abae50-4350-4289-b890-994231dc6c20"
      },
      "source": [
        "df2.head()"
      ],
      "execution_count": 14,
      "outputs": [
        {
          "output_type": "execute_result",
          "data": {
            "text/html": [
              "<div>\n",
              "<style scoped>\n",
              "    .dataframe tbody tr th:only-of-type {\n",
              "        vertical-align: middle;\n",
              "    }\n",
              "\n",
              "    .dataframe tbody tr th {\n",
              "        vertical-align: top;\n",
              "    }\n",
              "\n",
              "    .dataframe thead th {\n",
              "        text-align: right;\n",
              "    }\n",
              "</style>\n",
              "<table border=\"1\" class=\"dataframe\">\n",
              "  <thead>\n",
              "    <tr style=\"text-align: right;\">\n",
              "      <th></th>\n",
              "      <th>asin</th>\n",
              "      <th>title</th>\n",
              "      <th>ratings</th>\n",
              "      <th>reviewerID</th>\n",
              "    </tr>\n",
              "  </thead>\n",
              "  <tbody>\n",
              "    <tr>\n",
              "      <th>164</th>\n",
              "      <td>0963469150</td>\n",
              "      <td>Quiddler Card Game</td>\n",
              "      <td>5.0</td>\n",
              "      <td>A6QY7I3MDYQI8</td>\n",
              "    </tr>\n",
              "    <tr>\n",
              "      <th>165</th>\n",
              "      <td>0963469150</td>\n",
              "      <td>Quiddler Card Game</td>\n",
              "      <td>5.0</td>\n",
              "      <td>AHB8WVX90QY2N</td>\n",
              "    </tr>\n",
              "    <tr>\n",
              "      <th>166</th>\n",
              "      <td>0963469150</td>\n",
              "      <td>Quiddler Card Game</td>\n",
              "      <td>3.0</td>\n",
              "      <td>A19YHF2NUIQ6BS</td>\n",
              "    </tr>\n",
              "    <tr>\n",
              "      <th>167</th>\n",
              "      <td>0963469150</td>\n",
              "      <td>Quiddler Card Game</td>\n",
              "      <td>5.0</td>\n",
              "      <td>A2OJQCCW0Y1EJP</td>\n",
              "    </tr>\n",
              "    <tr>\n",
              "      <th>168</th>\n",
              "      <td>0963469150</td>\n",
              "      <td>Quiddler Card Game</td>\n",
              "      <td>5.0</td>\n",
              "      <td>A9CJASAA9317H</td>\n",
              "    </tr>\n",
              "  </tbody>\n",
              "</table>\n",
              "</div>"
            ],
            "text/plain": [
              "           asin               title  ratings      reviewerID\n",
              "164  0963469150  Quiddler Card Game      5.0   A6QY7I3MDYQI8\n",
              "165  0963469150  Quiddler Card Game      5.0   AHB8WVX90QY2N\n",
              "166  0963469150  Quiddler Card Game      3.0  A19YHF2NUIQ6BS\n",
              "167  0963469150  Quiddler Card Game      5.0  A2OJQCCW0Y1EJP\n",
              "168  0963469150  Quiddler Card Game      5.0   A9CJASAA9317H"
            ]
          },
          "metadata": {
            "tags": []
          },
          "execution_count": 14
        }
      ]
    },
    {
      "cell_type": "code",
      "metadata": {
        "colab": {
          "base_uri": "https://localhost:8080/",
          "height": 202
        },
        "id": "apFeFrz8KV41",
        "outputId": "dafb4d2f-5283-4fae-c8b7-77885c1e2a99"
      },
      "source": [
        "df2.reset_index(inplace = True,drop=True) \r\n",
        "df2.head()"
      ],
      "execution_count": 15,
      "outputs": [
        {
          "output_type": "execute_result",
          "data": {
            "text/html": [
              "<div>\n",
              "<style scoped>\n",
              "    .dataframe tbody tr th:only-of-type {\n",
              "        vertical-align: middle;\n",
              "    }\n",
              "\n",
              "    .dataframe tbody tr th {\n",
              "        vertical-align: top;\n",
              "    }\n",
              "\n",
              "    .dataframe thead th {\n",
              "        text-align: right;\n",
              "    }\n",
              "</style>\n",
              "<table border=\"1\" class=\"dataframe\">\n",
              "  <thead>\n",
              "    <tr style=\"text-align: right;\">\n",
              "      <th></th>\n",
              "      <th>asin</th>\n",
              "      <th>title</th>\n",
              "      <th>ratings</th>\n",
              "      <th>reviewerID</th>\n",
              "    </tr>\n",
              "  </thead>\n",
              "  <tbody>\n",
              "    <tr>\n",
              "      <th>0</th>\n",
              "      <td>0963469150</td>\n",
              "      <td>Quiddler Card Game</td>\n",
              "      <td>5.0</td>\n",
              "      <td>A6QY7I3MDYQI8</td>\n",
              "    </tr>\n",
              "    <tr>\n",
              "      <th>1</th>\n",
              "      <td>0963469150</td>\n",
              "      <td>Quiddler Card Game</td>\n",
              "      <td>5.0</td>\n",
              "      <td>AHB8WVX90QY2N</td>\n",
              "    </tr>\n",
              "    <tr>\n",
              "      <th>2</th>\n",
              "      <td>0963469150</td>\n",
              "      <td>Quiddler Card Game</td>\n",
              "      <td>3.0</td>\n",
              "      <td>A19YHF2NUIQ6BS</td>\n",
              "    </tr>\n",
              "    <tr>\n",
              "      <th>3</th>\n",
              "      <td>0963469150</td>\n",
              "      <td>Quiddler Card Game</td>\n",
              "      <td>5.0</td>\n",
              "      <td>A2OJQCCW0Y1EJP</td>\n",
              "    </tr>\n",
              "    <tr>\n",
              "      <th>4</th>\n",
              "      <td>0963469150</td>\n",
              "      <td>Quiddler Card Game</td>\n",
              "      <td>5.0</td>\n",
              "      <td>A9CJASAA9317H</td>\n",
              "    </tr>\n",
              "  </tbody>\n",
              "</table>\n",
              "</div>"
            ],
            "text/plain": [
              "         asin               title  ratings      reviewerID\n",
              "0  0963469150  Quiddler Card Game      5.0   A6QY7I3MDYQI8\n",
              "1  0963469150  Quiddler Card Game      5.0   AHB8WVX90QY2N\n",
              "2  0963469150  Quiddler Card Game      3.0  A19YHF2NUIQ6BS\n",
              "3  0963469150  Quiddler Card Game      5.0  A2OJQCCW0Y1EJP\n",
              "4  0963469150  Quiddler Card Game      5.0   A9CJASAA9317H"
            ]
          },
          "metadata": {
            "tags": []
          },
          "execution_count": 15
        }
      ]
    },
    {
      "cell_type": "code",
      "metadata": {
        "colab": {
          "base_uri": "https://localhost:8080/"
        },
        "id": "qJeVPvQTYGZi",
        "outputId": "5a5563f9-7445-437d-8f21-9e03ea578429"
      },
      "source": [
        "num_users = len(df2.reviewerID.unique())\r\n",
        "num_items = len(df2.title.unique())\r\n",
        "print('There are {} unique users and {} unique items in this data set'.format(num_users, num_items))"
      ],
      "execution_count": 16,
      "outputs": [
        {
          "output_type": "stream",
          "text": [
            "There are 135654 unique users and 1493 unique items in this data set\n"
          ],
          "name": "stdout"
        }
      ]
    },
    {
      "cell_type": "code",
      "metadata": {
        "colab": {
          "base_uri": "https://localhost:8080/"
        },
        "id": "phevYN38RKCv",
        "outputId": "430e17b6-fbb7-4e2d-cae2-1d8e05f049c4"
      },
      "source": [
        "#Most rated toys and games \r\n",
        "df2['title'].value_counts()[:5]"
      ],
      "execution_count": 17,
      "outputs": [
        {
          "output_type": "execute_result",
          "data": {
            "text/plain": [
              "HeadShot Ammo [110 Rounds] Nerf Rival Compatible Ammo Bulk Yellow Foam Bullet Ball Replacement Refill Pack for Apollo, Zeus, Khaos, Atlas, &amp; Artemis Blasters (HIR, High-Impact Rounds - Yellow)          966\n",
              "Fox Print Princess Castle Play Tent with Glow in The Dark Stars, conveniently Folds in to a Carrying Case, Your Kids Will Enjoy This Foldable Pop Up Pink Play Tent/House Toy for Indoor &amp; Outdoor Use    955\n",
              "Exploding Kittens Card Game                                                                                                                                                                                   753\n",
              "Cards Against Humanity                                                                                                                                                                                        662\n",
              "Prextex Realistic Looking 7&quot; Dinosaurs Pack of 12 Large Plastic Assorted Dinosaur Figures with Dinosaur Book                                                                                             598\n",
              "Name: title, dtype: int64"
            ]
          },
          "metadata": {
            "tags": []
          },
          "execution_count": 17
        }
      ]
    },
    {
      "cell_type": "code",
      "metadata": {
        "colab": {
          "base_uri": "https://localhost:8080/"
        },
        "id": "8bvQGfvERKHD",
        "outputId": "5486e769-9d4c-4357-e333-d3fd03df65eb"
      },
      "source": [
        "# Top users based on most no.of times ratings given to items\r\n",
        "df2['reviewerID'].value_counts()[:5]"
      ],
      "execution_count": 18,
      "outputs": [
        {
          "output_type": "execute_result",
          "data": {
            "text/plain": [
              "A1FR3683TSOZ2D    18\n",
              "A3IYDWUQHU4URV    15\n",
              "A2DNIQOZUJ7W2B    13\n",
              "AF3Z8GVXAPMSP     13\n",
              "A2HZJZXALM5B4J    12\n",
              "Name: reviewerID, dtype: int64"
            ]
          },
          "metadata": {
            "tags": []
          },
          "execution_count": 18
        }
      ]
    },
    {
      "cell_type": "code",
      "metadata": {
        "colab": {
          "base_uri": "https://localhost:8080/"
        },
        "id": "ReyAWFNsRKKx",
        "outputId": "c3db5cae-496d-455c-b2f4-5bd0b9a4bbe0"
      },
      "source": [
        "df2['ratings'].value_counts()"
      ],
      "execution_count": 19,
      "outputs": [
        {
          "output_type": "execute_result",
          "data": {
            "text/plain": [
              "5.0    109130\n",
              "4.0     16941\n",
              "1.0     12676\n",
              "3.0      9858\n",
              "2.0      6675\n",
              "Name: ratings, dtype: int64"
            ]
          },
          "metadata": {
            "tags": []
          },
          "execution_count": 19
        }
      ]
    },
    {
      "cell_type": "code",
      "metadata": {
        "colab": {
          "base_uri": "https://localhost:8080/",
          "height": 265
        },
        "id": "crSHfv4oRKOo",
        "outputId": "2f70ce1e-6eb7-4f53-b3f1-279696202ed0"
      },
      "source": [
        "import seaborn as sns\r\n",
        "sns.barplot(x=df2['ratings'].value_counts().index,y=df2['ratings'].value_counts().values, data=df2)\r\n",
        "plt.show()"
      ],
      "execution_count": 20,
      "outputs": [
        {
          "output_type": "display_data",
          "data": {
            "image/png": "[encoded data removed]",
            "text/plain": [
              "<Figure size 432x288 with 1 Axes>"
            ]
          },
          "metadata": {
            "tags": [],
            "needs_background": "light"
          }
        }
      ]
    },
    {
      "cell_type": "markdown",
      "metadata": {
        "id": "_zbT9aXkS_Yq"
      },
      "source": [
        "in this dataset most items get 5 ratings\r\n",
        "\r\n",
        "\r\n",
        "\r\n"
      ]
    },
    {
      "cell_type": "code",
      "metadata": {
        "id": "yw0I2kSZWgus"
      },
      "source": [
        "# item-user matrix \r\n",
        "item_user_matrix = pd.pivot_table(data=df2,index=\"title\",columns=\"reviewerID\",values=\"ratings\").fillna(0)"
      ],
      "execution_count": 32,
      "outputs": []
    },
    {
      "cell_type": "code",
      "metadata": {
        "colab": {
          "base_uri": "https://localhost:8080/",
          "height": 741
        },
        "id": "w3eUgKDhWnL2",
        "outputId": "71964a6b-c77d-47d6-fc2d-c64f08112445"
      },
      "source": [
        "item_user_matrix.head(3)"
      ],
      "execution_count": 33,
      "outputs": [
        {
          "output_type": "execute_result",
          "data": {
            "text/html": [
              "<div>\n",
              "<style scoped>\n",
              "    .dataframe tbody tr th:only-of-type {\n",
              "        vertical-align: middle;\n",
              "    }\n",
              "\n",
              "    .dataframe tbody tr th {\n",
              "        vertical-align: top;\n",
              "    }\n",
              "\n",
              "    .dataframe thead th {\n",
              "        text-align: right;\n",
              "    }\n",
              "</style>\n",
              "<table border=\"1\" class=\"dataframe\">\n",
              "  <thead>\n",
              "    <tr style=\"text-align: right;\">\n",
              "      <th>reviewerID</th>\n",
              "      <th>A0014958J6WGO905GVK1</th>\n",
              "      <th>A0039616V1YY3K317AU</th>\n",
              "      <th>A00674433NOV21GAWV0T</th>\n",
              "      <th>A0074973GJE70A8CM9IJ</th>\n",
              "      <th>A0080055DD81KOGDOWPS</th>\n",
              "      <th>A0090953K7LNUG6UPMI6</th>\n",
              "      <th>A0106211TYFVD0QSK5G4</th>\n",
              "      <th>A0108721SZ7KFUN6B9GY</th>\n",
              "      <th>A0133814GP50K7QGS2R2</th>\n",
              "      <th>A01441725FZ4Q7FQ8RYK</th>\n",
              "      <th>A0150800A8I6US9GGZNI</th>\n",
              "      <th>A0163630T5PJPHRN5W1L</th>\n",
              "      <th>A0168108D3MS83PBNHSZ</th>\n",
              "      <th>A018628592MFETNAUHT3</th>\n",
              "      <th>A02230873ITG8LEJEJEN</th>\n",
              "      <th>A0227309CULULL7UXXZN</th>\n",
              "      <th>A0236409GDE0JXKXIMPP</th>\n",
              "      <th>A0245825TGZGEHLKA09N</th>\n",
              "      <th>A0251779FWI1FDQVJWL8</th>\n",
              "      <th>A0263308HWXB59DMZXXZ</th>\n",
              "      <th>A0263554BQYZR6K7M6T0</th>\n",
              "      <th>A0265844419UMMVRV8FW</th>\n",
              "      <th>A0275316TA9S35RF9EYB</th>\n",
              "      <th>A02843323AIEJ53TSE1Y</th>\n",
              "      <th>A0304352C8P9I7WKWGX1</th>\n",
              "      <th>A0342561RVCLI503YSJJ</th>\n",
              "      <th>A036147939NFPC389VLK</th>\n",
              "      <th>A03690638RLHYCUK9KX2</th>\n",
              "      <th>A0377563U62QXJNEXZQY</th>\n",
              "      <th>A0393169BIQPDE4DIPG4</th>\n",
              "      <th>A0455940O5EUXQDU46QL</th>\n",
              "      <th>A0499489TA7X6L1S9LPM</th>\n",
              "      <th>A0514467WUL1V2QZ53PP</th>\n",
              "      <th>A0523141AVZ9WGQB038C</th>\n",
              "      <th>A0525738PA001FRVL6PM</th>\n",
              "      <th>A053992096VJKDCM8ZTP</th>\n",
              "      <th>A05611744VTMPI3REVWB</th>\n",
              "      <th>A0580432C8RPXIYN4ZQ8</th>\n",
              "      <th>A0588896AIMW1RNXSXVR</th>\n",
              "      <th>A0605481SGI433IU6KJ9</th>\n",
              "      <th>...</th>\n",
              "      <th>AZYG76CVQ6K85</th>\n",
              "      <th>AZYIVEBM8IC75</th>\n",
              "      <th>AZYJAOCVN5K2H</th>\n",
              "      <th>AZYJXF751CMWI</th>\n",
              "      <th>AZYLJ3AGHCQ8G</th>\n",
              "      <th>AZYLPB0NTM6AD</th>\n",
              "      <th>AZYMHVRLSYBXI</th>\n",
              "      <th>AZYMJ90FAZGNT</th>\n",
              "      <th>AZYN2VEYN0S08</th>\n",
              "      <th>AZYPI7EV62QIB</th>\n",
              "      <th>AZYQZIVYTH8VS</th>\n",
              "      <th>AZYTEJO5TX4AR</th>\n",
              "      <th>AZYU8TI0X86Y5</th>\n",
              "      <th>AZYW6CL7WEIRG</th>\n",
              "      <th>AZYXC63SS008M</th>\n",
              "      <th>AZYXHGUHLJKER</th>\n",
              "      <th>AZYYF33B7G7S6</th>\n",
              "      <th>AZZ01JGQQOVD8</th>\n",
              "      <th>AZZ0MULE07R80</th>\n",
              "      <th>AZZ1K49YBZIM4</th>\n",
              "      <th>AZZ5AADBV2YG5</th>\n",
              "      <th>AZZ6E9VCIO7GW</th>\n",
              "      <th>AZZ88GJO4I6YG</th>\n",
              "      <th>AZZAYNXJ9JTJQ</th>\n",
              "      <th>AZZEM9DMMK30Y</th>\n",
              "      <th>AZZG52II49RRT</th>\n",
              "      <th>AZZI1IM1Q1JTP</th>\n",
              "      <th>AZZJBKJX833IV</th>\n",
              "      <th>AZZJTZ72VSLVO</th>\n",
              "      <th>AZZLVG46QQLG</th>\n",
              "      <th>AZZMQ85DPFEG3</th>\n",
              "      <th>AZZNT2OR7RK9A</th>\n",
              "      <th>AZZSESC35RSNM</th>\n",
              "      <th>AZZSKY850ERY8</th>\n",
              "      <th>AZZU4Z2H0IMAO</th>\n",
              "      <th>AZZV70LXKPX8M</th>\n",
              "      <th>AZZW87Z2WPXOT</th>\n",
              "      <th>AZZWZ1OLYCDR5</th>\n",
              "      <th>AZZYDSEQ6PHU1</th>\n",
              "      <th>AZZYJH0XNZ896</th>\n",
              "    </tr>\n",
              "    <tr>\n",
              "      <th>title</th>\n",
              "      <th></th>\n",
              "      <th></th>\n",
              "      <th></th>\n",
              "      <th></th>\n",
              "      <th></th>\n",
              "      <th></th>\n",
              "      <th></th>\n",
              "      <th></th>\n",
              "      <th></th>\n",
              "      <th></th>\n",
              "      <th></th>\n",
              "      <th></th>\n",
              "      <th></th>\n",
              "      <th></th>\n",
              "      <th></th>\n",
              "      <th></th>\n",
              "      <th></th>\n",
              "      <th></th>\n",
              "      <th></th>\n",
              "      <th></th>\n",
              "      <th></th>\n",
              "      <th></th>\n",
              "      <th></th>\n",
              "      <th></th>\n",
              "      <th></th>\n",
              "      <th></th>\n",
              "      <th></th>\n",
              "      <th></th>\n",
              "      <th></th>\n",
              "      <th></th>\n",
              "      <th></th>\n",
              "      <th></th>\n",
              "      <th></th>\n",
              "      <th></th>\n",
              "      <th></th>\n",
              "      <th></th>\n",
              "      <th></th>\n",
              "      <th></th>\n",
              "      <th></th>\n",
              "      <th></th>\n",
              "      <th></th>\n",
              "      <th></th>\n",
              "      <th></th>\n",
              "      <th></th>\n",
              "      <th></th>\n",
              "      <th></th>\n",
              "      <th></th>\n",
              "      <th></th>\n",
              "      <th></th>\n",
              "      <th></th>\n",
              "      <th></th>\n",
              "      <th></th>\n",
              "      <th></th>\n",
              "      <th></th>\n",
              "      <th></th>\n",
              "      <th></th>\n",
              "      <th></th>\n",
              "      <th></th>\n",
              "      <th></th>\n",
              "      <th></th>\n",
              "      <th></th>\n",
              "      <th></th>\n",
              "      <th></th>\n",
              "      <th></th>\n",
              "      <th></th>\n",
              "      <th></th>\n",
              "      <th></th>\n",
              "      <th></th>\n",
              "      <th></th>\n",
              "      <th></th>\n",
              "      <th></th>\n",
              "      <th></th>\n",
              "      <th></th>\n",
              "      <th></th>\n",
              "      <th></th>\n",
              "      <th></th>\n",
              "      <th></th>\n",
              "      <th></th>\n",
              "      <th></th>\n",
              "      <th></th>\n",
              "      <th></th>\n",
              "    </tr>\n",
              "  </thead>\n",
              "  <tbody>\n",
              "    <tr>\n",
              "      <th>1/14 Scale Ferrari La Ferrari LaFerrari Radio Remote Control Model Car R/C RTR Open Doors (Color May Vary)</th>\n",
              "      <td>0.0</td>\n",
              "      <td>0.0</td>\n",
              "      <td>0.0</td>\n",
              "      <td>0.0</td>\n",
              "      <td>0.0</td>\n",
              "      <td>0.0</td>\n",
              "      <td>0.0</td>\n",
              "      <td>0.0</td>\n",
              "      <td>0.0</td>\n",
              "      <td>0.0</td>\n",
              "      <td>0.0</td>\n",
              "      <td>0.0</td>\n",
              "      <td>0.0</td>\n",
              "      <td>0.0</td>\n",
              "      <td>0.0</td>\n",
              "      <td>0.0</td>\n",
              "      <td>0.0</td>\n",
              "      <td>0.0</td>\n",
              "      <td>0.0</td>\n",
              "      <td>0.0</td>\n",
              "      <td>0.0</td>\n",
              "      <td>0.0</td>\n",
              "      <td>0.0</td>\n",
              "      <td>0.0</td>\n",
              "      <td>0.0</td>\n",
              "      <td>0.0</td>\n",
              "      <td>0.0</td>\n",
              "      <td>0.0</td>\n",
              "      <td>0.0</td>\n",
              "      <td>0.0</td>\n",
              "      <td>0.0</td>\n",
              "      <td>0.0</td>\n",
              "      <td>0.0</td>\n",
              "      <td>0.0</td>\n",
              "      <td>0.0</td>\n",
              "      <td>0.0</td>\n",
              "      <td>0.0</td>\n",
              "      <td>0.0</td>\n",
              "      <td>0.0</td>\n",
              "      <td>0.0</td>\n",
              "      <td>...</td>\n",
              "      <td>0.0</td>\n",
              "      <td>0.0</td>\n",
              "      <td>0.0</td>\n",
              "      <td>0.0</td>\n",
              "      <td>0.0</td>\n",
              "      <td>0.0</td>\n",
              "      <td>0.0</td>\n",
              "      <td>0.0</td>\n",
              "      <td>0.0</td>\n",
              "      <td>0.0</td>\n",
              "      <td>0.0</td>\n",
              "      <td>0.0</td>\n",
              "      <td>0.0</td>\n",
              "      <td>0.0</td>\n",
              "      <td>0.0</td>\n",
              "      <td>0.0</td>\n",
              "      <td>0.0</td>\n",
              "      <td>0.0</td>\n",
              "      <td>0.0</td>\n",
              "      <td>0.0</td>\n",
              "      <td>0.0</td>\n",
              "      <td>0.0</td>\n",
              "      <td>0.0</td>\n",
              "      <td>0.0</td>\n",
              "      <td>0.0</td>\n",
              "      <td>0.0</td>\n",
              "      <td>0.0</td>\n",
              "      <td>0.0</td>\n",
              "      <td>0.0</td>\n",
              "      <td>0.0</td>\n",
              "      <td>0.0</td>\n",
              "      <td>0.0</td>\n",
              "      <td>0.0</td>\n",
              "      <td>0.0</td>\n",
              "      <td>0.0</td>\n",
              "      <td>0.0</td>\n",
              "      <td>0.0</td>\n",
              "      <td>0.0</td>\n",
              "      <td>0.0</td>\n",
              "      <td>0.0</td>\n",
              "    </tr>\n",
              "    <tr>\n",
              "      <th>100 Medium Dreidels - Assorted Colors - Classic Chanukah Spinning Draidel Game and Prize - Bulk Value Pack - By Izzy 'n' Dizzy</th>\n",
              "      <td>0.0</td>\n",
              "      <td>0.0</td>\n",
              "      <td>0.0</td>\n",
              "      <td>0.0</td>\n",
              "      <td>0.0</td>\n",
              "      <td>0.0</td>\n",
              "      <td>0.0</td>\n",
              "      <td>0.0</td>\n",
              "      <td>0.0</td>\n",
              "      <td>0.0</td>\n",
              "      <td>0.0</td>\n",
              "      <td>0.0</td>\n",
              "      <td>0.0</td>\n",
              "      <td>0.0</td>\n",
              "      <td>0.0</td>\n",
              "      <td>0.0</td>\n",
              "      <td>0.0</td>\n",
              "      <td>0.0</td>\n",
              "      <td>0.0</td>\n",
              "      <td>0.0</td>\n",
              "      <td>0.0</td>\n",
              "      <td>0.0</td>\n",
              "      <td>0.0</td>\n",
              "      <td>0.0</td>\n",
              "      <td>0.0</td>\n",
              "      <td>0.0</td>\n",
              "      <td>0.0</td>\n",
              "      <td>0.0</td>\n",
              "      <td>0.0</td>\n",
              "      <td>0.0</td>\n",
              "      <td>0.0</td>\n",
              "      <td>0.0</td>\n",
              "      <td>0.0</td>\n",
              "      <td>0.0</td>\n",
              "      <td>0.0</td>\n",
              "      <td>0.0</td>\n",
              "      <td>0.0</td>\n",
              "      <td>0.0</td>\n",
              "      <td>0.0</td>\n",
              "      <td>0.0</td>\n",
              "      <td>...</td>\n",
              "      <td>0.0</td>\n",
              "      <td>0.0</td>\n",
              "      <td>0.0</td>\n",
              "      <td>0.0</td>\n",
              "      <td>0.0</td>\n",
              "      <td>0.0</td>\n",
              "      <td>0.0</td>\n",
              "      <td>0.0</td>\n",
              "      <td>0.0</td>\n",
              "      <td>0.0</td>\n",
              "      <td>0.0</td>\n",
              "      <td>0.0</td>\n",
              "      <td>0.0</td>\n",
              "      <td>0.0</td>\n",
              "      <td>0.0</td>\n",
              "      <td>0.0</td>\n",
              "      <td>0.0</td>\n",
              "      <td>0.0</td>\n",
              "      <td>0.0</td>\n",
              "      <td>0.0</td>\n",
              "      <td>0.0</td>\n",
              "      <td>0.0</td>\n",
              "      <td>0.0</td>\n",
              "      <td>0.0</td>\n",
              "      <td>0.0</td>\n",
              "      <td>0.0</td>\n",
              "      <td>0.0</td>\n",
              "      <td>0.0</td>\n",
              "      <td>0.0</td>\n",
              "      <td>0.0</td>\n",
              "      <td>0.0</td>\n",
              "      <td>0.0</td>\n",
              "      <td>0.0</td>\n",
              "      <td>0.0</td>\n",
              "      <td>0.0</td>\n",
              "      <td>0.0</td>\n",
              "      <td>0.0</td>\n",
              "      <td>0.0</td>\n",
              "      <td>0.0</td>\n",
              "      <td>0.0</td>\n",
              "    </tr>\n",
              "    <tr>\n",
              "      <th>1000 Assorted Magic: The Gathering Cards Gold Collection</th>\n",
              "      <td>0.0</td>\n",
              "      <td>0.0</td>\n",
              "      <td>0.0</td>\n",
              "      <td>0.0</td>\n",
              "      <td>0.0</td>\n",
              "      <td>0.0</td>\n",
              "      <td>0.0</td>\n",
              "      <td>0.0</td>\n",
              "      <td>0.0</td>\n",
              "      <td>0.0</td>\n",
              "      <td>0.0</td>\n",
              "      <td>0.0</td>\n",
              "      <td>0.0</td>\n",
              "      <td>0.0</td>\n",
              "      <td>0.0</td>\n",
              "      <td>0.0</td>\n",
              "      <td>0.0</td>\n",
              "      <td>0.0</td>\n",
              "      <td>0.0</td>\n",
              "      <td>0.0</td>\n",
              "      <td>0.0</td>\n",
              "      <td>0.0</td>\n",
              "      <td>0.0</td>\n",
              "      <td>0.0</td>\n",
              "      <td>0.0</td>\n",
              "      <td>0.0</td>\n",
              "      <td>0.0</td>\n",
              "      <td>0.0</td>\n",
              "      <td>0.0</td>\n",
              "      <td>0.0</td>\n",
              "      <td>0.0</td>\n",
              "      <td>0.0</td>\n",
              "      <td>0.0</td>\n",
              "      <td>0.0</td>\n",
              "      <td>0.0</td>\n",
              "      <td>0.0</td>\n",
              "      <td>0.0</td>\n",
              "      <td>0.0</td>\n",
              "      <td>0.0</td>\n",
              "      <td>0.0</td>\n",
              "      <td>...</td>\n",
              "      <td>0.0</td>\n",
              "      <td>0.0</td>\n",
              "      <td>0.0</td>\n",
              "      <td>0.0</td>\n",
              "      <td>0.0</td>\n",
              "      <td>0.0</td>\n",
              "      <td>0.0</td>\n",
              "      <td>0.0</td>\n",
              "      <td>0.0</td>\n",
              "      <td>0.0</td>\n",
              "      <td>0.0</td>\n",
              "      <td>0.0</td>\n",
              "      <td>0.0</td>\n",
              "      <td>0.0</td>\n",
              "      <td>0.0</td>\n",
              "      <td>0.0</td>\n",
              "      <td>0.0</td>\n",
              "      <td>0.0</td>\n",
              "      <td>0.0</td>\n",
              "      <td>0.0</td>\n",
              "      <td>0.0</td>\n",
              "      <td>0.0</td>\n",
              "      <td>0.0</td>\n",
              "      <td>0.0</td>\n",
              "      <td>0.0</td>\n",
              "      <td>0.0</td>\n",
              "      <td>0.0</td>\n",
              "      <td>0.0</td>\n",
              "      <td>0.0</td>\n",
              "      <td>0.0</td>\n",
              "      <td>0.0</td>\n",
              "      <td>0.0</td>\n",
              "      <td>0.0</td>\n",
              "      <td>0.0</td>\n",
              "      <td>0.0</td>\n",
              "      <td>0.0</td>\n",
              "      <td>0.0</td>\n",
              "      <td>0.0</td>\n",
              "      <td>0.0</td>\n",
              "      <td>0.0</td>\n",
              "    </tr>\n",
              "  </tbody>\n",
              "</table>\n",
              "<p>3 rows × 135654 columns</p>\n",
              "</div>"
            ],
            "text/plain": [
              "reviewerID                                          A0014958J6WGO905GVK1  ...  AZZYJH0XNZ896\n",
              "title                                                                     ...               \n",
              "1/14 Scale Ferrari La Ferrari LaFerrari Radio R...                   0.0  ...            0.0\n",
              "100 Medium Dreidels - Assorted Colors - Classic...                   0.0  ...            0.0\n",
              "1000 Assorted Magic: The Gathering Cards Gold C...                   0.0  ...            0.0\n",
              "\n",
              "[3 rows x 135654 columns]"
            ]
          },
          "metadata": {
            "tags": []
          },
          "execution_count": 33
        }
      ]
    },
    {
      "cell_type": "code",
      "metadata": {
        "id": "Mjo7ioCigRUM"
      },
      "source": [
        "import numpy as np\r\n",
        "from scipy.sparse import csr_matrix\r\n",
        "from sklearn.neighbors import NearestNeighbors"
      ],
      "execution_count": 34,
      "outputs": []
    },
    {
      "cell_type": "code",
      "metadata": {
        "id": "kVidxKUzX8Xp"
      },
      "source": [
        "# transform matrix to scipy sparse matrix\r\n",
        "item_user_matrix_sparse = csr_matrix(item_user_matrix.values)"
      ],
      "execution_count": 35,
      "outputs": []
    },
    {
      "cell_type": "code",
      "metadata": {
        "colab": {
          "base_uri": "https://localhost:8080/"
        },
        "id": "wVwvLKTqYi0m",
        "outputId": "4e9dd255-7f98-46b4-e37f-b5a28ed42582"
      },
      "source": [
        "item_user_matrix_sparse"
      ],
      "execution_count": 36,
      "outputs": [
        {
          "output_type": "execute_result",
          "data": {
            "text/plain": [
              "<1493x135654 sparse matrix of type '<class 'numpy.float64'>'\n",
              "\twith 152969 stored elements in Compressed Sparse Row format>"
            ]
          },
          "metadata": {
            "tags": []
          },
          "execution_count": 36
        }
      ]
    },
    {
      "cell_type": "code",
      "metadata": {
        "colab": {
          "base_uri": "https://localhost:8080/"
        },
        "id": "wEXyz6NNYi32",
        "outputId": "87f0fd7b-8d58-49f5-b577-a960252848ab"
      },
      "source": [
        "# define model\r\n",
        "model_nn = NearestNeighbors(metric='cosine', algorithm='brute', n_neighbors=20)\r\n",
        "# fit\r\n",
        "model_nn.fit(item_user_matrix_sparse)"
      ],
      "execution_count": 37,
      "outputs": [
        {
          "output_type": "execute_result",
          "data": {
            "text/plain": [
              "NearestNeighbors(algorithm='brute', leaf_size=30, metric='cosine',\n",
              "                 metric_params=None, n_jobs=None, n_neighbors=20, p=2,\n",
              "                 radius=1.0)"
            ]
          },
          "metadata": {
            "tags": []
          },
          "execution_count": 37
        }
      ]
    },
    {
      "cell_type": "code",
      "metadata": {
        "id": "ISnjmJDOU1Uw",
        "colab": {
          "base_uri": "https://localhost:8080/"
        },
        "outputId": "62e597db-2612-4a95-80fc-84ebb33d24ee"
      },
      "source": [
        "!pip install fuzzywuzzy\r\n",
        "from fuzzywuzzy import fuzz"
      ],
      "execution_count": 38,
      "outputs": [
        {
          "output_type": "stream",
          "text": [
            "Requirement already satisfied: fuzzywuzzy in /usr/local/lib/python3.7/dist-packages (0.18.0)\n"
          ],
          "name": "stdout"
        }
      ]
    },
    {
      "cell_type": "code",
      "metadata": {
        "id": "YMKdfCDVRlvz"
      },
      "source": [
        "def print_recommendations(query_product, product_matrix=item_user_matrix, knn_model=model_nn):\r\n",
        "  query_index = None\r\n",
        "  ratio_tuples = []\r\n",
        "  #recommend=[]\r\n",
        "\r\n",
        "  for i in product_matrix.index:\r\n",
        "    ratio = fuzz.ratio(i.lower(), query_product.lower())\r\n",
        "    if ratio>75:\r\n",
        "      current_query_index = product_matrix.index.tolist().index(i)\r\n",
        "      ratio_tuples.append((i, ratio, current_query_index))\r\n",
        "  #print('Possible matches: {0}\\n'.format([(x[0],x[1],x[2]) for x in ratio_tuples]))\r\n",
        "  try:\r\n",
        "    query_index = max(ratio_tuples, key = lambda x: x[1])[2] # get the index of the best artist match in the data\r\n",
        "    distances, indices = knn_model.kneighbors(product_matrix.iloc[query_index,:].values.reshape(1,-1),n_neighbors = 11)\r\n",
        "  except:\r\n",
        "    print('Your Product didn\\'t match any Products in the data. Try again')\r\n",
        "  \r\n",
        "  for i in range(0,len(distances.flatten())):\r\n",
        "    if i == 0:\r\n",
        "      #choose_product = product_matrix.index[query_index]\r\n",
        "      print('Recommendations for {0}:\\n'.format(product_matrix.index[query_index]))\r\n",
        "    else:\r\n",
        "\r\n",
        "      #recommend.append(product_matrix.index[indices.flatten()[i]])\r\n",
        "      print('{0}: {1}'.format(i,product_matrix.index[indices.flatten()[i]]))\r\n",
        "\r\n",
        "  return None\r\n"
      ],
      "execution_count": 39,
      "outputs": []
    },
    {
      "cell_type": "code",
      "metadata": {
        "colab": {
          "base_uri": "https://localhost:8080/"
        },
        "id": "Lu_UAOJ4C746",
        "outputId": "f04c82c6-418f-431a-f1c9-70cf7d14945e"
      },
      "source": [
        "print_recommendations(\"Da Vinci Bang!: The Dice Game\")"
      ],
      "execution_count": 40,
      "outputs": [
        {
          "output_type": "stream",
          "text": [
            "Recommendations for Da Vinci Bang!: The Dice Game:\n",
            "\n",
            "1: IELLO King of Tokyo: New Edition Board Game\n",
            "2: Grey Fox Games Deception: Murder in Hong Kong\n",
            "3: Sushi Go Party! Card Game\n",
            "4: PlayMonster Stratego Original\n",
            "5: One Night Ultimate Werewolf\n",
            "6: Nerf Rival Apollo XV-700 (Red)\n",
            "7: Little Tikes Princess Cozy Truck Ride-On\n",
            "8: CoolCats &amp; AssHats - Adult Drinking Card Game for Parties\n",
            "9: Fisher-Price Bubble Mower\n",
            "10: Munchkin Deluxe\n"
          ],
          "name": "stdout"
        }
      ]
    },
    {
      "cell_type": "code",
      "metadata": {
        "colab": {
          "base_uri": "https://localhost:8080/"
        },
        "id": "nVAFtJRZD6ih",
        "outputId": "a7769727-82f5-40f9-b3e4-30a10275c0cf"
      },
      "source": [
        "print_recommendations(\"Sushi Go Party! Card Game\")"
      ],
      "execution_count": 41,
      "outputs": [
        {
          "output_type": "stream",
          "text": [
            "Recommendations for Sushi Go Party! Card Game:\n",
            "\n",
            "1: Da Vinci Bang!: The Dice Game\n",
            "2: Z-Man Games Carcassonne\n",
            "3: Sushi Go! - The Pick and Pass Card Game\n",
            "4: Grey Fox Games Deception: Murder in Hong Kong\n",
            "5: Splendor\n",
            "6: Terraforming Mars Board Game\n",
            "7: IELLO King of Tokyo: New Edition Board Game\n",
            "8: Arcane Wonders Sheriff of Nottingham\n",
            "9: Coup (The Dystopian Universe)\n",
            "10: Dragonwood A Game of Dice &amp; Daring Board Game\n"
          ],
          "name": "stdout"
        }
      ]
    },
    {
      "cell_type": "code",
      "metadata": {
        "id": "-9OBWP4cD_PQ"
      },
      "source": [
        ""
      ],
      "execution_count": null,
      "outputs": []
    }
  ]
}