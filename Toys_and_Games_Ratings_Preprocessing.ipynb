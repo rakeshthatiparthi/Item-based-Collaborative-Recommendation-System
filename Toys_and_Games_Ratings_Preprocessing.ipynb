{
  "nbformat": 4,
  "nbformat_minor": 0,
  "metadata": {
    "colab": {
      "name": "Toys and Games Ratings.ipynb",
      "provenance": [],
      "collapsed_sections": [],
      "machine_shape": "hm"
    },
    "kernelspec": {
      "name": "python3",
      "display_name": "Python 3"
    },
    "accelerator": "GPU"
  },
  "cells": [
    {
      "cell_type": "code",
      "metadata": {
        "id": "tAb77yZ9fzMG"
      },
      "source": [
        "import os\n",
        "import json\n",
        "import gzip\n",
        "import pandas as pd\n",
        "from urllib.request import urlopen"
      ],
      "execution_count": null,
      "outputs": []
    },
    {
      "cell_type": "code",
      "metadata": {
        "id": "pafL7Li0jyXW",
        "colab": {
          "base_uri": "https://localhost:8080/"
        },
        "outputId": "495c2be0-08d9-44a5-f260-93350519f89d"
      },
      "source": [
        "!wget http://deepyeti.ucsd.edu/jianmo/amazon/categoryFiles/Toys_and_Games.json.gz"
      ],
      "execution_count": null,
      "outputs": [
        {
          "output_type": "stream",
          "text": [
            "--2021-01-29 11:30:28--  http://deepyeti.ucsd.edu/jianmo/amazon/categoryFiles/Toys_and_Games.json.gz\n",
            "Resolving deepyeti.ucsd.edu (deepyeti.ucsd.edu)... 169.228.63.50\n",
            "Connecting to deepyeti.ucsd.edu (deepyeti.ucsd.edu)|169.228.63.50|:80... connected.\n",
            "HTTP request sent, awaiting response... 200 OK\n",
            "Length: 999020493 (953M) [application/octet-stream]\n",
            "Saving to: ‘Toys_and_Games.json.gz’\n",
            "\n",
            "Toys_and_Games.json 100%[===================>] 952.74M  19.7MB/s    in 48s     \n",
            "\n",
            "2021-01-29 11:31:17 (19.7 MB/s) - ‘Toys_and_Games.json.gz’ saved [999020493/999020493]\n",
            "\n"
          ],
          "name": "stdout"
        }
      ]
    },
    {
      "cell_type": "code",
      "metadata": {
        "id": "6hmAf-TKkcvj",
        "colab": {
          "base_uri": "https://localhost:8080/"
        },
        "outputId": "a3009a60-1d70-4957-87e9-f85a0abd3c98"
      },
      "source": [
        "### load the meta data\n",
        "\n",
        "data = []\n",
        "with gzip.open('Toys_and_Games.json.gz') as f:\n",
        "    for l in f:\n",
        "        data.append(json.loads(l.strip()))\n",
        "    \n",
        "# total length of list, this number equals total number of products\n",
        "print(len(data))\n",
        "\n",
        "# first row of the list\n",
        "print(data[0])"
      ],
      "execution_count": null,
      "outputs": [
        {
          "output_type": "stream",
          "text": [
            "8201231\n",
            "{'overall': 2.0, 'vote': '12', 'verified': False, 'reviewTime': '09 22, 2016', 'reviewerID': 'A1IDMI31WEANAF', 'asin': '0020232233', 'reviewerName': 'Mackenzie Kent', 'reviewText': \"When it comes to a DM's screen, the space on the screen itself is at an absolute premium. The fact that 50% of this space is wasted on art (and not terribly informative or needed art as well) makes it completely useless. The only reason that I gave it 2 stars and not 1 was that, technically speaking, it can at least still stand up to block your notes and dice rolls. Other than that, it drops the ball completely.\", 'summary': 'The fact that 50% of this space is wasted on art (and not terribly informative or needed art ...', 'unixReviewTime': 1474502400}\n"
          ],
          "name": "stdout"
        }
      ]
    },
    {
      "cell_type": "code",
      "metadata": {
        "id": "PEffrNzrlDbX",
        "colab": {
          "base_uri": "https://localhost:8080/"
        },
        "outputId": "9bc1ee61-2943-4f49-b8c0-11d17fa8bb78"
      },
      "source": [
        "df = pd.DataFrame.from_dict(data)\n",
        "\n",
        "print(len(df))"
      ],
      "execution_count": null,
      "outputs": [
        {
          "output_type": "stream",
          "text": [
            "8201231\n"
          ],
          "name": "stdout"
        }
      ]
    },
    {
      "cell_type": "code",
      "metadata": {
        "id": "ZA25Rh83lDfP",
        "colab": {
          "base_uri": "https://localhost:8080/",
          "height": 294
        },
        "outputId": "ffcc6aaa-cf10-4c9a-c557-c72ecab10e91"
      },
      "source": [
        "df.head(2)"
      ],
      "execution_count": null,
      "outputs": [
        {
          "output_type": "execute_result",
          "data": {
            "text/html": [
              "<div>\n",
              "<style scoped>\n",
              "    .dataframe tbody tr th:only-of-type {\n",
              "        vertical-align: middle;\n",
              "    }\n",
              "\n",
              "    .dataframe tbody tr th {\n",
              "        vertical-align: top;\n",
              "    }\n",
              "\n",
              "    .dataframe thead th {\n",
              "        text-align: right;\n",
              "    }\n",
              "</style>\n",
              "<table border=\"1\" class=\"dataframe\">\n",
              "  <thead>\n",
              "    <tr style=\"text-align: right;\">\n",
              "      <th></th>\n",
              "      <th>overall</th>\n",
              "      <th>vote</th>\n",
              "      <th>verified</th>\n",
              "      <th>reviewTime</th>\n",
              "      <th>reviewerID</th>\n",
              "      <th>asin</th>\n",
              "      <th>reviewerName</th>\n",
              "      <th>reviewText</th>\n",
              "      <th>summary</th>\n",
              "      <th>unixReviewTime</th>\n",
              "      <th>image</th>\n",
              "      <th>style</th>\n",
              "    </tr>\n",
              "  </thead>\n",
              "  <tbody>\n",
              "    <tr>\n",
              "      <th>0</th>\n",
              "      <td>2.0</td>\n",
              "      <td>12</td>\n",
              "      <td>False</td>\n",
              "      <td>09 22, 2016</td>\n",
              "      <td>A1IDMI31WEANAF</td>\n",
              "      <td>0020232233</td>\n",
              "      <td>Mackenzie Kent</td>\n",
              "      <td>When it comes to a DM's screen, the space on t...</td>\n",
              "      <td>The fact that 50% of this space is wasted on a...</td>\n",
              "      <td>1474502400</td>\n",
              "      <td>NaN</td>\n",
              "      <td>NaN</td>\n",
              "    </tr>\n",
              "    <tr>\n",
              "      <th>1</th>\n",
              "      <td>1.0</td>\n",
              "      <td>21</td>\n",
              "      <td>False</td>\n",
              "      <td>09 18, 2016</td>\n",
              "      <td>A4BCEVVZ4Y3V3</td>\n",
              "      <td>0020232233</td>\n",
              "      <td>Jonathan Christian</td>\n",
              "      <td>An Open Letter to GaleForce9*:\\n\\nYour unpaint...</td>\n",
              "      <td>Another worthless Dungeon Master's screen from...</td>\n",
              "      <td>1474156800</td>\n",
              "      <td>NaN</td>\n",
              "      <td>NaN</td>\n",
              "    </tr>\n",
              "  </tbody>\n",
              "</table>\n",
              "</div>"
            ],
            "text/plain": [
              "   overall vote  verified  ... unixReviewTime image style\n",
              "0      2.0   12     False  ...     1474502400   NaN   NaN\n",
              "1      1.0   21     False  ...     1474156800   NaN   NaN\n",
              "\n",
              "[2 rows x 12 columns]"
            ]
          },
          "metadata": {
            "tags": []
          },
          "execution_count": 5
        }
      ]
    },
    {
      "cell_type": "markdown",
      "metadata": {
        "id": "IRF8QKtzzEDA"
      },
      "source": [
        "### Take the columns \"**overall**\",\"**verified**\",\"**reviewTime**\",\"**asin**\".\n",
        "**WHY ??**\n",
        "\n",
        "\n",
        "*   \"overall\" : ratings of product given by users\n",
        "*   \"verified\": to filter only true verified ratings\n",
        "*   reviewerID: user id\n",
        "*   \"asin\": unique product id\n",
        "*   \"reviewTime\": to take only few years of ratings \n",
        "\n",
        "\n",
        "\n",
        "\n",
        "\n",
        "\n"
      ]
    },
    {
      "cell_type": "code",
      "metadata": {
        "id": "pFwke7pJlDjr"
      },
      "source": [
        "#take overall,verified,reviewTime,asin columns\n",
        "df2 = df[['overall','verified','reviewerID','asin','reviewTime']]"
      ],
      "execution_count": null,
      "outputs": []
    },
    {
      "cell_type": "code",
      "metadata": {
        "id": "W_6ecLevlDnP",
        "colab": {
          "base_uri": "https://localhost:8080/",
          "height": 195
        },
        "outputId": "760e0956-3324-4d97-96b0-8e5af4cf4f36"
      },
      "source": [
        "# see top 5 rows\n",
        "df2.head()"
      ],
      "execution_count": null,
      "outputs": [
        {
          "output_type": "execute_result",
          "data": {
            "text/html": [
              "<div>\n",
              "<style scoped>\n",
              "    .dataframe tbody tr th:only-of-type {\n",
              "        vertical-align: middle;\n",
              "    }\n",
              "\n",
              "    .dataframe tbody tr th {\n",
              "        vertical-align: top;\n",
              "    }\n",
              "\n",
              "    .dataframe thead th {\n",
              "        text-align: right;\n",
              "    }\n",
              "</style>\n",
              "<table border=\"1\" class=\"dataframe\">\n",
              "  <thead>\n",
              "    <tr style=\"text-align: right;\">\n",
              "      <th></th>\n",
              "      <th>overall</th>\n",
              "      <th>verified</th>\n",
              "      <th>reviewerID</th>\n",
              "      <th>asin</th>\n",
              "      <th>reviewTime</th>\n",
              "    </tr>\n",
              "  </thead>\n",
              "  <tbody>\n",
              "    <tr>\n",
              "      <th>0</th>\n",
              "      <td>2.0</td>\n",
              "      <td>False</td>\n",
              "      <td>A1IDMI31WEANAF</td>\n",
              "      <td>0020232233</td>\n",
              "      <td>09 22, 2016</td>\n",
              "    </tr>\n",
              "    <tr>\n",
              "      <th>1</th>\n",
              "      <td>1.0</td>\n",
              "      <td>False</td>\n",
              "      <td>A4BCEVVZ4Y3V3</td>\n",
              "      <td>0020232233</td>\n",
              "      <td>09 18, 2016</td>\n",
              "    </tr>\n",
              "    <tr>\n",
              "      <th>2</th>\n",
              "      <td>3.0</td>\n",
              "      <td>True</td>\n",
              "      <td>A2EZ9PY1IHHBX0</td>\n",
              "      <td>0020232233</td>\n",
              "      <td>09 12, 2016</td>\n",
              "    </tr>\n",
              "    <tr>\n",
              "      <th>3</th>\n",
              "      <td>5.0</td>\n",
              "      <td>True</td>\n",
              "      <td>A139PXTTC2LGHZ</td>\n",
              "      <td>0020232233</td>\n",
              "      <td>03 2, 2017</td>\n",
              "    </tr>\n",
              "    <tr>\n",
              "      <th>4</th>\n",
              "      <td>1.0</td>\n",
              "      <td>True</td>\n",
              "      <td>A3IB33V29XIL8O</td>\n",
              "      <td>0020232233</td>\n",
              "      <td>02 8, 2017</td>\n",
              "    </tr>\n",
              "  </tbody>\n",
              "</table>\n",
              "</div>"
            ],
            "text/plain": [
              "   overall  verified      reviewerID        asin   reviewTime\n",
              "0      2.0     False  A1IDMI31WEANAF  0020232233  09 22, 2016\n",
              "1      1.0     False   A4BCEVVZ4Y3V3  0020232233  09 18, 2016\n",
              "2      3.0      True  A2EZ9PY1IHHBX0  0020232233  09 12, 2016\n",
              "3      5.0      True  A139PXTTC2LGHZ  0020232233   03 2, 2017\n",
              "4      1.0      True  A3IB33V29XIL8O  0020232233   02 8, 2017"
            ]
          },
          "metadata": {
            "tags": []
          },
          "execution_count": 7
        }
      ]
    },
    {
      "cell_type": "code",
      "metadata": {
        "colab": {
          "base_uri": "https://localhost:8080/"
        },
        "id": "sGC-TfTX_Df7",
        "outputId": "f6b8678b-a7f0-4e9c-c6e1-ff72c64303e9"
      },
      "source": [
        "#check is there any null values\r\n",
        "df2.isnull().sum()"
      ],
      "execution_count": null,
      "outputs": [
        {
          "output_type": "execute_result",
          "data": {
            "text/plain": [
              "overall       0\n",
              "verified      0\n",
              "reviewerID    0\n",
              "asin          0\n",
              "reviewTime    0\n",
              "dtype: int64"
            ]
          },
          "metadata": {
            "tags": []
          },
          "execution_count": 8
        }
      ]
    },
    {
      "cell_type": "markdown",
      "metadata": {
        "id": "6fRB6f3l_Hiz"
      },
      "source": [
        "**1. overall**"
      ]
    },
    {
      "cell_type": "code",
      "metadata": {
        "colab": {
          "base_uri": "https://localhost:8080/"
        },
        "id": "-Fd8BBum_M9l",
        "outputId": "429504dd-ed57-46b6-d3b6-32b6e1aba48b"
      },
      "source": [
        "df2['overall']"
      ],
      "execution_count": null,
      "outputs": [
        {
          "output_type": "execute_result",
          "data": {
            "text/plain": [
              "0          2.0\n",
              "1          1.0\n",
              "2          3.0\n",
              "3          5.0\n",
              "4          1.0\n",
              "          ... \n",
              "8201226    5.0\n",
              "8201227    5.0\n",
              "8201228    5.0\n",
              "8201229    5.0\n",
              "8201230    5.0\n",
              "Name: overall, Length: 8201231, dtype: float64"
            ]
          },
          "metadata": {
            "tags": []
          },
          "execution_count": 9
        }
      ]
    },
    {
      "cell_type": "code",
      "metadata": {
        "id": "g4PE20Lix0bC",
        "colab": {
          "base_uri": "https://localhost:8080/"
        },
        "outputId": "0d5747b4-365c-49d2-a4a8-c0c7c78d585b"
      },
      "source": [
        "df2['overall'].value_counts()"
      ],
      "execution_count": null,
      "outputs": [
        {
          "output_type": "execute_result",
          "data": {
            "text/plain": [
              "5.0    5375966\n",
              "4.0    1126574\n",
              "1.0     707027\n",
              "3.0     609097\n",
              "2.0     382567\n",
              "Name: overall, dtype: int64"
            ]
          },
          "metadata": {
            "tags": []
          },
          "execution_count": 10
        }
      ]
    },
    {
      "cell_type": "markdown",
      "metadata": {
        "id": "mnmdwZ58_S01"
      },
      "source": [
        "**2. verified**"
      ]
    },
    {
      "cell_type": "code",
      "metadata": {
        "colab": {
          "base_uri": "https://localhost:8080/"
        },
        "id": "U56UcJF-_YJY",
        "outputId": "df60f13d-de3a-42ea-9877-63d970f1bba8"
      },
      "source": [
        "df2['verified']"
      ],
      "execution_count": null,
      "outputs": [
        {
          "output_type": "execute_result",
          "data": {
            "text/plain": [
              "0          False\n",
              "1          False\n",
              "2           True\n",
              "3           True\n",
              "4           True\n",
              "           ...  \n",
              "8201226    False\n",
              "8201227     True\n",
              "8201228     True\n",
              "8201229     True\n",
              "8201230     True\n",
              "Name: verified, Length: 8201231, dtype: bool"
            ]
          },
          "metadata": {
            "tags": []
          },
          "execution_count": 11
        }
      ]
    },
    {
      "cell_type": "markdown",
      "metadata": {
        "id": "DfupHGGc_dCv"
      },
      "source": [
        "**OBSERVATIONS**\r\n",
        "\r\n",
        "*   There are verified and not verified  ratings\r\n",
        "*   We only need verified ratings"
      ]
    },
    {
      "cell_type": "code",
      "metadata": {
        "id": "UnE1d5Xllwov"
      },
      "source": [
        "#take only verified reviews\n",
        "df3 = df2[df2['verified']== True]"
      ],
      "execution_count": null,
      "outputs": []
    },
    {
      "cell_type": "code",
      "metadata": {
        "id": "1ozNPcWil_qm",
        "colab": {
          "base_uri": "https://localhost:8080/",
          "height": 136
        },
        "outputId": "7b50adfd-b4e0-4c86-d706-9677769f376c"
      },
      "source": [
        "df3.head(3)"
      ],
      "execution_count": null,
      "outputs": [
        {
          "output_type": "execute_result",
          "data": {
            "text/html": [
              "<div>\n",
              "<style scoped>\n",
              "    .dataframe tbody tr th:only-of-type {\n",
              "        vertical-align: middle;\n",
              "    }\n",
              "\n",
              "    .dataframe tbody tr th {\n",
              "        vertical-align: top;\n",
              "    }\n",
              "\n",
              "    .dataframe thead th {\n",
              "        text-align: right;\n",
              "    }\n",
              "</style>\n",
              "<table border=\"1\" class=\"dataframe\">\n",
              "  <thead>\n",
              "    <tr style=\"text-align: right;\">\n",
              "      <th></th>\n",
              "      <th>overall</th>\n",
              "      <th>verified</th>\n",
              "      <th>reviewerID</th>\n",
              "      <th>asin</th>\n",
              "      <th>reviewTime</th>\n",
              "    </tr>\n",
              "  </thead>\n",
              "  <tbody>\n",
              "    <tr>\n",
              "      <th>2</th>\n",
              "      <td>3.0</td>\n",
              "      <td>True</td>\n",
              "      <td>A2EZ9PY1IHHBX0</td>\n",
              "      <td>0020232233</td>\n",
              "      <td>09 12, 2016</td>\n",
              "    </tr>\n",
              "    <tr>\n",
              "      <th>3</th>\n",
              "      <td>5.0</td>\n",
              "      <td>True</td>\n",
              "      <td>A139PXTTC2LGHZ</td>\n",
              "      <td>0020232233</td>\n",
              "      <td>03 2, 2017</td>\n",
              "    </tr>\n",
              "    <tr>\n",
              "      <th>4</th>\n",
              "      <td>1.0</td>\n",
              "      <td>True</td>\n",
              "      <td>A3IB33V29XIL8O</td>\n",
              "      <td>0020232233</td>\n",
              "      <td>02 8, 2017</td>\n",
              "    </tr>\n",
              "  </tbody>\n",
              "</table>\n",
              "</div>"
            ],
            "text/plain": [
              "   overall  verified      reviewerID        asin   reviewTime\n",
              "2      3.0      True  A2EZ9PY1IHHBX0  0020232233  09 12, 2016\n",
              "3      5.0      True  A139PXTTC2LGHZ  0020232233   03 2, 2017\n",
              "4      1.0      True  A3IB33V29XIL8O  0020232233   02 8, 2017"
            ]
          },
          "metadata": {
            "tags": []
          },
          "execution_count": 14
        }
      ]
    },
    {
      "cell_type": "code",
      "metadata": {
        "id": "Wvh_-RYjuvwk",
        "colab": {
          "base_uri": "https://localhost:8080/"
        },
        "outputId": "2ddbac0e-8458-48ab-ab84-8e62af1fdbf6"
      },
      "source": [
        "df3['verified'].value_counts()"
      ],
      "execution_count": null,
      "outputs": [
        {
          "output_type": "execute_result",
          "data": {
            "text/plain": [
              "True    7231522\n",
              "Name: verified, dtype: int64"
            ]
          },
          "metadata": {
            "tags": []
          },
          "execution_count": 15
        }
      ]
    },
    {
      "cell_type": "markdown",
      "metadata": {
        "id": "aTzr4K5r_kTe"
      },
      "source": [
        "**3.reviewerID**"
      ]
    },
    {
      "cell_type": "code",
      "metadata": {
        "colab": {
          "base_uri": "https://localhost:8080/"
        },
        "id": "5sqnXas9_nwO",
        "outputId": "d0d2436e-34e2-4956-f069-ea469aeba932"
      },
      "source": [
        "df3['reviewerID']"
      ],
      "execution_count": null,
      "outputs": [
        {
          "output_type": "execute_result",
          "data": {
            "text/plain": [
              "2          A2EZ9PY1IHHBX0\n",
              "3          A139PXTTC2LGHZ\n",
              "4          A3IB33V29XIL8O\n",
              "5          A1J86V48S4KRJE\n",
              "7          A2UKOWP9ICU416\n",
              "                ...      \n",
              "8201225    A3KM7Y7B1Q8J8K\n",
              "8201227    A1KTVUVADLKWZO\n",
              "8201228    A2QCA9OE62IPZ4\n",
              "8201229    A3N28JAZYS4L9O\n",
              "8201230    A2OGYZRYRSVQZJ\n",
              "Name: reviewerID, Length: 7231522, dtype: object"
            ]
          },
          "metadata": {
            "tags": []
          },
          "execution_count": 16
        }
      ]
    },
    {
      "cell_type": "code",
      "metadata": {
        "colab": {
          "base_uri": "https://localhost:8080/"
        },
        "id": "W2-zyeeX_nzN",
        "outputId": "14c59a29-6314-452d-8a08-1e890b06f8f9"
      },
      "source": [
        "df3['reviewerID'].isnull().sum()"
      ],
      "execution_count": null,
      "outputs": [
        {
          "output_type": "execute_result",
          "data": {
            "text/plain": [
              "0"
            ]
          },
          "metadata": {
            "tags": []
          },
          "execution_count": 17
        }
      ]
    },
    {
      "cell_type": "markdown",
      "metadata": {
        "id": "AwoHPnNg_uRg"
      },
      "source": [
        "**OBSERVATIONS**\r\n",
        "\r\n",
        "Based on metadata dataset we dont know there is any blank values in reviwerID column"
      ]
    },
    {
      "cell_type": "code",
      "metadata": {
        "id": "9rdH6rGq_n2y"
      },
      "source": [
        "def remove_null_in_reviewerID(x):\r\n",
        "  if x.isalnum() == True:\r\n",
        "    return x\r\n",
        "  else:\r\n",
        "    return None"
      ],
      "execution_count": null,
      "outputs": []
    },
    {
      "cell_type": "code",
      "metadata": {
        "id": "G6Zy1zYg_n5u"
      },
      "source": [
        "df4 = df3.copy()\r\n",
        "df4['reviewerID'] = df4['reviewerID'].apply(remove_null_in_reviewerID)"
      ],
      "execution_count": null,
      "outputs": []
    },
    {
      "cell_type": "code",
      "metadata": {
        "colab": {
          "base_uri": "https://localhost:8080/"
        },
        "id": "jRocKE8Q_n8u",
        "outputId": "baca6160-8f69-44a0-aebc-81a8ac250164"
      },
      "source": [
        "df4['reviewerID'].isnull().sum()"
      ],
      "execution_count": null,
      "outputs": [
        {
          "output_type": "execute_result",
          "data": {
            "text/plain": [
              "0"
            ]
          },
          "metadata": {
            "tags": []
          },
          "execution_count": 20
        }
      ]
    },
    {
      "cell_type": "markdown",
      "metadata": {
        "id": "kpUxnrJtEY8F"
      },
      "source": [
        "**OBSERVATIONS**\r\n",
        "\r\n",
        "No null values in reviewerID column"
      ]
    },
    {
      "cell_type": "code",
      "metadata": {
        "colab": {
          "base_uri": "https://localhost:8080/",
          "height": 136
        },
        "id": "tL-DrUdP_oAL",
        "outputId": "0d1a269b-8c23-4f71-ce68-9114a90f31af"
      },
      "source": [
        "df4.head(3)"
      ],
      "execution_count": null,
      "outputs": [
        {
          "output_type": "execute_result",
          "data": {
            "text/html": [
              "<div>\n",
              "<style scoped>\n",
              "    .dataframe tbody tr th:only-of-type {\n",
              "        vertical-align: middle;\n",
              "    }\n",
              "\n",
              "    .dataframe tbody tr th {\n",
              "        vertical-align: top;\n",
              "    }\n",
              "\n",
              "    .dataframe thead th {\n",
              "        text-align: right;\n",
              "    }\n",
              "</style>\n",
              "<table border=\"1\" class=\"dataframe\">\n",
              "  <thead>\n",
              "    <tr style=\"text-align: right;\">\n",
              "      <th></th>\n",
              "      <th>overall</th>\n",
              "      <th>verified</th>\n",
              "      <th>reviewerID</th>\n",
              "      <th>asin</th>\n",
              "      <th>reviewTime</th>\n",
              "    </tr>\n",
              "  </thead>\n",
              "  <tbody>\n",
              "    <tr>\n",
              "      <th>2</th>\n",
              "      <td>3.0</td>\n",
              "      <td>True</td>\n",
              "      <td>A2EZ9PY1IHHBX0</td>\n",
              "      <td>0020232233</td>\n",
              "      <td>09 12, 2016</td>\n",
              "    </tr>\n",
              "    <tr>\n",
              "      <th>3</th>\n",
              "      <td>5.0</td>\n",
              "      <td>True</td>\n",
              "      <td>A139PXTTC2LGHZ</td>\n",
              "      <td>0020232233</td>\n",
              "      <td>03 2, 2017</td>\n",
              "    </tr>\n",
              "    <tr>\n",
              "      <th>4</th>\n",
              "      <td>1.0</td>\n",
              "      <td>True</td>\n",
              "      <td>A3IB33V29XIL8O</td>\n",
              "      <td>0020232233</td>\n",
              "      <td>02 8, 2017</td>\n",
              "    </tr>\n",
              "  </tbody>\n",
              "</table>\n",
              "</div>"
            ],
            "text/plain": [
              "   overall  verified      reviewerID        asin   reviewTime\n",
              "2      3.0      True  A2EZ9PY1IHHBX0  0020232233  09 12, 2016\n",
              "3      5.0      True  A139PXTTC2LGHZ  0020232233   03 2, 2017\n",
              "4      1.0      True  A3IB33V29XIL8O  0020232233   02 8, 2017"
            ]
          },
          "metadata": {
            "tags": []
          },
          "execution_count": 21
        }
      ]
    },
    {
      "cell_type": "markdown",
      "metadata": {
        "id": "7r-P4KawAX4P"
      },
      "source": [
        "**4.asin**"
      ]
    },
    {
      "cell_type": "code",
      "metadata": {
        "colab": {
          "base_uri": "https://localhost:8080/"
        },
        "id": "K9oLv1h7_oE6",
        "outputId": "4f99971f-df97-43a3-f101-6ed2fe5f1d1a"
      },
      "source": [
        "df4['asin']"
      ],
      "execution_count": null,
      "outputs": [
        {
          "output_type": "execute_result",
          "data": {
            "text/plain": [
              "2          0020232233\n",
              "3          0020232233\n",
              "4          0020232233\n",
              "5          0020232233\n",
              "7          0020232233\n",
              "              ...    \n",
              "8201225    B01HJBAKIO\n",
              "8201227    B01HJHA7GI\n",
              "8201228    B01HJHA7GI\n",
              "8201229    B01HJHA7GI\n",
              "8201230    B01HJHA7GI\n",
              "Name: asin, Length: 7231522, dtype: object"
            ]
          },
          "metadata": {
            "tags": []
          },
          "execution_count": 22
        }
      ]
    },
    {
      "cell_type": "code",
      "metadata": {
        "colab": {
          "base_uri": "https://localhost:8080/"
        },
        "id": "LdacA_E8AfCZ",
        "outputId": "a7e8a55e-ff86-463a-ba7d-9c3bcbaa37b3"
      },
      "source": [
        "df4['asin'].isnull().sum()"
      ],
      "execution_count": null,
      "outputs": [
        {
          "output_type": "execute_result",
          "data": {
            "text/plain": [
              "0"
            ]
          },
          "metadata": {
            "tags": []
          },
          "execution_count": 23
        }
      ]
    },
    {
      "cell_type": "markdown",
      "metadata": {
        "id": "YTpH67eXAhgt"
      },
      "source": [
        "OBSERVATIONS\r\n",
        "\r\n",
        "There may be chance of null values in this column bacause the price column shows zero null values but in that column there are null values exist"
      ]
    },
    {
      "cell_type": "code",
      "metadata": {
        "id": "4inw6MmAAlU-"
      },
      "source": [
        "def remove_null_in_asin(x):\r\n",
        "  if x.isalnum() == True:\r\n",
        "    return x\r\n",
        "  else:\r\n",
        "    return None"
      ],
      "execution_count": null,
      "outputs": []
    },
    {
      "cell_type": "code",
      "metadata": {
        "id": "422_HKx9AlYl"
      },
      "source": [
        "df5 = df4.copy()\r\n",
        "df5['asin'] = df5['asin'].apply(remove_null_in_asin)"
      ],
      "execution_count": null,
      "outputs": []
    },
    {
      "cell_type": "code",
      "metadata": {
        "colab": {
          "base_uri": "https://localhost:8080/"
        },
        "id": "-U-_Oy9zAlcE",
        "outputId": "406ab19f-c847-414c-8738-416ebc28ad2d"
      },
      "source": [
        "df5['asin'].isnull().sum()"
      ],
      "execution_count": null,
      "outputs": [
        {
          "output_type": "execute_result",
          "data": {
            "text/plain": [
              "0"
            ]
          },
          "metadata": {
            "tags": []
          },
          "execution_count": 26
        }
      ]
    },
    {
      "cell_type": "markdown",
      "metadata": {
        "id": "Zoc52DJhAui4"
      },
      "source": [
        "**OBSERVATIONS**\r\n",
        "\r\n",
        "There is no null values in asin column"
      ]
    },
    {
      "cell_type": "markdown",
      "metadata": {
        "id": "REqHe8f7A3uT"
      },
      "source": [
        "**5.reviewTime**"
      ]
    },
    {
      "cell_type": "code",
      "metadata": {
        "colab": {
          "base_uri": "https://localhost:8080/"
        },
        "id": "r6Mm5ZyDAlfU",
        "outputId": "ae20c374-a75f-4ffc-9295-f81f71df7135"
      },
      "source": [
        "df5['reviewTime']"
      ],
      "execution_count": null,
      "outputs": [
        {
          "output_type": "execute_result",
          "data": {
            "text/plain": [
              "2          09 12, 2016\n",
              "3           03 2, 2017\n",
              "4           02 8, 2017\n",
              "5          01 27, 2017\n",
              "7          12 17, 2016\n",
              "              ...     \n",
              "8201225     01 4, 2018\n",
              "8201227    01 23, 2016\n",
              "8201228     02 8, 2015\n",
              "8201229    12 31, 2014\n",
              "8201230    11 11, 2014\n",
              "Name: reviewTime, Length: 7231522, dtype: object"
            ]
          },
          "metadata": {
            "tags": []
          },
          "execution_count": 27
        }
      ]
    },
    {
      "cell_type": "markdown",
      "metadata": {
        "id": "HlOqvq38BAHB"
      },
      "source": [
        "**OBSERVATIONS**\r\n",
        "\r\n",
        "*   In column we have full date so we need only year"
      ]
    },
    {
      "cell_type": "code",
      "metadata": {
        "colab": {
          "base_uri": "https://localhost:8080/"
        },
        "id": "ryP_tf8eAliW",
        "outputId": "73296e06-e199-48ea-e340-a2e12849e325"
      },
      "source": [
        "x= '02 20, 2015'\r\n",
        "int(x.split(',')[1])"
      ],
      "execution_count": null,
      "outputs": [
        {
          "output_type": "execute_result",
          "data": {
            "text/plain": [
              "2015"
            ]
          },
          "metadata": {
            "tags": []
          },
          "execution_count": 28
        }
      ]
    },
    {
      "cell_type": "code",
      "metadata": {
        "id": "cwfFVrjXmBWX"
      },
      "source": [
        "# split the reviewTime, take only year\n",
        "df5['reviewyear'] = df5['reviewTime'].apply(lambda x: int(x.split(',')[1]))"
      ],
      "execution_count": null,
      "outputs": []
    },
    {
      "cell_type": "code",
      "metadata": {
        "id": "Nj94UTqBmy_5",
        "colab": {
          "base_uri": "https://localhost:8080/",
          "height": 106
        },
        "outputId": "df08700e-9065-43dd-e091-22eb400cec86"
      },
      "source": [
        "df5.head(2)"
      ],
      "execution_count": null,
      "outputs": [
        {
          "output_type": "execute_result",
          "data": {
            "text/html": [
              "<div>\n",
              "<style scoped>\n",
              "    .dataframe tbody tr th:only-of-type {\n",
              "        vertical-align: middle;\n",
              "    }\n",
              "\n",
              "    .dataframe tbody tr th {\n",
              "        vertical-align: top;\n",
              "    }\n",
              "\n",
              "    .dataframe thead th {\n",
              "        text-align: right;\n",
              "    }\n",
              "</style>\n",
              "<table border=\"1\" class=\"dataframe\">\n",
              "  <thead>\n",
              "    <tr style=\"text-align: right;\">\n",
              "      <th></th>\n",
              "      <th>overall</th>\n",
              "      <th>verified</th>\n",
              "      <th>reviewerID</th>\n",
              "      <th>asin</th>\n",
              "      <th>reviewTime</th>\n",
              "      <th>reviewyear</th>\n",
              "    </tr>\n",
              "  </thead>\n",
              "  <tbody>\n",
              "    <tr>\n",
              "      <th>2</th>\n",
              "      <td>3.0</td>\n",
              "      <td>True</td>\n",
              "      <td>A2EZ9PY1IHHBX0</td>\n",
              "      <td>0020232233</td>\n",
              "      <td>09 12, 2016</td>\n",
              "      <td>2016</td>\n",
              "    </tr>\n",
              "    <tr>\n",
              "      <th>3</th>\n",
              "      <td>5.0</td>\n",
              "      <td>True</td>\n",
              "      <td>A139PXTTC2LGHZ</td>\n",
              "      <td>0020232233</td>\n",
              "      <td>03 2, 2017</td>\n",
              "      <td>2017</td>\n",
              "    </tr>\n",
              "  </tbody>\n",
              "</table>\n",
              "</div>"
            ],
            "text/plain": [
              "   overall  verified      reviewerID        asin   reviewTime  reviewyear\n",
              "2      3.0      True  A2EZ9PY1IHHBX0  0020232233  09 12, 2016        2016\n",
              "3      5.0      True  A139PXTTC2LGHZ  0020232233   03 2, 2017        2017"
            ]
          },
          "metadata": {
            "tags": []
          },
          "execution_count": 30
        }
      ]
    },
    {
      "cell_type": "code",
      "metadata": {
        "id": "xBbY_EG9va9X",
        "colab": {
          "base_uri": "https://localhost:8080/"
        },
        "outputId": "37b1694e-b00a-466b-e20e-7a0d16c9a40b"
      },
      "source": [
        "df5['reviewyear'].value_counts()"
      ],
      "execution_count": null,
      "outputs": [
        {
          "output_type": "execute_result",
          "data": {
            "text/plain": [
              "2016    1761006\n",
              "2015    1557659\n",
              "2017    1358707\n",
              "2014     922624\n",
              "2018     640764\n",
              "2013     542079\n",
              "2012     201234\n",
              "2011     106902\n",
              "2010      68658\n",
              "2009      38881\n",
              "2008      18415\n",
              "2007       9871\n",
              "2006       1916\n",
              "2005       1454\n",
              "2004        509\n",
              "2003        347\n",
              "2002        316\n",
              "2001        150\n",
              "2000         29\n",
              "1999          1\n",
              "Name: reviewyear, dtype: int64"
            ]
          },
          "metadata": {
            "tags": []
          },
          "execution_count": 31
        }
      ]
    },
    {
      "cell_type": "code",
      "metadata": {
        "id": "FFkjKa0zvoH5"
      },
      "source": [
        "# consider the ratings from year 2018\n",
        "df6 = df5[df5['reviewyear']==2018]"
      ],
      "execution_count": null,
      "outputs": []
    },
    {
      "cell_type": "code",
      "metadata": {
        "id": "b7_vopScvoNr",
        "colab": {
          "base_uri": "https://localhost:8080/",
          "height": 106
        },
        "outputId": "6d874237-e4e5-4c32-b941-78a5cf4cd677"
      },
      "source": [
        "df6.head(2)"
      ],
      "execution_count": null,
      "outputs": [
        {
          "output_type": "execute_result",
          "data": {
            "text/html": [
              "<div>\n",
              "<style scoped>\n",
              "    .dataframe tbody tr th:only-of-type {\n",
              "        vertical-align: middle;\n",
              "    }\n",
              "\n",
              "    .dataframe tbody tr th {\n",
              "        vertical-align: top;\n",
              "    }\n",
              "\n",
              "    .dataframe thead th {\n",
              "        text-align: right;\n",
              "    }\n",
              "</style>\n",
              "<table border=\"1\" class=\"dataframe\">\n",
              "  <thead>\n",
              "    <tr style=\"text-align: right;\">\n",
              "      <th></th>\n",
              "      <th>overall</th>\n",
              "      <th>verified</th>\n",
              "      <th>reviewerID</th>\n",
              "      <th>asin</th>\n",
              "      <th>reviewTime</th>\n",
              "      <th>reviewyear</th>\n",
              "    </tr>\n",
              "  </thead>\n",
              "  <tbody>\n",
              "    <tr>\n",
              "      <th>589</th>\n",
              "      <td>5.0</td>\n",
              "      <td>True</td>\n",
              "      <td>AWIR3UBL405QJ</td>\n",
              "      <td>0692770445</td>\n",
              "      <td>04 4, 2018</td>\n",
              "      <td>2018</td>\n",
              "    </tr>\n",
              "    <tr>\n",
              "      <th>590</th>\n",
              "      <td>5.0</td>\n",
              "      <td>True</td>\n",
              "      <td>A1DFLJ9TJ9PH80</td>\n",
              "      <td>0692770445</td>\n",
              "      <td>04 3, 2018</td>\n",
              "      <td>2018</td>\n",
              "    </tr>\n",
              "  </tbody>\n",
              "</table>\n",
              "</div>"
            ],
            "text/plain": [
              "     overall  verified      reviewerID        asin  reviewTime  reviewyear\n",
              "589      5.0      True   AWIR3UBL405QJ  0692770445  04 4, 2018        2018\n",
              "590      5.0      True  A1DFLJ9TJ9PH80  0692770445  04 3, 2018        2018"
            ]
          },
          "metadata": {
            "tags": []
          },
          "execution_count": 36
        }
      ]
    },
    {
      "cell_type": "code",
      "metadata": {
        "id": "QB96yegcnn7E",
        "colab": {
          "base_uri": "https://localhost:8080/"
        },
        "outputId": "bba745cb-5231-4ecf-cd6e-ac445c305960"
      },
      "source": [
        "df6['reviewyear'].value_counts()"
      ],
      "execution_count": null,
      "outputs": [
        {
          "output_type": "execute_result",
          "data": {
            "text/plain": [
              "2018    640764\n",
              "Name: reviewyear, dtype: int64"
            ]
          },
          "metadata": {
            "tags": []
          },
          "execution_count": 37
        }
      ]
    },
    {
      "cell_type": "code",
      "metadata": {
        "id": "jqfE687VoC9v",
        "colab": {
          "base_uri": "https://localhost:8080/"
        },
        "outputId": "65eb8380-6a19-4d49-e16a-61d4f82a21b2"
      },
      "source": [
        "df6.shape"
      ],
      "execution_count": null,
      "outputs": [
        {
          "output_type": "execute_result",
          "data": {
            "text/plain": [
              "(640764, 6)"
            ]
          },
          "metadata": {
            "tags": []
          },
          "execution_count": 38
        }
      ]
    },
    {
      "cell_type": "code",
      "metadata": {
        "colab": {
          "base_uri": "https://localhost:8080/",
          "height": 195
        },
        "id": "G4CP-QK9F13e",
        "outputId": "c72fc06b-0e84-439b-fdb7-6cbb4897cf02"
      },
      "source": [
        "df6.head()"
      ],
      "execution_count": null,
      "outputs": [
        {
          "output_type": "execute_result",
          "data": {
            "text/html": [
              "<div>\n",
              "<style scoped>\n",
              "    .dataframe tbody tr th:only-of-type {\n",
              "        vertical-align: middle;\n",
              "    }\n",
              "\n",
              "    .dataframe tbody tr th {\n",
              "        vertical-align: top;\n",
              "    }\n",
              "\n",
              "    .dataframe thead th {\n",
              "        text-align: right;\n",
              "    }\n",
              "</style>\n",
              "<table border=\"1\" class=\"dataframe\">\n",
              "  <thead>\n",
              "    <tr style=\"text-align: right;\">\n",
              "      <th></th>\n",
              "      <th>overall</th>\n",
              "      <th>verified</th>\n",
              "      <th>reviewerID</th>\n",
              "      <th>asin</th>\n",
              "      <th>reviewTime</th>\n",
              "      <th>reviewyear</th>\n",
              "    </tr>\n",
              "  </thead>\n",
              "  <tbody>\n",
              "    <tr>\n",
              "      <th>589</th>\n",
              "      <td>5.0</td>\n",
              "      <td>True</td>\n",
              "      <td>AWIR3UBL405QJ</td>\n",
              "      <td>0692770445</td>\n",
              "      <td>04 4, 2018</td>\n",
              "      <td>2018</td>\n",
              "    </tr>\n",
              "    <tr>\n",
              "      <th>590</th>\n",
              "      <td>5.0</td>\n",
              "      <td>True</td>\n",
              "      <td>A1DFLJ9TJ9PH80</td>\n",
              "      <td>0692770445</td>\n",
              "      <td>04 3, 2018</td>\n",
              "      <td>2018</td>\n",
              "    </tr>\n",
              "    <tr>\n",
              "      <th>591</th>\n",
              "      <td>5.0</td>\n",
              "      <td>True</td>\n",
              "      <td>A1K1J2TG88SOH8</td>\n",
              "      <td>0692770445</td>\n",
              "      <td>04 2, 2018</td>\n",
              "      <td>2018</td>\n",
              "    </tr>\n",
              "    <tr>\n",
              "      <th>592</th>\n",
              "      <td>5.0</td>\n",
              "      <td>True</td>\n",
              "      <td>AOID2AE5OGHQM</td>\n",
              "      <td>0692770445</td>\n",
              "      <td>04 1, 2018</td>\n",
              "      <td>2018</td>\n",
              "    </tr>\n",
              "    <tr>\n",
              "      <th>593</th>\n",
              "      <td>1.0</td>\n",
              "      <td>True</td>\n",
              "      <td>A3ILHRAH8ZRCBD</td>\n",
              "      <td>0692770445</td>\n",
              "      <td>04 1, 2018</td>\n",
              "      <td>2018</td>\n",
              "    </tr>\n",
              "  </tbody>\n",
              "</table>\n",
              "</div>"
            ],
            "text/plain": [
              "     overall  verified      reviewerID        asin  reviewTime  reviewyear\n",
              "589      5.0      True   AWIR3UBL405QJ  0692770445  04 4, 2018        2018\n",
              "590      5.0      True  A1DFLJ9TJ9PH80  0692770445  04 3, 2018        2018\n",
              "591      5.0      True  A1K1J2TG88SOH8  0692770445  04 2, 2018        2018\n",
              "592      5.0      True   AOID2AE5OGHQM  0692770445  04 1, 2018        2018\n",
              "593      1.0      True  A3ILHRAH8ZRCBD  0692770445  04 1, 2018        2018"
            ]
          },
          "metadata": {
            "tags": []
          },
          "execution_count": 39
        }
      ]
    },
    {
      "cell_type": "code",
      "metadata": {
        "id": "EvKKw-iPF8A1"
      },
      "source": [
        "#drop the \"verified\" , \"reviewTime\"\r\n",
        "df7 = df6.drop([\"verified\",\"reviewTime\",\"reviewyear\"],axis=1)"
      ],
      "execution_count": null,
      "outputs": []
    },
    {
      "cell_type": "code",
      "metadata": {
        "colab": {
          "base_uri": "https://localhost:8080/",
          "height": 136
        },
        "id": "QZzWwP4dGGLD",
        "outputId": "57a69339-3132-4e54-b53f-315e37fcb745"
      },
      "source": [
        "df7.head(3)"
      ],
      "execution_count": null,
      "outputs": [
        {
          "output_type": "execute_result",
          "data": {
            "text/html": [
              "<div>\n",
              "<style scoped>\n",
              "    .dataframe tbody tr th:only-of-type {\n",
              "        vertical-align: middle;\n",
              "    }\n",
              "\n",
              "    .dataframe tbody tr th {\n",
              "        vertical-align: top;\n",
              "    }\n",
              "\n",
              "    .dataframe thead th {\n",
              "        text-align: right;\n",
              "    }\n",
              "</style>\n",
              "<table border=\"1\" class=\"dataframe\">\n",
              "  <thead>\n",
              "    <tr style=\"text-align: right;\">\n",
              "      <th></th>\n",
              "      <th>overall</th>\n",
              "      <th>reviewerID</th>\n",
              "      <th>asin</th>\n",
              "    </tr>\n",
              "  </thead>\n",
              "  <tbody>\n",
              "    <tr>\n",
              "      <th>589</th>\n",
              "      <td>5.0</td>\n",
              "      <td>AWIR3UBL405QJ</td>\n",
              "      <td>0692770445</td>\n",
              "    </tr>\n",
              "    <tr>\n",
              "      <th>590</th>\n",
              "      <td>5.0</td>\n",
              "      <td>A1DFLJ9TJ9PH80</td>\n",
              "      <td>0692770445</td>\n",
              "    </tr>\n",
              "    <tr>\n",
              "      <th>591</th>\n",
              "      <td>5.0</td>\n",
              "      <td>A1K1J2TG88SOH8</td>\n",
              "      <td>0692770445</td>\n",
              "    </tr>\n",
              "  </tbody>\n",
              "</table>\n",
              "</div>"
            ],
            "text/plain": [
              "     overall      reviewerID        asin\n",
              "589      5.0   AWIR3UBL405QJ  0692770445\n",
              "590      5.0  A1DFLJ9TJ9PH80  0692770445\n",
              "591      5.0  A1K1J2TG88SOH8  0692770445"
            ]
          },
          "metadata": {
            "tags": []
          },
          "execution_count": 41
        }
      ]
    },
    {
      "cell_type": "code",
      "metadata": {
        "id": "FUfw7l_sGLTc"
      },
      "source": [
        "df7.rename(columns = {'overall':'ratings'}, inplace = True)"
      ],
      "execution_count": null,
      "outputs": []
    },
    {
      "cell_type": "code",
      "metadata": {
        "colab": {
          "base_uri": "https://localhost:8080/",
          "height": 106
        },
        "id": "yEnd3Vt_GOiG",
        "outputId": "b7b777a6-f704-41c7-ea1e-cd2b3dcb3db5"
      },
      "source": [
        "df7.head(2)"
      ],
      "execution_count": null,
      "outputs": [
        {
          "output_type": "execute_result",
          "data": {
            "text/html": [
              "<div>\n",
              "<style scoped>\n",
              "    .dataframe tbody tr th:only-of-type {\n",
              "        vertical-align: middle;\n",
              "    }\n",
              "\n",
              "    .dataframe tbody tr th {\n",
              "        vertical-align: top;\n",
              "    }\n",
              "\n",
              "    .dataframe thead th {\n",
              "        text-align: right;\n",
              "    }\n",
              "</style>\n",
              "<table border=\"1\" class=\"dataframe\">\n",
              "  <thead>\n",
              "    <tr style=\"text-align: right;\">\n",
              "      <th></th>\n",
              "      <th>ratings</th>\n",
              "      <th>reviewerID</th>\n",
              "      <th>asin</th>\n",
              "    </tr>\n",
              "  </thead>\n",
              "  <tbody>\n",
              "    <tr>\n",
              "      <th>589</th>\n",
              "      <td>5.0</td>\n",
              "      <td>AWIR3UBL405QJ</td>\n",
              "      <td>0692770445</td>\n",
              "    </tr>\n",
              "    <tr>\n",
              "      <th>590</th>\n",
              "      <td>5.0</td>\n",
              "      <td>A1DFLJ9TJ9PH80</td>\n",
              "      <td>0692770445</td>\n",
              "    </tr>\n",
              "  </tbody>\n",
              "</table>\n",
              "</div>"
            ],
            "text/plain": [
              "     ratings      reviewerID        asin\n",
              "589      5.0   AWIR3UBL405QJ  0692770445\n",
              "590      5.0  A1DFLJ9TJ9PH80  0692770445"
            ]
          },
          "metadata": {
            "tags": []
          },
          "execution_count": 43
        }
      ]
    },
    {
      "cell_type": "code",
      "metadata": {
        "id": "meQ5tBy5xZeU",
        "colab": {
          "base_uri": "https://localhost:8080/"
        },
        "outputId": "9c4f521c-ef11-4d67-940d-e5d213d00aab"
      },
      "source": [
        "df7.shape"
      ],
      "execution_count": null,
      "outputs": [
        {
          "output_type": "execute_result",
          "data": {
            "text/plain": [
              "(640764, 3)"
            ]
          },
          "metadata": {
            "tags": []
          },
          "execution_count": 44
        }
      ]
    },
    {
      "cell_type": "code",
      "metadata": {
        "id": "eKTtYsTlt2hG",
        "colab": {
          "base_uri": "https://localhost:8080/"
        },
        "outputId": "65320340-408b-415a-eca5-7cf9cff5853d"
      },
      "source": [
        "#total unique products\n",
        "df7['asin'].nunique()"
      ],
      "execution_count": null,
      "outputs": [
        {
          "output_type": "execute_result",
          "data": {
            "text/plain": [
              "129254"
            ]
          },
          "metadata": {
            "tags": []
          },
          "execution_count": 45
        }
      ]
    },
    {
      "cell_type": "code",
      "metadata": {
        "id": "2n4gurc81VIS",
        "colab": {
          "base_uri": "https://localhost:8080/"
        },
        "outputId": "2aa1ccaf-b737-451d-87ba-fbafcbd78499"
      },
      "source": [
        "#verify there is no null values in dataframe\n",
        "df7.isnull().sum()"
      ],
      "execution_count": null,
      "outputs": [
        {
          "output_type": "execute_result",
          "data": {
            "text/plain": [
              "ratings       0\n",
              "reviewerID    0\n",
              "asin          0\n",
              "dtype: int64"
            ]
          },
          "metadata": {
            "tags": []
          },
          "execution_count": 46
        }
      ]
    },
    {
      "cell_type": "code",
      "metadata": {
        "id": "Q66RkuoPnFE1"
      },
      "source": [
        "#convert dataframe to csv\n",
        "df7.to_csv(\"toys and games ratings dataset.csv\",index=False)"
      ],
      "execution_count": null,
      "outputs": []
    },
    {
      "cell_type": "code",
      "metadata": {
        "id": "fu9aUgbTm88u"
      },
      "source": [
        ""
      ],
      "execution_count": null,
      "outputs": []
    }
  ]
}