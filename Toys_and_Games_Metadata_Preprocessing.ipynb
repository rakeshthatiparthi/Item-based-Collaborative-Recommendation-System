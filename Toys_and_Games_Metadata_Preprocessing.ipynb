{
  "nbformat": 4,
  "nbformat_minor": 0,
  "metadata": {
    "colab": {
      "name": "Toys and Games Metadata.ipynb",
      "provenance": [],
      "collapsed_sections": [],
      "machine_shape": "hm"
    },
    "kernelspec": {
      "name": "python3",
      "display_name": "Python 3"
    },
    "accelerator": "GPU"
  },
  "cells": [
    {
      "cell_type": "code",
      "metadata": {
        "id": "tAb77yZ9fzMG"
      },
      "source": [
        "import os\n",
        "import json\n",
        "import gzip\n",
        "import pandas as pd\n",
        "from urllib.request import urlopen"
      ],
      "execution_count": null,
      "outputs": []
    },
    {
      "cell_type": "code",
      "metadata": {
        "id": "pafL7Li0jyXW",
        "colab": {
          "base_uri": "https://localhost:8080/"
        },
        "outputId": "7d121faf-c53f-41f9-d7e1-977f605bb05f"
      },
      "source": [
        "!wget http://deepyeti.ucsd.edu/jianmo/amazon/metaFiles/meta_Toys_and_Games.json.gz"
      ],
      "execution_count": null,
      "outputs": [
        {
          "output_type": "stream",
          "text": [
            "--2021-01-26 04:24:54--  http://deepyeti.ucsd.edu/jianmo/amazon/metaFiles/meta_Toys_and_Games.json.gz\n",
            "Resolving deepyeti.ucsd.edu (deepyeti.ucsd.edu)... 169.228.63.50\n",
            "Connecting to deepyeti.ucsd.edu (deepyeti.ucsd.edu)|169.228.63.50|:80... connected.\n",
            "HTTP request sent, awaiting response... 200 OK\n",
            "Length: 799541605 (763M) [application/octet-stream]\n",
            "Saving to: ‘meta_Toys_and_Games.json.gz’\n",
            "\n",
            "meta_Toys_and_Games 100%[===================>] 762.50M  42.5MB/s    in 18s     \n",
            "\n",
            "2021-01-26 04:25:13 (41.3 MB/s) - ‘meta_Toys_and_Games.json.gz’ saved [799541605/799541605]\n",
            "\n"
          ],
          "name": "stdout"
        }
      ]
    },
    {
      "cell_type": "code",
      "metadata": {
        "id": "6hmAf-TKkcvj",
        "colab": {
          "base_uri": "https://localhost:8080/"
        },
        "outputId": "b00d7c32-fc29-4dc4-e941-57e3fdd170b2"
      },
      "source": [
        "### load the meta data\n",
        " \n",
        "data = []\n",
        "with gzip.open('meta_Toys_and_Games.json.gz') as f:\n",
        "    for l in f:\n",
        "        data.append(json.loads(l.strip()))\n",
        "    \n",
        "# total length of list, this number equals total number of products\n",
        "print(len(data))\n",
        " \n",
        "# first row of the list\n",
        "print(data[0])"
      ],
      "execution_count": null,
      "outputs": [
        {
          "output_type": "stream",
          "text": [
            "633883\n",
            "{'category': ['Toys & Games', 'Puzzles', 'Jigsaw Puzzles'], 'tech1': '', 'description': [\"Three Dr. Suess' Puzzles: Green Eggs and Ham, Favorite Friends, and One Fish Two Fish Red Fish Blue Fish\"], 'fit': '', 'title': 'Dr. Suess 19163 Dr. Seuss Puzzle 3 Pack Bundle', 'also_buy': [], 'image': ['https://images-na.ssl-images-amazon.com/images/I/51rn8TxbcoL._SS40_.jpg', 'https://images-na.ssl-images-amazon.com/images/I/51j1Fep1niL._SS40_.jpg'], 'tech2': '', 'brand': 'Dr. Seuss', 'feature': ['Three giant floor puzzles', 'Includes: Dr. Suess Green Eggs and Ham, Favorite Friends, and One Fish Two Fish Blue Fish', 'Each puzzle has 48 pieces', 'Ages 3 and up'], 'rank': ['>#2,230,717 in Toys & Games (See Top 100 in Toys & Games)', '>#57,419 in Toys & Games > Puzzles > Jigsaw Puzzles'], 'also_view': [], 'main_cat': 'Toys & Games', 'similar_item': '', 'date': '', 'price': '', 'asin': '0000191639'}\n"
          ],
          "name": "stdout"
        }
      ]
    },
    {
      "cell_type": "code",
      "metadata": {
        "id": "PEffrNzrlDbX",
        "colab": {
          "base_uri": "https://localhost:8080/"
        },
        "outputId": "346f1a6d-f5ce-4836-db42-2c8316b7ec5d"
      },
      "source": [
        "# convert list into pandas dataframe\n",
        "\n",
        "df = pd.DataFrame.from_dict(data)\n",
        "\n",
        "print(len(df))"
      ],
      "execution_count": null,
      "outputs": [
        {
          "output_type": "stream",
          "text": [
            "633883\n"
          ],
          "name": "stdout"
        }
      ]
    },
    {
      "cell_type": "code",
      "metadata": {
        "id": "ZA25Rh83lDfP",
        "colab": {
          "base_uri": "https://localhost:8080/",
          "height": 294
        },
        "outputId": "c88c47e9-010a-4457-c83b-519bae279e04"
      },
      "source": [
        "df.head(2)"
      ],
      "execution_count": null,
      "outputs": [
        {
          "output_type": "execute_result",
          "data": {
            "text/html": [
              "<div>\n",
              "<style scoped>\n",
              "    .dataframe tbody tr th:only-of-type {\n",
              "        vertical-align: middle;\n",
              "    }\n",
              "\n",
              "    .dataframe tbody tr th {\n",
              "        vertical-align: top;\n",
              "    }\n",
              "\n",
              "    .dataframe thead th {\n",
              "        text-align: right;\n",
              "    }\n",
              "</style>\n",
              "<table border=\"1\" class=\"dataframe\">\n",
              "  <thead>\n",
              "    <tr style=\"text-align: right;\">\n",
              "      <th></th>\n",
              "      <th>category</th>\n",
              "      <th>tech1</th>\n",
              "      <th>description</th>\n",
              "      <th>fit</th>\n",
              "      <th>title</th>\n",
              "      <th>also_buy</th>\n",
              "      <th>image</th>\n",
              "      <th>tech2</th>\n",
              "      <th>brand</th>\n",
              "      <th>feature</th>\n",
              "      <th>rank</th>\n",
              "      <th>also_view</th>\n",
              "      <th>main_cat</th>\n",
              "      <th>similar_item</th>\n",
              "      <th>date</th>\n",
              "      <th>price</th>\n",
              "      <th>asin</th>\n",
              "      <th>details</th>\n",
              "    </tr>\n",
              "  </thead>\n",
              "  <tbody>\n",
              "    <tr>\n",
              "      <th>0</th>\n",
              "      <td>[Toys &amp; Games, Puzzles, Jigsaw Puzzles]</td>\n",
              "      <td></td>\n",
              "      <td>[Three Dr. Suess' Puzzles: Green Eggs and Ham,...</td>\n",
              "      <td></td>\n",
              "      <td>Dr. Suess 19163 Dr. Seuss Puzzle 3 Pack Bundle</td>\n",
              "      <td>[]</td>\n",
              "      <td>[https://images-na.ssl-images-amazon.com/image...</td>\n",
              "      <td></td>\n",
              "      <td>Dr. Seuss</td>\n",
              "      <td>[Three giant floor puzzles, Includes: Dr. Sues...</td>\n",
              "      <td>[&gt;#2,230,717 in Toys &amp; Games (See Top 100 in T...</td>\n",
              "      <td>[]</td>\n",
              "      <td>Toys &amp; Games</td>\n",
              "      <td></td>\n",
              "      <td></td>\n",
              "      <td></td>\n",
              "      <td>0000191639</td>\n",
              "      <td>NaN</td>\n",
              "    </tr>\n",
              "    <tr>\n",
              "      <th>1</th>\n",
              "      <td>[]</td>\n",
              "      <td></td>\n",
              "      <td>[&lt;b&gt;Prepare to be Afraid!&lt;/b&gt;&lt;br /&gt;&lt;br /&gt;The B...</td>\n",
              "      <td></td>\n",
              "      <td>Pathfinder: Book of Beasts - Legendary Foes</td>\n",
              "      <td>[]</td>\n",
              "      <td>[]</td>\n",
              "      <td></td>\n",
              "      <td>Pathfinder Roleplaying Jon Brazer Productions</td>\n",
              "      <td>[]</td>\n",
              "      <td>[&gt;#2,294,535 in Toys &amp; Games (See Top 100 in T...</td>\n",
              "      <td>[]</td>\n",
              "      <td>Toys &amp; Games</td>\n",
              "      <td></td>\n",
              "      <td></td>\n",
              "      <td>.a-box-inner{background-color:#fff}#alohaBuyBo...</td>\n",
              "      <td>0004950763</td>\n",
              "      <td>NaN</td>\n",
              "    </tr>\n",
              "  </tbody>\n",
              "</table>\n",
              "</div>"
            ],
            "text/plain": [
              "                                  category tech1  ...        asin details\n",
              "0  [Toys & Games, Puzzles, Jigsaw Puzzles]        ...  0000191639     NaN\n",
              "1                                       []        ...  0004950763     NaN\n",
              "\n",
              "[2 rows x 18 columns]"
            ]
          },
          "metadata": {
            "tags": []
          },
          "execution_count": 5
        }
      ]
    },
    {
      "cell_type": "code",
      "metadata": {
        "id": "Lk8yMH7u4lwI",
        "colab": {
          "base_uri": "https://localhost:8080/"
        },
        "outputId": "774be61a-bed5-4aae-9794-b372b1974440"
      },
      "source": [
        "df.columns"
      ],
      "execution_count": null,
      "outputs": [
        {
          "output_type": "execute_result",
          "data": {
            "text/plain": [
              "Index(['category', 'tech1', 'description', 'fit', 'title', 'also_buy', 'image',\n",
              "       'tech2', 'brand', 'feature', 'rank', 'also_view', 'main_cat',\n",
              "       'similar_item', 'date', 'price', 'asin', 'details'],\n",
              "      dtype='object')"
            ]
          },
          "metadata": {
            "tags": []
          },
          "execution_count": 7
        }
      ]
    },
    {
      "cell_type": "markdown",
      "metadata": {
        "id": "fHseEnoMvrSB"
      },
      "source": [
        "### Take the columns \"**main_cat**\",\"**asin**\",\"**title**\".\n",
        "**WHY ??**\n",
        "\n",
        "\n",
        "*   \"main_cat\" : main category (to filter out only Toys & Games)\n",
        "*   \"asin\": unique product id (to merge metadata dataframe to product ratings dataframe)\n",
        "*   \"title\": title of product "
      ]
    },
    {
      "cell_type": "code",
      "metadata": {
        "id": "0QL5M0ks4l3x"
      },
      "source": [
        "df2=df[['main_cat','asin','title']]"
      ],
      "execution_count": null,
      "outputs": []
    },
    {
      "cell_type": "code",
      "metadata": {
        "id": "JX7pNsSk4l7P",
        "colab": {
          "base_uri": "https://localhost:8080/",
          "height": 195
        },
        "outputId": "440c3310-12ab-4448-9a3b-1c438e37d304"
      },
      "source": [
        "df2.head()"
      ],
      "execution_count": null,
      "outputs": [
        {
          "output_type": "execute_result",
          "data": {
            "text/html": [
              "<div>\n",
              "<style scoped>\n",
              "    .dataframe tbody tr th:only-of-type {\n",
              "        vertical-align: middle;\n",
              "    }\n",
              "\n",
              "    .dataframe tbody tr th {\n",
              "        vertical-align: top;\n",
              "    }\n",
              "\n",
              "    .dataframe thead th {\n",
              "        text-align: right;\n",
              "    }\n",
              "</style>\n",
              "<table border=\"1\" class=\"dataframe\">\n",
              "  <thead>\n",
              "    <tr style=\"text-align: right;\">\n",
              "      <th></th>\n",
              "      <th>main_cat</th>\n",
              "      <th>asin</th>\n",
              "      <th>title</th>\n",
              "    </tr>\n",
              "  </thead>\n",
              "  <tbody>\n",
              "    <tr>\n",
              "      <th>0</th>\n",
              "      <td>Toys &amp; Games</td>\n",
              "      <td>0000191639</td>\n",
              "      <td>Dr. Suess 19163 Dr. Seuss Puzzle 3 Pack Bundle</td>\n",
              "    </tr>\n",
              "    <tr>\n",
              "      <th>1</th>\n",
              "      <td>Toys &amp; Games</td>\n",
              "      <td>0004950763</td>\n",
              "      <td>Pathfinder: Book of Beasts - Legendary Foes</td>\n",
              "    </tr>\n",
              "    <tr>\n",
              "      <th>2</th>\n",
              "      <td>Toys &amp; Games</td>\n",
              "      <td>0005069491</td>\n",
              "      <td>Nursery Rhymes Felt Book</td>\n",
              "    </tr>\n",
              "    <tr>\n",
              "      <th>3</th>\n",
              "      <td>Toys &amp; Games</td>\n",
              "      <td>0004983289</td>\n",
              "      <td>Dutch Blitz Card Game</td>\n",
              "    </tr>\n",
              "    <tr>\n",
              "      <th>4</th>\n",
              "      <td>Toys &amp; Games</td>\n",
              "      <td>0006466222</td>\n",
              "      <td>Magic Pen Painting (Marvel Super Heroes)</td>\n",
              "    </tr>\n",
              "  </tbody>\n",
              "</table>\n",
              "</div>"
            ],
            "text/plain": [
              "       main_cat        asin                                           title\n",
              "0  Toys & Games  0000191639  Dr. Suess 19163 Dr. Seuss Puzzle 3 Pack Bundle\n",
              "1  Toys & Games  0004950763     Pathfinder: Book of Beasts - Legendary Foes\n",
              "2  Toys & Games  0005069491                        Nursery Rhymes Felt Book\n",
              "3  Toys & Games  0004983289                           Dutch Blitz Card Game\n",
              "4  Toys & Games  0006466222        Magic Pen Painting (Marvel Super Heroes)"
            ]
          },
          "metadata": {
            "tags": []
          },
          "execution_count": 9
        }
      ]
    },
    {
      "cell_type": "markdown",
      "metadata": {
        "id": "-CF80KVnpMtC"
      },
      "source": [
        "# Data Cleaning"
      ]
    },
    {
      "cell_type": "markdown",
      "metadata": {
        "id": "qIz2Dx6Elg7Q"
      },
      "source": [
        "**1**. **main_cat**"
      ]
    },
    {
      "cell_type": "code",
      "metadata": {
        "colab": {
          "base_uri": "https://localhost:8080/"
        },
        "id": "9_3TQraClfiR",
        "outputId": "548035c3-7a7c-489c-b63f-2f335d25aa32"
      },
      "source": [
        "df2['main_cat']"
      ],
      "execution_count": null,
      "outputs": [
        {
          "output_type": "execute_result",
          "data": {
            "text/plain": [
              "0                     Toys & Games\n",
              "1                     Toys & Games\n",
              "2                     Toys & Games\n",
              "3                     Toys & Games\n",
              "4                     Toys & Games\n",
              "                    ...           \n",
              "633878    Tools & Home Improvement\n",
              "633879                Toys & Games\n",
              "633880                Toys & Games\n",
              "633881                Toys & Games\n",
              "633882                        Baby\n",
              "Name: main_cat, Length: 633883, dtype: object"
            ]
          },
          "metadata": {
            "tags": []
          },
          "execution_count": 10
        }
      ]
    },
    {
      "cell_type": "markdown",
      "metadata": {
        "id": "b0iCIjuBlohI"
      },
      "source": [
        "**OBSERVATIONS**\r\n",
        "\r\n",
        "\r\n",
        "*   There are other category products also there in this dataset \r\n",
        "*   we need to remove other category products  like Movies & TV, Books etc\r\n"
      ]
    },
    {
      "cell_type": "code",
      "metadata": {
        "colab": {
          "base_uri": "https://localhost:8080/"
        },
        "id": "huBtaeoWls1Q",
        "outputId": "431ef35f-fe47-4f6f-d62a-677a78779471"
      },
      "source": [
        "#Lets check which category has how many products\r\n",
        "df2['main_cat'].value_counts()"
      ],
      "execution_count": null,
      "outputs": [
        {
          "output_type": "execute_result",
          "data": {
            "text/plain": [
              "Toys & Games                                                                                                                                                                                      574070\n",
              "Amazon Home                                                                                                                                                                                        12856\n",
              "Baby                                                                                                                                                                                                9524\n",
              "Sports & Outdoors                                                                                                                                                                                   6112\n",
              "<img src=\"https://images-na.ssl-images-amazon.com/images/G/01/nav2/images/gui/amazon-fashion-store-new._CB520838675_.png\" class=\"nav-categ-image\" alt=\"AMAZON FASHION\"/>                            5506\n",
              "Office Products                                                                                                                                                                                     5117\n",
              "                                                                                                                                                                                                    4694\n",
              "Arts, Crafts & Sewing                                                                                                                                                                               4262\n",
              "Industrial & Scientific                                                                                                                                                                             2282\n",
              "Health & Personal Care                                                                                                                                                                              1735\n",
              "All Beauty                                                                                                                                                                                          1332\n",
              "Camera & Photo                                                                                                                                                                                       999\n",
              "Tools & Home Improvement                                                                                                                                                                             881\n",
              "Musical Instruments                                                                                                                                                                                  800\n",
              "All Electronics                                                                                                                                                                                      560\n",
              "Video Games                                                                                                                                                                                          555\n",
              "Cell Phones & Accessories                                                                                                                                                                            480\n",
              "Pet Supplies                                                                                                                                                                                         460\n",
              "Automotive                                                                                                                                                                                           362\n",
              "Computers                                                                                                                                                                                            313\n",
              "Grocery                                                                                                                                                                                              281\n",
              "Software                                                                                                                                                                                             230\n",
              "Collectible Coins                                                                                                                                                                                    144\n",
              "Home Audio & Theater                                                                                                                                                                                 122\n",
              "<img src=\"https://m.media-amazon.com/images/G/01/nav2/images/gui/amazon-fashion-store-new._CB520838675_.png\" class=\"nav-categ-image\" alt=\"AMAZON FASHION\"/>                                           58\n",
              "Entertainment                                                                                                                                                                                         33\n",
              "Fine Art                                                                                                                                                                                              29\n",
              "Car Electronics                                                                                                                                                                                       23\n",
              "Sports Collectibles                                                                                                                                                                                   19\n",
              "Portable Audio & Accessories                                                                                                                                                                          17\n",
              "<img src=\"https://images-na.ssl-images-amazon.com/images/G/01/handmade/brand/logos/2018/subnav_logo._CB502360610_.png\" class=\"nav-categ-image\" alt=\"Handmade\"/>                                       10\n",
              "Amazon Devices                                                                                                                                                                                         3\n",
              "Appliances                                                                                                                                                                                             3\n",
              "Collectibles & Fine Art                                                                                                                                                                                3\n",
              "GPS & Navigation                                                                                                                                                                                       3\n",
              "Movies & TV                                                                                                                                                                                            3\n",
              "3D Printing                                                                                                                                                                                            1\n",
              "<img src=\"https://images-na.ssl-images-amazon.com/images/G/01/img16/amazon-launchpad/content-grid/launchpad_lp_nav-logo_v2._CB268684856_.png\" class=\"nav-categ-image\" alt=\"AMAZON LAUNCHPAD\"/>         1\n",
              "Name: main_cat, dtype: int64"
            ]
          },
          "metadata": {
            "tags": []
          },
          "execution_count": 11
        }
      ]
    },
    {
      "cell_type": "code",
      "metadata": {
        "id": "VJaTqSl7ltAf"
      },
      "source": [
        "# take cell phones and accessories \r\n",
        "df3 = df2[df2['main_cat'] == 'Toys & Games']"
      ],
      "execution_count": null,
      "outputs": []
    },
    {
      "cell_type": "code",
      "metadata": {
        "colab": {
          "base_uri": "https://localhost:8080/"
        },
        "id": "NddhyEWfltD4",
        "outputId": "d5c9a7b6-a8f7-403a-e048-5596c79e797e"
      },
      "source": [
        "df3['main_cat'].value_counts()"
      ],
      "execution_count": null,
      "outputs": [
        {
          "output_type": "execute_result",
          "data": {
            "text/plain": [
              "Toys & Games    574070\n",
              "Name: main_cat, dtype: int64"
            ]
          },
          "metadata": {
            "tags": []
          },
          "execution_count": 13
        }
      ]
    },
    {
      "cell_type": "code",
      "metadata": {
        "colab": {
          "base_uri": "https://localhost:8080/",
          "height": 136
        },
        "id": "uqCyQwG2ltHI",
        "outputId": "a024ccbe-b245-4e1d-be94-2d5001b0054b"
      },
      "source": [
        "df3.head(3)"
      ],
      "execution_count": null,
      "outputs": [
        {
          "output_type": "execute_result",
          "data": {
            "text/html": [
              "<div>\n",
              "<style scoped>\n",
              "    .dataframe tbody tr th:only-of-type {\n",
              "        vertical-align: middle;\n",
              "    }\n",
              "\n",
              "    .dataframe tbody tr th {\n",
              "        vertical-align: top;\n",
              "    }\n",
              "\n",
              "    .dataframe thead th {\n",
              "        text-align: right;\n",
              "    }\n",
              "</style>\n",
              "<table border=\"1\" class=\"dataframe\">\n",
              "  <thead>\n",
              "    <tr style=\"text-align: right;\">\n",
              "      <th></th>\n",
              "      <th>main_cat</th>\n",
              "      <th>asin</th>\n",
              "      <th>title</th>\n",
              "    </tr>\n",
              "  </thead>\n",
              "  <tbody>\n",
              "    <tr>\n",
              "      <th>0</th>\n",
              "      <td>Toys &amp; Games</td>\n",
              "      <td>0000191639</td>\n",
              "      <td>Dr. Suess 19163 Dr. Seuss Puzzle 3 Pack Bundle</td>\n",
              "    </tr>\n",
              "    <tr>\n",
              "      <th>1</th>\n",
              "      <td>Toys &amp; Games</td>\n",
              "      <td>0004950763</td>\n",
              "      <td>Pathfinder: Book of Beasts - Legendary Foes</td>\n",
              "    </tr>\n",
              "    <tr>\n",
              "      <th>2</th>\n",
              "      <td>Toys &amp; Games</td>\n",
              "      <td>0005069491</td>\n",
              "      <td>Nursery Rhymes Felt Book</td>\n",
              "    </tr>\n",
              "  </tbody>\n",
              "</table>\n",
              "</div>"
            ],
            "text/plain": [
              "       main_cat        asin                                           title\n",
              "0  Toys & Games  0000191639  Dr. Suess 19163 Dr. Seuss Puzzle 3 Pack Bundle\n",
              "1  Toys & Games  0004950763     Pathfinder: Book of Beasts - Legendary Foes\n",
              "2  Toys & Games  0005069491                        Nursery Rhymes Felt Book"
            ]
          },
          "metadata": {
            "tags": []
          },
          "execution_count": 14
        }
      ]
    },
    {
      "cell_type": "markdown",
      "metadata": {
        "id": "RM08acaPmPT1"
      },
      "source": [
        "**2.asin**"
      ]
    },
    {
      "cell_type": "code",
      "metadata": {
        "colab": {
          "base_uri": "https://localhost:8080/"
        },
        "id": "_369rHigmNmO",
        "outputId": "b36c575f-4dd8-4810-87d3-06af88b3a132"
      },
      "source": [
        "df3['asin']"
      ],
      "execution_count": null,
      "outputs": [
        {
          "output_type": "execute_result",
          "data": {
            "text/plain": [
              "0         0000191639\n",
              "1         0004950763\n",
              "2         0005069491\n",
              "3         0004983289\n",
              "4         0006466222\n",
              "             ...    \n",
              "633876    B01HJBVP7E\n",
              "633877    B01HJC53OE\n",
              "633879    B01HJDGVFS\n",
              "633880    B01HJDUNRU\n",
              "633881    B01HJFAGJI\n",
              "Name: asin, Length: 574070, dtype: object"
            ]
          },
          "metadata": {
            "tags": []
          },
          "execution_count": 15
        }
      ]
    },
    {
      "cell_type": "code",
      "metadata": {
        "colab": {
          "base_uri": "https://localhost:8080/"
        },
        "id": "yjpP-0XymNp8",
        "outputId": "16fe943c-0d14-405e-bc59-8fa95f2adc23"
      },
      "source": [
        "df3['asin'].isnull().sum()"
      ],
      "execution_count": null,
      "outputs": [
        {
          "output_type": "execute_result",
          "data": {
            "text/plain": [
              "0"
            ]
          },
          "metadata": {
            "tags": []
          },
          "execution_count": 16
        }
      ]
    },
    {
      "cell_type": "markdown",
      "metadata": {
        "id": "dp4SkFrkmaBe"
      },
      "source": [
        "**OBSERVATIONS**\r\n",
        "\r\n",
        "There may be chance of null values in this column bacause the price column shows zero null values but in that column there are null values exist"
      ]
    },
    {
      "cell_type": "markdown",
      "metadata": {
        "id": "Adxs8QXLmhS3"
      },
      "source": [
        "**String.isalnum()** function returns **True** if the string contains only alphanumeric characters and **False** if not.\r\n",
        "\r\n",
        "Reference\r\n",
        "[link text](https://pythonexamples.org/python-string-check-if-alphanumeric/)"
      ]
    },
    {
      "cell_type": "code",
      "metadata": {
        "colab": {
          "base_uri": "https://localhost:8080/"
        },
        "id": "gM0vRX0smNyF",
        "outputId": "3fce73e3-3008-422f-9999-d6837f9c9c51"
      },
      "source": [
        "# Examples\r\n",
        "str = '6786501710' # asin startswith number\r\n",
        "result1 = str.isalnum() \r\n",
        "print(result1)\r\n",
        "\r\n",
        "str2 = 'B01HJH76J4' # asin startswith alphabet\r\n",
        "result2 = str2.isalnum() == True\r\n",
        "print(result2)\r\n",
        "\r\n",
        "str3 = \"\"\r\n",
        "result3 = str3.isalnum()\r\n",
        "print(result3)"
      ],
      "execution_count": null,
      "outputs": [
        {
          "output_type": "stream",
          "text": [
            "True\n",
            "True\n",
            "False\n"
          ],
          "name": "stdout"
        }
      ]
    },
    {
      "cell_type": "code",
      "metadata": {
        "id": "g2UQlI6RmmkS"
      },
      "source": [
        "#Function to remove null values from asin column\r\n",
        "def remove_null_in_asin(x):\r\n",
        "  if x.isalnum() == True:\r\n",
        "    return x\r\n",
        "  else:\r\n",
        "    return None"
      ],
      "execution_count": null,
      "outputs": []
    },
    {
      "cell_type": "code",
      "metadata": {
        "id": "g1c76U-Bmmnw"
      },
      "source": [
        "df4 = df3.copy()\r\n",
        "df4['asin'] = df4['asin'].apply(remove_null_in_asin)"
      ],
      "execution_count": null,
      "outputs": []
    },
    {
      "cell_type": "code",
      "metadata": {
        "colab": {
          "base_uri": "https://localhost:8080/"
        },
        "id": "eFJ1FP3emmrg",
        "outputId": "336cfec1-00dd-4c5d-cb12-73cd1e10aa58"
      },
      "source": [
        "df4['asin'].isnull().sum()"
      ],
      "execution_count": null,
      "outputs": [
        {
          "output_type": "execute_result",
          "data": {
            "text/plain": [
              "0"
            ]
          },
          "metadata": {
            "tags": []
          },
          "execution_count": 20
        }
      ]
    },
    {
      "cell_type": "markdown",
      "metadata": {
        "id": "ebW5Hlj2mxjc"
      },
      "source": [
        "**OBSERVATIONS**\r\n",
        "\r\n",
        "No null values in asin column"
      ]
    },
    {
      "cell_type": "code",
      "metadata": {
        "colab": {
          "base_uri": "https://localhost:8080/"
        },
        "id": "XZBNNv2lmmxL",
        "outputId": "369f2128-364a-4a9a-e8b4-9f2d24f689db"
      },
      "source": [
        "#Check whether do we have duplicate asin ?\r\n",
        "df4['asin'].value_counts()"
      ],
      "execution_count": null,
      "outputs": [
        {
          "output_type": "execute_result",
          "data": {
            "text/plain": [
              "B00005QEFQ    2\n",
              "B00020UWJC    2\n",
              "B00009VE3P    2\n",
              "B000059EHQ    2\n",
              "B00009IMCW    2\n",
              "             ..\n",
              "B00G4FBXEW    1\n",
              "B000UO5S3U    1\n",
              "B00ZF7G7GO    1\n",
              "B0081GGOOG    1\n",
              "B00250Y8OC    1\n",
              "Name: asin, Length: 565050, dtype: int64"
            ]
          },
          "metadata": {
            "tags": []
          },
          "execution_count": 21
        }
      ]
    },
    {
      "cell_type": "markdown",
      "metadata": {
        "id": "ygmG3jF-m4Hb"
      },
      "source": [
        "**OBSERVATIONS**\r\n",
        "\r\n",
        "*   There are repeated asin  or duplicate asin "
      ]
    },
    {
      "cell_type": "code",
      "metadata": {
        "colab": {
          "base_uri": "https://localhost:8080/"
        },
        "id": "k261mEgEm1fh",
        "outputId": "89f7c038-565e-43d8-e694-5455ec015a32"
      },
      "source": [
        "len(df4['asin'])"
      ],
      "execution_count": null,
      "outputs": [
        {
          "output_type": "execute_result",
          "data": {
            "text/plain": [
              "574070"
            ]
          },
          "metadata": {
            "tags": []
          },
          "execution_count": 22
        }
      ]
    },
    {
      "cell_type": "code",
      "metadata": {
        "id": "YKReNqn9m1jF"
      },
      "source": [
        "#remove the duplicate products\r\n",
        "df4.drop_duplicates(subset=\"asin\",keep=\"first\",inplace=True)"
      ],
      "execution_count": null,
      "outputs": []
    },
    {
      "cell_type": "code",
      "metadata": {
        "colab": {
          "base_uri": "https://localhost:8080/"
        },
        "id": "2gDRUAKKm1mR",
        "outputId": "f4c239bc-f3be-47bb-cb8e-4b02a317650c"
      },
      "source": [
        "df4['asin'].value_counts()"
      ],
      "execution_count": null,
      "outputs": [
        {
          "output_type": "execute_result",
          "data": {
            "text/plain": [
              "B00BWYFTNG    1\n",
              "B00IX2M68Q    1\n",
              "B00C8TMHOS    1\n",
              "B0171TS298    1\n",
              "B00DFHZ0BE    1\n",
              "             ..\n",
              "B00H2C1IM8    1\n",
              "B006JQUEH8    1\n",
              "B000O53HZQ    1\n",
              "B01H0MVHNO    1\n",
              "B00250Y8OC    1\n",
              "Name: asin, Length: 565050, dtype: int64"
            ]
          },
          "metadata": {
            "tags": []
          },
          "execution_count": 24
        }
      ]
    },
    {
      "cell_type": "code",
      "metadata": {
        "colab": {
          "base_uri": "https://localhost:8080/"
        },
        "id": "Yi4Uaop4nA_7",
        "outputId": "bc7fe298-f908-4bd2-873d-fd300ee3e97f"
      },
      "source": [
        "len(df4['asin']) #574070 to 565050"
      ],
      "execution_count": null,
      "outputs": [
        {
          "output_type": "execute_result",
          "data": {
            "text/plain": [
              "565050"
            ]
          },
          "metadata": {
            "tags": []
          },
          "execution_count": 25
        }
      ]
    },
    {
      "cell_type": "markdown",
      "metadata": {
        "id": "gACCNOATnJ3E"
      },
      "source": [
        "**3.title**"
      ]
    },
    {
      "cell_type": "code",
      "metadata": {
        "colab": {
          "base_uri": "https://localhost:8080/"
        },
        "id": "pohUYyFGnBDC",
        "outputId": "3c127316-a529-43c5-aa69-f4ca61a3f2c9"
      },
      "source": [
        "\r\n",
        "df4['title']"
      ],
      "execution_count": null,
      "outputs": [
        {
          "output_type": "execute_result",
          "data": {
            "text/plain": [
              "0            Dr. Suess 19163 Dr. Seuss Puzzle 3 Pack Bundle\n",
              "1               Pathfinder: Book of Beasts - Legendary Foes\n",
              "2                                  Nursery Rhymes Felt Book\n",
              "3                                     Dutch Blitz Card Game\n",
              "4                  Magic Pen Painting (Marvel Super Heroes)\n",
              "                                ...                        \n",
              "633876    jrelecs 2PCS 4MM Banana Plug to EC5 Male Conve...\n",
              "633877    Marvel Funko Pop Black Suit Spider-Man #79 (Gl...\n",
              "633879    Micord Baby Float Toddler Swimming Inflatable ...\n",
              "633880    Premium Swimming Pool Float Hammock, Inflatabl...\n",
              "633881    Lewo Wooden Baby Toddler Toys Circle First Bea...\n",
              "Name: title, Length: 565050, dtype: object"
            ]
          },
          "metadata": {
            "tags": []
          },
          "execution_count": 26
        }
      ]
    },
    {
      "cell_type": "markdown",
      "metadata": {
        "id": "in4My9sfnSHn"
      },
      "source": [
        "The strip() method removes any leading (spaces at the beginning) and trailing (spaces at the end) characters"
      ]
    },
    {
      "cell_type": "code",
      "metadata": {
        "id": "krlATceHnBG7"
      },
      "source": [
        "#lets remove start and end whitespaces in each title\r\n",
        "df4['title'] = df4['title'].str.strip()"
      ],
      "execution_count": null,
      "outputs": []
    },
    {
      "cell_type": "code",
      "metadata": {
        "colab": {
          "base_uri": "https://localhost:8080/"
        },
        "id": "II2mOJ3OnPZ4",
        "outputId": "41335a96-e0ef-48ea-8a2b-a867dc9d078b"
      },
      "source": [
        "#Check whether do we have duplicate title or repeated title ?\r\n",
        "df3['title'].value_counts()"
      ],
      "execution_count": null,
      "outputs": [
        {
          "output_type": "execute_result",
          "data": {
            "text/plain": [
              "Young Choi's Kids Toy Single Large Bubble Gun Shooter for Boys and Girls, Toy Bubble Blaster with LED Flashing Lights and Sounds Include Extra Refill Bottle, Outdoors Toy (Batteries Include)                  162\n",
              "Magnetic Gun Mount &amp; Holder for Car and Vehicle - 43 Lbs Rated - Heavy Duty Concealed Rubber Coated Magnet Gun Safe Holster for Pistol Handgun Revolver Shotgun Rifle Desk Truck Home - Firearm Accessor     66\n",
              "Water Drawing Mat &amp; 2 Magic Pens Medium 14.6x18.2&rdquo;. Arts Crafts Doodle Mat . No Mess Coloring. Play Mat for Kids. Water Painting Magic Mat Pad . Creative Learning                                     51\n",
              "Vet My Pet Dogs Cats - 1500mg - Natural Support Hip &amp; Joint - Provides Anxiety Relief - Better Mood Sleep - 100% Organic Treat Food Supplement Grown Extracted in USA All Pets                               35\n",
              " Magic                                                                                                                                                                                                           29\n",
              "                                                                                                                                                                                                               ... \n",
              "500 Pieces Of History - The Stone Age 500 Piece Jigsaw Puzzle                                                                                                                                                     1\n",
              "Spin and Store Video Table                                                                                                                                                                                        1\n",
              "LEGO City 60095 Deep Sea Exploration Vessel                                                                                                                                                                       1\n",
              "Minecraft Basic Action Figure, Steve with Pickaxe                                                                                                                                                                 1\n",
              "Black Calvin's 3x3x5 Cuboid Cube with Evgeniy logo                                                                                                                                                                1\n",
              "Name: title, Length: 560098, dtype: int64"
            ]
          },
          "metadata": {
            "tags": []
          },
          "execution_count": 29
        }
      ]
    },
    {
      "cell_type": "markdown",
      "metadata": {
        "id": "AYk4hPWNnbDu"
      },
      "source": [
        "**OBSERVATIONS**\r\n",
        "*   there are repeated titles in dataset"
      ]
    },
    {
      "cell_type": "code",
      "metadata": {
        "colab": {
          "base_uri": "https://localhost:8080/"
        },
        "id": "aP_nl1-rnPdx",
        "outputId": "28d9522e-2a51-4916-9874-63b3a8c4ca12"
      },
      "source": [
        "len(df4['title'])"
      ],
      "execution_count": null,
      "outputs": [
        {
          "output_type": "execute_result",
          "data": {
            "text/plain": [
              "565050"
            ]
          },
          "metadata": {
            "tags": []
          },
          "execution_count": 30
        }
      ]
    },
    {
      "cell_type": "code",
      "metadata": {
        "id": "KKJHTQQxnPhK"
      },
      "source": [
        "#remove the duplicate titles\r\n",
        "df4.drop_duplicates(subset=\"title\",keep=\"first\",inplace=True)"
      ],
      "execution_count": null,
      "outputs": []
    },
    {
      "cell_type": "code",
      "metadata": {
        "colab": {
          "base_uri": "https://localhost:8080/"
        },
        "id": "FPgE6v7gnPk1",
        "outputId": "5dce6041-e4d3-4490-eb65-6228709937c1"
      },
      "source": [
        "df4['title'].value_counts()"
      ],
      "execution_count": null,
      "outputs": [
        {
          "output_type": "execute_result",
          "data": {
            "text/plain": [
              "Kole Police Play Plastic Handcuffs                                               1\n",
              "Plants Vs Zombies Plush Toy Peashooter 17cm/6.7&quot; Tall (Small Size)          1\n",
              "Deoxys Ex Plasma Freeze 53/116 Pokemon Card Rare                                 1\n",
              "Fascinations Metal Earth Transformers Bumblebee 3D Metal Model Kit               1\n",
              "Magic the Gathering MTG - 10 Magic 2015 M15 Assorted Rare Cards                  1\n",
              "                                                                                ..\n",
              "Grey Falcon - Audubon Plush Bird (Authentic Bird Sound)                          1\n",
              "Citadel Scorched Grass                                                           1\n",
              "Yu-Gi-Oh! - Wattcancel (PHSW-EN073) - Photon Shockwave - 1st Edition - Common    1\n",
              "Animal Hospital Play Vet Set                                                     1\n",
              "                                                                                 1\n",
              "Name: title, Length: 559999, dtype: int64"
            ]
          },
          "metadata": {
            "tags": []
          },
          "execution_count": 32
        }
      ]
    },
    {
      "cell_type": "code",
      "metadata": {
        "colab": {
          "base_uri": "https://localhost:8080/"
        },
        "id": "7gFHdhHMnPn1",
        "outputId": "41db574c-f758-4d90-ee65-65ef437c0bec"
      },
      "source": [
        "len(df4['title']) #565050 to 559999"
      ],
      "execution_count": null,
      "outputs": [
        {
          "output_type": "execute_result",
          "data": {
            "text/plain": [
              "559999"
            ]
          },
          "metadata": {
            "tags": []
          },
          "execution_count": 33
        }
      ]
    },
    {
      "cell_type": "code",
      "metadata": {
        "colab": {
          "base_uri": "https://localhost:8080/"
        },
        "id": "FfWR50uEnPss",
        "outputId": "0a52bdc4-94bc-45b3-a5d0-83dda5a00a63"
      },
      "source": [
        "df4['title'].isnull().sum()"
      ],
      "execution_count": null,
      "outputs": [
        {
          "output_type": "execute_result",
          "data": {
            "text/plain": [
              "0"
            ]
          },
          "metadata": {
            "tags": []
          },
          "execution_count": 34
        }
      ]
    },
    {
      "cell_type": "markdown",
      "metadata": {
        "id": "oGGE9VqXnyyx"
      },
      "source": [
        "**OBSERVATIONS**\r\n",
        "\r\n",
        "There may be chance of null values,blank values in this column bacause the price column shows zero null values but in that column there are null values exist"
      ]
    },
    {
      "cell_type": "markdown",
      "metadata": {
        "id": "f6hRUxg2n2pa"
      },
      "source": [
        "You Cannot Use Python Regex in startswith() [link text](https://https://blog.finxter.com/regex-startswith-python/)\r\n",
        "\r\n",
        "So using tuple in startswith() function"
      ]
    },
    {
      "cell_type": "code",
      "metadata": {
        "id": "-YtkcUrHnBKI"
      },
      "source": [
        "alphanumeric = ['a','b','c','d','e','f','g','h','i','j','k','l','m','n','o','p','q','r','s','t','u','v','w','x','y','z',\r\n",
        "                'A','B','C','D','E','F','G','H','I','J','K','L','M','N','O','P','Q','R','S','T','U','V','W','X','Y','Z',\r\n",
        "                '1','2','3','4','5','6','7','8','9','0']\r\n",
        "def remove_null_in_title(x):\r\n",
        "  if x.startswith(tuple(alphanumeric)):\r\n",
        "    return x\r\n",
        "  else:\r\n",
        "    return None"
      ],
      "execution_count": null,
      "outputs": []
    },
    {
      "cell_type": "code",
      "metadata": {
        "id": "KdC49R-3nwHy"
      },
      "source": [
        "df5 = df4.copy()\r\n",
        "df5['title'] = df5['title'].apply(remove_null_in_title)"
      ],
      "execution_count": null,
      "outputs": []
    },
    {
      "cell_type": "code",
      "metadata": {
        "colab": {
          "base_uri": "https://localhost:8080/"
        },
        "id": "6ElfNxuznwLf",
        "outputId": "1fa6d98c-1486-4ed3-fe29-0c0df05fd621"
      },
      "source": [
        "df5['title'].isnull().sum()"
      ],
      "execution_count": null,
      "outputs": [
        {
          "output_type": "execute_result",
          "data": {
            "text/plain": [
              "2735"
            ]
          },
          "metadata": {
            "tags": []
          },
          "execution_count": 37
        }
      ]
    },
    {
      "cell_type": "code",
      "metadata": {
        "id": "vdSneavjnwPV"
      },
      "source": [
        "#drop the null values\r\n",
        "df6 = df5.dropna()"
      ],
      "execution_count": null,
      "outputs": []
    },
    {
      "cell_type": "code",
      "metadata": {
        "colab": {
          "base_uri": "https://localhost:8080/"
        },
        "id": "wgvpsI4snwSY",
        "outputId": "50611188-552e-48dd-e71a-a1fde90affbc"
      },
      "source": [
        "df6.shape"
      ],
      "execution_count": null,
      "outputs": [
        {
          "output_type": "execute_result",
          "data": {
            "text/plain": [
              "(557264, 3)"
            ]
          },
          "metadata": {
            "tags": []
          },
          "execution_count": 39
        }
      ]
    },
    {
      "cell_type": "code",
      "metadata": {
        "colab": {
          "base_uri": "https://localhost:8080/",
          "height": 106
        },
        "id": "Ick7vTaLnwWQ",
        "outputId": "1afadf6b-f1a3-4ce1-c2ea-def10bfb0970"
      },
      "source": [
        "df6.head(2)"
      ],
      "execution_count": null,
      "outputs": [
        {
          "output_type": "execute_result",
          "data": {
            "text/html": [
              "<div>\n",
              "<style scoped>\n",
              "    .dataframe tbody tr th:only-of-type {\n",
              "        vertical-align: middle;\n",
              "    }\n",
              "\n",
              "    .dataframe tbody tr th {\n",
              "        vertical-align: top;\n",
              "    }\n",
              "\n",
              "    .dataframe thead th {\n",
              "        text-align: right;\n",
              "    }\n",
              "</style>\n",
              "<table border=\"1\" class=\"dataframe\">\n",
              "  <thead>\n",
              "    <tr style=\"text-align: right;\">\n",
              "      <th></th>\n",
              "      <th>main_cat</th>\n",
              "      <th>asin</th>\n",
              "      <th>title</th>\n",
              "    </tr>\n",
              "  </thead>\n",
              "  <tbody>\n",
              "    <tr>\n",
              "      <th>0</th>\n",
              "      <td>Toys &amp; Games</td>\n",
              "      <td>0000191639</td>\n",
              "      <td>Dr. Suess 19163 Dr. Seuss Puzzle 3 Pack Bundle</td>\n",
              "    </tr>\n",
              "    <tr>\n",
              "      <th>1</th>\n",
              "      <td>Toys &amp; Games</td>\n",
              "      <td>0004950763</td>\n",
              "      <td>Pathfinder: Book of Beasts - Legendary Foes</td>\n",
              "    </tr>\n",
              "  </tbody>\n",
              "</table>\n",
              "</div>"
            ],
            "text/plain": [
              "       main_cat        asin                                           title\n",
              "0  Toys & Games  0000191639  Dr. Suess 19163 Dr. Seuss Puzzle 3 Pack Bundle\n",
              "1  Toys & Games  0004950763     Pathfinder: Book of Beasts - Legendary Foes"
            ]
          },
          "metadata": {
            "tags": []
          },
          "execution_count": 40
        }
      ]
    },
    {
      "cell_type": "code",
      "metadata": {
        "colab": {
          "base_uri": "https://localhost:8080/"
        },
        "id": "7cV0wvMw698k",
        "outputId": "dd64cc15-08cd-4050-b635-970615fd3c95"
      },
      "source": [
        "df6.isnull().sum()"
      ],
      "execution_count": null,
      "outputs": [
        {
          "output_type": "execute_result",
          "data": {
            "text/plain": [
              "main_cat    0\n",
              "asin        0\n",
              "title       0\n",
              "dtype: int64"
            ]
          },
          "metadata": {
            "tags": []
          },
          "execution_count": 41
        }
      ]
    },
    {
      "cell_type": "code",
      "metadata": {
        "id": "zqF3KA_to0-E"
      },
      "source": [
        "#drop the column 'main_cat' column\r\n",
        "df6 = df6.drop(['main_cat'],axis=1)"
      ],
      "execution_count": null,
      "outputs": []
    },
    {
      "cell_type": "code",
      "metadata": {
        "colab": {
          "base_uri": "https://localhost:8080/"
        },
        "id": "ntQiUbJOo1DC",
        "outputId": "c8fd9263-d5fa-4bcc-894b-0d9e2dfc438b"
      },
      "source": [
        "df6.shape"
      ],
      "execution_count": null,
      "outputs": [
        {
          "output_type": "execute_result",
          "data": {
            "text/plain": [
              "(557264, 2)"
            ]
          },
          "metadata": {
            "tags": []
          },
          "execution_count": 43
        }
      ]
    },
    {
      "cell_type": "code",
      "metadata": {
        "id": "tksWlFhJo9US"
      },
      "source": [
        "#convert dataframe to csv\r\n",
        "df6.to_csv(\"Toys and Games Metadata dataset.csv\",index=False)"
      ],
      "execution_count": null,
      "outputs": []
    },
    {
      "cell_type": "code",
      "metadata": {
        "id": "aumg2r1XqiI_"
      },
      "source": [
        ""
      ],
      "execution_count": null,
      "outputs": []
    }
  ]
}